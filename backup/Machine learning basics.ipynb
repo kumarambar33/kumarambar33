{
 "cells": [
  {
   "cell_type": "code",
   "execution_count": 1,
   "id": "ed0735e3",
   "metadata": {},
   "outputs": [],
   "source": [
    "import pandas as pd\n",
    "import seaborn as sb\n",
    "import numpy as np\n",
    "import re\n",
    "import matplotlib.pyplot as plt\n",
    "from collections import Counter\n",
    "import random\n",
    "%matplotlib inline\n",
    "df1=pd.read_csv('temperature.csv',parse_dates=['Date'])\n",
    "df1.set_index('Date',inplace=True)\n",
    "df1.drop('Unnamed: 0',axis=1,inplace=True)\n",
    "df=pd.read_csv('netflix_titles.csv')"
   ]
  },
  {
   "cell_type": "markdown",
   "id": "fbc2cc34",
   "metadata": {},
   "source": [
    "NUMPY link https://www.youtube.com/watch?v=eiBFzfEhcdw"
   ]
  },
  {
   "cell_type": "code",
   "execution_count": 10,
   "id": "4122a1e2",
   "metadata": {},
   "outputs": [
    {
     "data": {
      "text/plain": [
       "array([[1, 2, 3],\n",
       "       [4, 5, 6],\n",
       "       [7, 8, 9]])"
      ]
     },
     "execution_count": 10,
     "metadata": {},
     "output_type": "execute_result"
    }
   ],
   "source": [
    "#numpy array take list,sets and tuples as input\n",
    "# a=[1,2,3],b=[1,2,3] c=a+b wont give 2,4,6 cuz in list + means concat so to add use numpy\n",
    "a=np.array([[[1,2,3,4,5,6,7,8,9]]]).reshape(3,3)\n",
    "a"
   ]
  },
  {
   "cell_type": "code",
   "execution_count": 13,
   "id": "fce95d35",
   "metadata": {},
   "outputs": [
    {
     "data": {
      "text/plain": [
       "2"
      ]
     },
     "execution_count": 13,
     "metadata": {},
     "output_type": "execute_result"
    }
   ],
   "source": [
    "np.ndim(a)"
   ]
  },
  {
   "cell_type": "code",
   "execution_count": 15,
   "id": "ff23b6b4",
   "metadata": {},
   "outputs": [
    {
     "data": {
      "text/plain": [
       "array([[[1, 2, 3]],\n",
       "\n",
       "       [[4, 5, 6]],\n",
       "\n",
       "       [[7, 8, 9]]])"
      ]
     },
     "execution_count": 15,
     "metadata": {},
     "output_type": "execute_result"
    }
   ],
   "source": [
    "b=a.reshape(3,1,3)\n",
    "b"
   ]
  },
  {
   "cell_type": "code",
   "execution_count": 16,
   "id": "0c69e9d4",
   "metadata": {},
   "outputs": [
    {
     "data": {
      "text/plain": [
       "3"
      ]
     },
     "execution_count": 16,
     "metadata": {},
     "output_type": "execute_result"
    }
   ],
   "source": [
    "np.ndim(b)"
   ]
  },
  {
   "cell_type": "code",
   "execution_count": 18,
   "id": "95d7e202",
   "metadata": {},
   "outputs": [
    {
     "data": {
      "text/plain": [
       "4"
      ]
     },
     "execution_count": 18,
     "metadata": {},
     "output_type": "execute_result"
    }
   ],
   "source": [
    "np.ndim(np.array([[[[1,2,3,4,5,6,7,8,9]]]]))#4d array"
   ]
  },
  {
   "cell_type": "code",
   "execution_count": 19,
   "id": "ca794f41",
   "metadata": {},
   "outputs": [
    {
     "data": {
      "text/plain": [
       "(1, 1, 1, 9)"
      ]
     },
     "execution_count": 19,
     "metadata": {},
     "output_type": "execute_result"
    }
   ],
   "source": [
    "np.shape(np.array([[[[1,2,3,4,5,6,7,8,9]]]]))#4d array"
   ]
  },
  {
   "cell_type": "code",
   "execution_count": 26,
   "id": "70d83a9f",
   "metadata": {},
   "outputs": [
    {
     "data": {
      "text/plain": [
       "(2, 5)"
      ]
     },
     "execution_count": 26,
     "metadata": {},
     "output_type": "execute_result"
    }
   ],
   "source": [
    "np.shape(np.array([[1,2,3,4,5],[5,6,7,8,9]]))#2d array so if u use two or more list in array all shud have same # of elements"
   ]
  },
  {
   "cell_type": "code",
   "execution_count": null,
   "id": "bc6e2539",
   "metadata": {},
   "outputs": [],
   "source": []
  },
  {
   "cell_type": "code",
   "execution_count": 2,
   "id": "7365b94e",
   "metadata": {},
   "outputs": [],
   "source": [
    "x=np.array([1,2,3,4,5])\n",
    "y=np.array([[1,2,3,4,5],[1,2,3,4,5]])\n",
    "z=np.array([[[1,2,3,4,5],[1,2,3,4,5],[1,2,3,4,5]]])\n"
   ]
  },
  {
   "cell_type": "code",
   "execution_count": 31,
   "id": "c8c99000",
   "metadata": {},
   "outputs": [
    {
     "ename": "ValueError",
     "evalue": "operands could not be broadcast together with shapes (2,5) (1,3,5) ",
     "output_type": "error",
     "traceback": [
      "\u001b[1;31m---------------------------------------------------------------------------\u001b[0m",
      "\u001b[1;31mValueError\u001b[0m                                Traceback (most recent call last)",
      "\u001b[1;32m~\\AppData\\Local\\Temp\\2/ipykernel_18848/3405912196.py\u001b[0m in \u001b[0;36m<module>\u001b[1;34m\u001b[0m\n\u001b[1;32m----> 1\u001b[1;33m \u001b[0mx\u001b[0m\u001b[1;33m+\u001b[0m\u001b[0my\u001b[0m\u001b[1;33m+\u001b[0m\u001b[0mz\u001b[0m\u001b[1;33m\u001b[0m\u001b[1;33m\u001b[0m\u001b[0m\n\u001b[0m",
      "\u001b[1;31mValueError\u001b[0m: operands could not be broadcast together with shapes (2,5) (1,3,5) "
     ]
    }
   ],
   "source": [
    "x+y+z#this wont work due to diff dim"
   ]
  },
  {
   "cell_type": "code",
   "execution_count": 52,
   "id": "c1898acd",
   "metadata": {},
   "outputs": [
    {
     "data": {
      "text/plain": [
       "15"
      ]
     },
     "execution_count": 52,
     "metadata": {},
     "output_type": "execute_result"
    }
   ],
   "source": [
    "z.size"
   ]
  },
  {
   "cell_type": "code",
   "execution_count": 53,
   "id": "fb5bba67",
   "metadata": {},
   "outputs": [
    {
     "name": "stdout",
     "output_type": "stream",
     "text": [
      "5\n",
      "2\n",
      "1\n"
     ]
    }
   ],
   "source": [
    "print(len(x))#outpt is 5 cuz 5 element in 1d array but for more tha n1d array logic diff\n",
    "print(len(y))#ouput is 2 cuz logic len(3darray)=no of (3-1)d array so y has two 2da array so 2\n",
    "print(len(z))"
   ]
  },
  {
   "cell_type": "code",
   "execution_count": 5,
   "id": "c1f20639",
   "metadata": {},
   "outputs": [
    {
     "name": "stdout",
     "output_type": "stream",
     "text": [
      "(5,)\n",
      "(2, 5)\n",
      "(1, 3, 5)\n"
     ]
    }
   ],
   "source": [
    "print(np.shape(x))\n",
    "print(np.shape(y))\n",
    "print(np.shape(z))\n",
    "#note in output 1st al is same as leng 5,2,1 as above 2nd val tel no of element shape of 1st val\n",
    "#eg (1,3,5) tel there is 3d array(due to 3 values) which has one 2d array of dim 3 rows and 5 cols\n",
    "# (2,5) tel its 2 d array with 2 rows and 5 cols or two 1d arrays and each array 5 elements"
   ]
  },
  {
   "cell_type": "code",
   "execution_count": 9,
   "id": "6171a99c",
   "metadata": {},
   "outputs": [
    {
     "data": {
      "text/plain": [
       "array([7, 4, 4, 9, 8, 6, 9, 1, 6, 1])"
      ]
     },
     "execution_count": 9,
     "metadata": {},
     "output_type": "execute_result"
    }
   ],
   "source": [
    "#to generate random arrays\n",
    "np.random.randint(1,10,10)#for 1d"
   ]
  },
  {
   "cell_type": "code",
   "execution_count": 12,
   "id": "40d2e4f7",
   "metadata": {},
   "outputs": [
    {
     "data": {
      "text/plain": [
       "array([[5, 8],\n",
       "       [4, 2],\n",
       "       [9, 8]])"
      ]
     },
     "execution_count": 12,
     "metadata": {},
     "output_type": "execute_result"
    }
   ],
   "source": [
    "np.random.randint(1,10,(3,2))#for 2d"
   ]
  },
  {
   "cell_type": "code",
   "execution_count": 13,
   "id": "1464301a",
   "metadata": {},
   "outputs": [
    {
     "data": {
      "text/plain": [
       "array([[[4, 5, 2],\n",
       "        [2, 1, 9]],\n",
       "\n",
       "       [[1, 7, 3],\n",
       "        [6, 2, 6]],\n",
       "\n",
       "       [[3, 9, 5],\n",
       "        [6, 3, 3]]])"
      ]
     },
     "execution_count": 13,
     "metadata": {},
     "output_type": "execute_result"
    }
   ],
   "source": [
    "np.random.randint(1,10,(3,2,3))#for 3d"
   ]
  },
  {
   "cell_type": "code",
   "execution_count": 14,
   "id": "d62621a9",
   "metadata": {},
   "outputs": [
    {
     "data": {
      "text/plain": [
       "60"
      ]
     },
     "execution_count": 14,
     "metadata": {},
     "output_type": "execute_result"
    }
   ],
   "source": [
    "np.random.randint(100)#jus gives a single random from 1-99"
   ]
  },
  {
   "cell_type": "code",
   "execution_count": 18,
   "id": "a5f0cd63",
   "metadata": {},
   "outputs": [],
   "source": [
    "# np.random.seed() THIS IS used inorde to get same random output every time bsee below"
   ]
  },
  {
   "cell_type": "code",
   "execution_count": 24,
   "id": "9901884b",
   "metadata": {},
   "outputs": [
    {
     "data": {
      "text/plain": [
       "93"
      ]
     },
     "execution_count": 24,
     "metadata": {},
     "output_type": "execute_result"
    }
   ],
   "source": [
    "np.random.randint(100)#this without random seed"
   ]
  },
  {
   "cell_type": "code",
   "execution_count": 28,
   "id": "a0144f6f",
   "metadata": {},
   "outputs": [
    {
     "data": {
      "text/plain": [
       "25"
      ]
     },
     "execution_count": 28,
     "metadata": {},
     "output_type": "execute_result"
    }
   ],
   "source": [
    "np.random.seed(11)#the arg can be any number\n",
    "np.random.randint(100)#run this cell u'll get same o/p"
   ]
  },
  {
   "cell_type": "code",
   "execution_count": 35,
   "id": "5911c611",
   "metadata": {},
   "outputs": [
    {
     "data": {
      "text/plain": [
       "array([9, 4])"
      ]
     },
     "execution_count": 35,
     "metadata": {},
     "output_type": "execute_result"
    }
   ],
   "source": [
    "np.random.seed(3)#if u change this arg and run o/pt will change but will o/p same if  runn this cell again and again\n",
    "np.random.randint(1,10,2)"
   ]
  },
  {
   "cell_type": "code",
   "execution_count": null,
   "id": "db94b884",
   "metadata": {},
   "outputs": [],
   "source": [
    "#see below again same result even after many years o/pt will be same and seed can take value from 0 to 2**32-1"
   ]
  },
  {
   "cell_type": "code",
   "execution_count": 36,
   "id": "33c37789",
   "metadata": {},
   "outputs": [
    {
     "data": {
      "text/plain": [
       "array([9, 4])"
      ]
     },
     "execution_count": 36,
     "metadata": {},
     "output_type": "execute_result"
    }
   ],
   "source": [
    "np.random.seed(3)#if u change this arg and run o/pt will change but will o/p same if  runn this cell again and again\n",
    "np.random.randint(1,10,2)"
   ]
  },
  {
   "cell_type": "code",
   "execution_count": 42,
   "id": "0993a54e",
   "metadata": {},
   "outputs": [
    {
     "data": {
      "text/plain": [
       "array([7.94188579, 1.18676754])"
      ]
     },
     "execution_count": 42,
     "metadata": {},
     "output_type": "execute_result"
    }
   ],
   "source": [
    "np.random.seed(10)\n",
    "np.random.uniform(1,10,2)#to get floating values"
   ]
  },
  {
   "cell_type": "code",
   "execution_count": 44,
   "id": "06507a50",
   "metadata": {},
   "outputs": [
    {
     "data": {
      "text/plain": [
       "array([7.9419, 1.1868])"
      ]
     },
     "execution_count": 44,
     "metadata": {},
     "output_type": "execute_result"
    }
   ],
   "source": [
    "np.random.seed(10)\n",
    "np.round(np.random.uniform(1,10,2),4)"
   ]
  },
  {
   "cell_type": "code",
   "execution_count": 47,
   "id": "3f6b7574",
   "metadata": {},
   "outputs": [
    {
     "data": {
      "text/plain": [
       "4.0"
      ]
     },
     "execution_count": 47,
     "metadata": {},
     "output_type": "execute_result"
    }
   ],
   "source": [
    "np.ceil(2.33) and np.floor(4.29)"
   ]
  },
  {
   "cell_type": "code",
   "execution_count": 74,
   "id": "e7cb15be",
   "metadata": {},
   "outputs": [
    {
     "name": "stdout",
     "output_type": "stream",
     "text": [
      "2\n",
      "[[[1 2 3 4 5]\n",
      "  [1 2 3 4 5]\n",
      "  [1 2 3 4 5]]]\n",
      "(1, 3, 5)\n"
     ]
    }
   ],
   "source": [
    "print(z[0,2,1])#to print elemnt of 3d array \n",
    "print(z)\n",
    "print(z.shape)"
   ]
  },
  {
   "cell_type": "code",
   "execution_count": 77,
   "id": "23f8ab7b",
   "metadata": {},
   "outputs": [
    {
     "name": "stdout",
     "output_type": "stream",
     "text": [
      "30\n",
      "[ 2  4  6  8 10]\n",
      "[15 15]\n",
      "[[1 2 3 4 5]\n",
      " [1 2 3 4 5]]\n"
     ]
    }
   ],
   "source": [
    "print(y.sum())\n",
    "print(y.sum(axis=0))#0 menas column addtion\n",
    "print(y.sum(axis=1))# rowsie\n",
    "print(y)\n"
   ]
  },
  {
   "cell_type": "code",
   "execution_count": 110,
   "id": "e3b0e018",
   "metadata": {},
   "outputs": [
    {
     "name": "stdout",
     "output_type": "stream",
     "text": [
      "5\n",
      "0\n",
      "[1 2]\n",
      "[0 0 0]\n",
      "[1 2]\n",
      "[0 0 0]\n"
     ]
    },
    {
     "data": {
      "text/plain": [
       "array([[97, 77, 80],\n",
       "       [12, 41,  8]])"
      ]
     },
     "execution_count": 110,
     "metadata": {},
     "output_type": "execute_result"
    }
   ],
   "source": [
    "np.random.seed(2121)\n",
    "y=np.random.randint(1,100,(2,3))\n",
    "print(y.argmin()) #both these tels pos of max and min val\n",
    "print(y.argmax())\n",
    "print(y.argmin(axis=1)) #both these tels pos of max and min val\n",
    "print(y.argmax(axis=0))\n",
    "print(y.argmin(axis=1)) #both these tels pos of max and min val\n",
    "print(y.argmax(axis=0))\n",
    "y"
   ]
  },
  {
   "cell_type": "code",
   "execution_count": 90,
   "id": "86692703",
   "metadata": {},
   "outputs": [
    {
     "data": {
      "text/plain": [
       "array([[24,  4, 30],\n",
       "       [17, 85, 83]])"
      ]
     },
     "execution_count": 90,
     "metadata": {},
     "output_type": "execute_result"
    }
   ],
   "source": [
    "y"
   ]
  },
  {
   "cell_type": "code",
   "execution_count": 111,
   "id": "2b492ba9",
   "metadata": {},
   "outputs": [
    {
     "data": {
      "text/plain": [
       "array([[97., 77., 80.],\n",
       "       [12., 41.,  8.]], dtype=float32)"
      ]
     },
     "execution_count": 111,
     "metadata": {},
     "output_type": "execute_result"
    }
   ],
   "source": [
    "#to change to dtype\n",
    "y.astype('float32')"
   ]
  },
  {
   "cell_type": "code",
   "execution_count": 122,
   "id": "20784f5a",
   "metadata": {},
   "outputs": [
    {
     "name": "stdout",
     "output_type": "stream",
     "text": [
      "[[0 0 0]\n",
      " [0 0 0]\n",
      " [0 0 0]]\n",
      "\n",
      "[[1 1 1]\n",
      " [1 1 1]\n",
      " [1 1 1]]\n",
      "\n",
      "[[1 0 0]\n",
      " [0 1 0]\n",
      " [0 0 1]]\n",
      "\n"
     ]
    }
   ],
   "source": [
    "print(np.zeros((3,3),np.uint32),end='\\n\\n')\n",
    "print(np.ones((3,3),np.uint32),end='\\n\\n')\n",
    "print(np.identity(3,np.uint32),end='\\n\\n')"
   ]
  },
  {
   "cell_type": "code",
   "execution_count": 125,
   "id": "6a9c8bfb",
   "metadata": {},
   "outputs": [
    {
     "data": {
      "text/plain": [
       "'a#m#b#a#r'"
      ]
     },
     "execution_count": 125,
     "metadata": {},
     "output_type": "execute_result"
    }
   ],
   "source": [
    "\"#\".join('ambar')"
   ]
  },
  {
   "cell_type": "code",
   "execution_count": 129,
   "id": "c3f213f4",
   "metadata": {},
   "outputs": [
    {
     "data": {
      "text/plain": [
       "['r', 'c', 'v', 'd', '2']"
      ]
     },
     "execution_count": 129,
     "metadata": {},
     "output_type": "execute_result"
    }
   ],
   "source": [
    "s='liuytrewdnbvcx675432'\n",
    "random.sample(s,5)#to get rabdom string set from a string"
   ]
  },
  {
   "cell_type": "code",
   "execution_count": 130,
   "id": "73963954",
   "metadata": {},
   "outputs": [
    {
     "data": {
      "text/plain": [
       "'rdbl5'"
      ]
     },
     "execution_count": 130,
     "metadata": {},
     "output_type": "execute_result"
    }
   ],
   "source": [
    "s='liuytrewdnbvcx675432'\n",
    "''.join(random.sample(s,5))#to get rabdom string set from a string"
   ]
  },
  {
   "cell_type": "code",
   "execution_count": 333,
   "id": "5eae009a",
   "metadata": {},
   "outputs": [
    {
     "data": {
      "image/png": "[encoded data removed]",
      "text/plain": [
       "<Figure size 720x432 with 1 Axes>"
      ]
     },
     "metadata": {
      "needs_background": "light"
     },
     "output_type": "display_data"
    }
   ],
   "source": [
    "x=np.random.randint(1,100,50)\n",
    "y=np.random.randint(1,200,50)\n",
    "plt.rcParams['figure.figsize']=(10,6)\n",
    "plt.plot(x,lw=2,label='square',ls='--')\n",
    "plt.plot(y,lw=2,label='4x',ls='--')\n",
    "plt.scatter(x,y,lw=5,label='2x',s=x,marker='*',color='purple')\n",
    "plt.barh(y,width=x,lw=5,label='2x',color='purple')\n",
    "plt.hist(y,rwidth=10000,bins=100)\n",
    "\n",
    "plt.xticks(x)#to get x values or x axis labels\n",
    "plt.legend(loc=4)#put legend before show() else legend wont be shown\n",
    "plt.grid(color='violet',lw=1,ls='dotted')\n",
    "plt.show()\n"
   ]
  },
  {
   "cell_type": "code",
   "execution_count": 86,
   "id": "03d2f488",
   "metadata": {},
   "outputs": [
    {
     "data": {
      "image/png": "[encoded data removed]",
      "text/plain": [
       "<Figure size 792x792 with 1 Axes>"
      ]
     },
     "metadata": {
      "needs_background": "light"
     },
     "output_type": "display_data"
    }
   ],
   "source": [
    "#another way to get thtat plot\n",
    "plt.rcParams['figure.figsize']=(11,11)\n",
    "np.random.seed(11)\n",
    "x=np.arange(1,11)\n",
    "y=np.random.randint(1,100,10)\n",
    "plt.plot(x,y+2,color='blue',ls='dotted',lw=3)\n",
    "plt.xticks(x)\n",
    "plt.scatter(x,y-1,color='green',s=500,marker='s',lw=5,edgecolor='black')\n",
    "z=plt.bar(x,y,width=0.1,color='red')\n",
    "\n",
    "plt.show()\n"
   ]
  },
  {
   "cell_type": "code",
   "execution_count": 98,
   "id": "94a7f4db",
   "metadata": {},
   "outputs": [
    {
     "data": {
      "image/png": "[encoded data removed]",
      "text/plain": [
       "<Figure size 792x792 with 1 Axes>"
      ]
     },
     "metadata": {
      "needs_background": "light"
     },
     "output_type": "display_data"
    }
   ],
   "source": [
    "z=plt.barh(x,y,height=0.7,color='red')"
   ]
  },
  {
   "cell_type": "code",
   "execution_count": 104,
   "id": "b85548ba",
   "metadata": {},
   "outputs": [
    {
     "name": "stderr",
     "output_type": "stream",
     "text": [
      "C:\\Users\\2112161\\Anaconda3\\lib\\site-packages\\seaborn\\_decorators.py:36: FutureWarning: Pass the following variables as keyword args: x, y. From version 0.12, the only valid positional argument will be `data`, and passing other arguments without an explicit keyword will result in an error or misinterpretation.\n",
      "  warnings.warn(\n",
      "C:\\Users\\2112161\\Anaconda3\\lib\\site-packages\\seaborn\\_decorators.py:36: FutureWarning: Pass the following variables as keyword args: x, y. From version 0.12, the only valid positional argument will be `data`, and passing other arguments without an explicit keyword will result in an error or misinterpretation.\n",
      "  warnings.warn(\n"
     ]
    },
    {
     "data": {
      "text/plain": [
       "<seaborn.axisgrid.FacetGrid at 0x1ec28c0ce50>"
      ]
     },
     "execution_count": 104,
     "metadata": {},
     "output_type": "execute_result"
    },
    {
     "data": {
      "image/png": "[encoded data removed]",
      "text/plain": [
       "<Figure size 360x360 with 1 Axes>"
      ]
     },
     "metadata": {
      "needs_background": "light"
     },
     "output_type": "display_data"
    },
    {
     "data": {
      "image/png": "[encoded data removed]",
      "text/plain": [
       "<Figure size 360x360 with 1 Axes>"
      ]
     },
     "metadata": {
      "needs_background": "light"
     },
     "output_type": "display_data"
    }
   ],
   "source": [
    "sb.relplot(x,y,)#like scatter plot in seaborn below theres a sperrate scatterplot func also\n",
    "sb.relplot(x,y,kind='line')"
   ]
  },
  {
   "cell_type": "code",
   "execution_count": 103,
   "id": "9de4b46d",
   "metadata": {},
   "outputs": [
    {
     "name": "stderr",
     "output_type": "stream",
     "text": [
      "C:\\Users\\2112161\\Anaconda3\\lib\\site-packages\\seaborn\\_decorators.py:36: FutureWarning: Pass the following variables as keyword args: x, y. From version 0.12, the only valid positional argument will be `data`, and passing other arguments without an explicit keyword will result in an error or misinterpretation.\n",
      "  warnings.warn(\n"
     ]
    },
    {
     "data": {
      "text/plain": [
       "<AxesSubplot:>"
      ]
     },
     "execution_count": 103,
     "metadata": {},
     "output_type": "execute_result"
    },
    {
     "data": {
      "image/png": "[encoded data removed]",
      "text/plain": [
       "<Figure size 792x792 with 1 Axes>"
      ]
     },
     "metadata": {
      "needs_background": "light"
     },
     "output_type": "display_data"
    }
   ],
   "source": [
    "sb.scatterplot(x,y)"
   ]
  },
  {
   "cell_type": "code",
   "execution_count": 114,
   "id": "a98bd48a",
   "metadata": {},
   "outputs": [
    {
     "name": "stderr",
     "output_type": "stream",
     "text": [
      "C:\\Users\\2112161\\Anaconda3\\lib\\site-packages\\seaborn\\_decorators.py:36: FutureWarning: Pass the following variables as keyword args: x, y. From version 0.12, the only valid positional argument will be `data`, and passing other arguments without an explicit keyword will result in an error or misinterpretation.\n",
      "  warnings.warn(\n",
      "C:\\Users\\2112161\\Anaconda3\\lib\\site-packages\\seaborn\\_decorators.py:36: FutureWarning: Pass the following variables as keyword args: x, y. From version 0.12, the only valid positional argument will be `data`, and passing other arguments without an explicit keyword will result in an error or misinterpretation.\n",
      "  warnings.warn(\n"
     ]
    },
    {
     "data": {
      "text/plain": [
       "<seaborn.axisgrid.FacetGrid at 0x1ec270b2850>"
      ]
     },
     "execution_count": 114,
     "metadata": {},
     "output_type": "execute_result"
    },
    {
     "data": {
      "image/png": "[encoded data removed]",
      "text/plain": [
       "<Figure size 418.875x360 with 1 Axes>"
      ]
     },
     "metadata": {
      "needs_background": "light"
     },
     "output_type": "display_data"
    },
    {
     "data": {
      "image/png": "[encoded data removed]",
      "text/plain": [
       "<Figure size 778.875x720 with 4 Axes>"
      ]
     },
     "metadata": {
      "needs_background": "light"
     },
     "output_type": "display_data"
    }
   ],
   "source": [
    "t=sb.load_dataset('tips')\n",
    "sb.relplot(t.total_bill,t.tip,hue='day',data=t)\n",
    "sb.relplot(t.total_bill,t.tip,hue='day',data=t,col=t.day,col_wrap=2)#col warps tell how mnay col u wnat\n",
    "#this above line will show day wise plot"
   ]
  },
  {
   "cell_type": "code",
   "execution_count": 17,
   "id": "d8133a32",
   "metadata": {},
   "outputs": [
    {
     "ename": "ValueError",
     "evalue": "Shape of passed values is (9, 1), indices imply (3, 3)",
     "output_type": "error",
     "traceback": [
      "\u001b[1;31m---------------------------------------------------------------------------\u001b[0m",
      "\u001b[1;31mValueError\u001b[0m                                Traceback (most recent call last)",
      "\u001b[1;32m~\\AppData\\Local\\Temp\\6/ipykernel_14152/3760808083.py\u001b[0m in \u001b[0;36m<module>\u001b[1;34m\u001b[0m\n\u001b[1;32m----> 1\u001b[1;33m \u001b[0md\u001b[0m\u001b[1;33m=\u001b[0m\u001b[0mpd\u001b[0m\u001b[1;33m.\u001b[0m\u001b[0mDataFrame\u001b[0m\u001b[1;33m(\u001b[0m\u001b[0mnp\u001b[0m\u001b[1;33m.\u001b[0m\u001b[0marange\u001b[0m\u001b[1;33m(\u001b[0m\u001b[1;36m1\u001b[0m\u001b[1;33m,\u001b[0m\u001b[1;36m10\u001b[0m\u001b[1;33m)\u001b[0m\u001b[1;33m,\u001b[0m\u001b[0mindex\u001b[0m\u001b[1;33m=\u001b[0m\u001b[1;33m[\u001b[0m\u001b[1;36m1\u001b[0m\u001b[1;33m,\u001b[0m\u001b[1;36m2\u001b[0m\u001b[1;33m,\u001b[0m\u001b[1;36m3\u001b[0m\u001b[1;33m]\u001b[0m\u001b[1;33m,\u001b[0m\u001b[0mcolumns\u001b[0m\u001b[1;33m=\u001b[0m\u001b[1;33m[\u001b[0m\u001b[1;36m1\u001b[0m\u001b[1;33m,\u001b[0m\u001b[1;36m2\u001b[0m\u001b[1;33m,\u001b[0m\u001b[1;36m3\u001b[0m\u001b[1;33m]\u001b[0m\u001b[1;33m)\u001b[0m\u001b[1;33m\u001b[0m\u001b[1;33m\u001b[0m\u001b[0m\n\u001b[0m\u001b[0;32m      2\u001b[0m \u001b[0md\u001b[0m\u001b[1;33m\u001b[0m\u001b[1;33m\u001b[0m\u001b[0m\n",
      "\u001b[1;32m~\\Anaconda3\\lib\\site-packages\\pandas\\core\\frame.py\u001b[0m in \u001b[0;36m__init__\u001b[1;34m(self, data, index, columns, dtype, copy)\u001b[0m\n\u001b[0;32m    670\u001b[0m                 )\n\u001b[0;32m    671\u001b[0m             \u001b[1;32melse\u001b[0m\u001b[1;33m:\u001b[0m\u001b[1;33m\u001b[0m\u001b[1;33m\u001b[0m\u001b[0m\n\u001b[1;32m--> 672\u001b[1;33m                 mgr = ndarray_to_mgr(\n\u001b[0m\u001b[0;32m    673\u001b[0m                     \u001b[0mdata\u001b[0m\u001b[1;33m,\u001b[0m\u001b[1;33m\u001b[0m\u001b[1;33m\u001b[0m\u001b[0m\n\u001b[0;32m    674\u001b[0m                     \u001b[0mindex\u001b[0m\u001b[1;33m,\u001b[0m\u001b[1;33m\u001b[0m\u001b[1;33m\u001b[0m\u001b[0m\n",
      "\u001b[1;32m~\\Anaconda3\\lib\\site-packages\\pandas\\core\\internals\\construction.py\u001b[0m in \u001b[0;36mndarray_to_mgr\u001b[1;34m(values, index, columns, dtype, copy, typ)\u001b[0m\n\u001b[0;32m    322\u001b[0m     )\n\u001b[0;32m    323\u001b[0m \u001b[1;33m\u001b[0m\u001b[0m\n\u001b[1;32m--> 324\u001b[1;33m     \u001b[0m_check_values_indices_shape_match\u001b[0m\u001b[1;33m(\u001b[0m\u001b[0mvalues\u001b[0m\u001b[1;33m,\u001b[0m \u001b[0mindex\u001b[0m\u001b[1;33m,\u001b[0m \u001b[0mcolumns\u001b[0m\u001b[1;33m)\u001b[0m\u001b[1;33m\u001b[0m\u001b[1;33m\u001b[0m\u001b[0m\n\u001b[0m\u001b[0;32m    325\u001b[0m \u001b[1;33m\u001b[0m\u001b[0m\n\u001b[0;32m    326\u001b[0m     \u001b[1;32mif\u001b[0m \u001b[0mtyp\u001b[0m \u001b[1;33m==\u001b[0m \u001b[1;34m\"array\"\u001b[0m\u001b[1;33m:\u001b[0m\u001b[1;33m\u001b[0m\u001b[1;33m\u001b[0m\u001b[0m\n",
      "\u001b[1;32m~\\Anaconda3\\lib\\site-packages\\pandas\\core\\internals\\construction.py\u001b[0m in \u001b[0;36m_check_values_indices_shape_match\u001b[1;34m(values, index, columns)\u001b[0m\n\u001b[0;32m    391\u001b[0m         \u001b[0mpassed\u001b[0m \u001b[1;33m=\u001b[0m \u001b[0mvalues\u001b[0m\u001b[1;33m.\u001b[0m\u001b[0mshape\u001b[0m\u001b[1;33m\u001b[0m\u001b[1;33m\u001b[0m\u001b[0m\n\u001b[0;32m    392\u001b[0m         \u001b[0mimplied\u001b[0m \u001b[1;33m=\u001b[0m \u001b[1;33m(\u001b[0m\u001b[0mlen\u001b[0m\u001b[1;33m(\u001b[0m\u001b[0mindex\u001b[0m\u001b[1;33m)\u001b[0m\u001b[1;33m,\u001b[0m \u001b[0mlen\u001b[0m\u001b[1;33m(\u001b[0m\u001b[0mcolumns\u001b[0m\u001b[1;33m)\u001b[0m\u001b[1;33m)\u001b[0m\u001b[1;33m\u001b[0m\u001b[1;33m\u001b[0m\u001b[0m\n\u001b[1;32m--> 393\u001b[1;33m         \u001b[1;32mraise\u001b[0m \u001b[0mValueError\u001b[0m\u001b[1;33m(\u001b[0m\u001b[1;34mf\"Shape of passed values is {passed}, indices imply {implied}\"\u001b[0m\u001b[1;33m)\u001b[0m\u001b[1;33m\u001b[0m\u001b[1;33m\u001b[0m\u001b[0m\n\u001b[0m\u001b[0;32m    394\u001b[0m \u001b[1;33m\u001b[0m\u001b[0m\n\u001b[0;32m    395\u001b[0m \u001b[1;33m\u001b[0m\u001b[0m\n",
      "\u001b[1;31mValueError\u001b[0m: Shape of passed values is (9, 1), indices imply (3, 3)"
     ]
    }
   ],
   "source": [
    "d=pd.DataFrame(np.arange(1,10),index=[1,2,3],columns=[1,2,3])#error cuz len(index) * len(columns)=shape of data\n",
    "#so here shape of data is 10,1 but index * columns is 9 is 3*3 so make it even see below\n",
    "d"
   ]
  },
  {
   "cell_type": "code",
   "execution_count": 18,
   "id": "a1716abb",
   "metadata": {},
   "outputs": [
    {
     "data": {
      "text/html": [
       "<div>\n",
       "<style scoped>\n",
       "    .dataframe tbody tr th:only-of-type {\n",
       "        vertical-align: middle;\n",
       "    }\n",
       "\n",
       "    .dataframe tbody tr th {\n",
       "        vertical-align: top;\n",
       "    }\n",
       "\n",
       "    .dataframe thead th {\n",
       "        text-align: right;\n",
       "    }\n",
       "</style>\n",
       "<table border=\"1\" class=\"dataframe\">\n",
       "  <thead>\n",
       "    <tr style=\"text-align: right;\">\n",
       "      <th></th>\n",
       "      <th>1</th>\n",
       "      <th>2</th>\n",
       "      <th>3</th>\n",
       "    </tr>\n",
       "  </thead>\n",
       "  <tbody>\n",
       "    <tr>\n",
       "      <th>1</th>\n",
       "      <td>1</td>\n",
       "      <td>2</td>\n",
       "      <td>3</td>\n",
       "    </tr>\n",
       "    <tr>\n",
       "      <th>2</th>\n",
       "      <td>4</td>\n",
       "      <td>5</td>\n",
       "      <td>6</td>\n",
       "    </tr>\n",
       "    <tr>\n",
       "      <th>3</th>\n",
       "      <td>7</td>\n",
       "      <td>8</td>\n",
       "      <td>9</td>\n",
       "    </tr>\n",
       "  </tbody>\n",
       "</table>\n",
       "</div>"
      ],
      "text/plain": [
       "   1  2  3\n",
       "1  1  2  3\n",
       "2  4  5  6\n",
       "3  7  8  9"
      ]
     },
     "execution_count": 18,
     "metadata": {},
     "output_type": "execute_result"
    }
   ],
   "source": [
    "d=pd.DataFrame(np.arange(1,10).reshape(3,3),index=[1,2,3],columns=[1,2,3])\n",
    "d"
   ]
  },
  {
   "cell_type": "code",
   "execution_count": 34,
   "id": "76c63d72",
   "metadata": {},
   "outputs": [
    {
     "data": {
      "text/html": [
       "<div>\n",
       "<style scoped>\n",
       "    .dataframe tbody tr th:only-of-type {\n",
       "        vertical-align: middle;\n",
       "    }\n",
       "\n",
       "    .dataframe tbody tr th {\n",
       "        vertical-align: top;\n",
       "    }\n",
       "\n",
       "    .dataframe thead th {\n",
       "        text-align: right;\n",
       "    }\n",
       "</style>\n",
       "<table border=\"1\" class=\"dataframe\">\n",
       "  <thead>\n",
       "    <tr style=\"text-align: right;\">\n",
       "      <th></th>\n",
       "      <th>temperature</th>\n",
       "    </tr>\n",
       "    <tr>\n",
       "      <th>Date</th>\n",
       "      <th></th>\n",
       "    </tr>\n",
       "  </thead>\n",
       "  <tbody>\n",
       "    <tr>\n",
       "      <th>2021-01-24</th>\n",
       "      <td>32.0</td>\n",
       "    </tr>\n",
       "    <tr>\n",
       "      <th>2022-01-25</th>\n",
       "      <td>NaN</td>\n",
       "    </tr>\n",
       "    <tr>\n",
       "      <th>2022-01-26</th>\n",
       "      <td>28.0</td>\n",
       "    </tr>\n",
       "    <tr>\n",
       "      <th>2022-01-27</th>\n",
       "      <td>NaN</td>\n",
       "    </tr>\n",
       "    <tr>\n",
       "      <th>2022-01-28</th>\n",
       "      <td>NaN</td>\n",
       "    </tr>\n",
       "    <tr>\n",
       "      <th>2022-01-29</th>\n",
       "      <td>32.0</td>\n",
       "    </tr>\n",
       "    <tr>\n",
       "      <th>2022-01-30</th>\n",
       "      <td>40.0</td>\n",
       "    </tr>\n",
       "  </tbody>\n",
       "</table>\n",
       "</div>"
      ],
      "text/plain": [
       "            temperature\n",
       "Date                   \n",
       "2021-01-24         32.0\n",
       "2022-01-25          NaN\n",
       "2022-01-26         28.0\n",
       "2022-01-27          NaN\n",
       "2022-01-28          NaN\n",
       "2022-01-29         32.0\n",
       "2022-01-30         40.0"
      ]
     },
     "execution_count": 34,
     "metadata": {},
     "output_type": "execute_result"
    }
   ],
   "source": [
    "df1[['temperature']]#use double [] to convert series ot dataframe"
   ]
  },
  {
   "cell_type": "code",
   "execution_count": 38,
   "id": "a27dcfec",
   "metadata": {},
   "outputs": [
    {
     "data": {
      "text/html": [
       "<div>\n",
       "<style scoped>\n",
       "    .dataframe tbody tr th:only-of-type {\n",
       "        vertical-align: middle;\n",
       "    }\n",
       "\n",
       "    .dataframe tbody tr th {\n",
       "        vertical-align: top;\n",
       "    }\n",
       "\n",
       "    .dataframe thead th {\n",
       "        text-align: right;\n",
       "    }\n",
       "</style>\n",
       "<table border=\"1\" class=\"dataframe\">\n",
       "  <thead>\n",
       "    <tr style=\"text-align: right;\">\n",
       "      <th></th>\n",
       "      <th>Day</th>\n",
       "      <th>temperature</th>\n",
       "    </tr>\n",
       "    <tr>\n",
       "      <th>Date</th>\n",
       "      <th></th>\n",
       "      <th></th>\n",
       "    </tr>\n",
       "  </thead>\n",
       "  <tbody>\n",
       "    <tr>\n",
       "      <th>2022-01-25</th>\n",
       "      <td>tue</td>\n",
       "      <td>NaN</td>\n",
       "    </tr>\n",
       "    <tr>\n",
       "      <th>2022-01-27</th>\n",
       "      <td>thur</td>\n",
       "      <td>NaN</td>\n",
       "    </tr>\n",
       "    <tr>\n",
       "      <th>2022-01-29</th>\n",
       "      <td>sat</td>\n",
       "      <td>32.0</td>\n",
       "    </tr>\n",
       "  </tbody>\n",
       "</table>\n",
       "</div>"
      ],
      "text/plain": [
       "             Day  temperature\n",
       "Date                         \n",
       "2022-01-25   tue          NaN\n",
       "2022-01-27  thur          NaN\n",
       "2022-01-29   sat         32.0"
      ]
     },
     "execution_count": 38,
     "metadata": {},
     "output_type": "execute_result"
    }
   ],
   "source": [
    "df1.iloc[[1,3,5]]#to get multiple rows use double []"
   ]
  },
  {
   "cell_type": "code",
   "execution_count": 57,
   "id": "1e5a7d10",
   "metadata": {},
   "outputs": [
    {
     "data": {
      "text/html": [
       "<div>\n",
       "<style scoped>\n",
       "    .dataframe tbody tr th:only-of-type {\n",
       "        vertical-align: middle;\n",
       "    }\n",
       "\n",
       "    .dataframe tbody tr th {\n",
       "        vertical-align: top;\n",
       "    }\n",
       "\n",
       "    .dataframe thead th {\n",
       "        text-align: right;\n",
       "    }\n",
       "</style>\n",
       "<table border=\"1\" class=\"dataframe\">\n",
       "  <thead>\n",
       "    <tr style=\"text-align: right;\">\n",
       "      <th></th>\n",
       "      <th>show_id</th>\n",
       "      <th>type</th>\n",
       "      <th>title</th>\n",
       "      <th>director</th>\n",
       "      <th>cast</th>\n",
       "    </tr>\n",
       "  </thead>\n",
       "  <tbody>\n",
       "    <tr>\n",
       "      <th>3</th>\n",
       "      <td>s4</td>\n",
       "      <td>Movie</td>\n",
       "      <td>9</td>\n",
       "      <td>Shane Acker</td>\n",
       "      <td>Elijah Wood, John C. Reilly, Jennifer Connelly...</td>\n",
       "    </tr>\n",
       "    <tr>\n",
       "      <th>4</th>\n",
       "      <td>s5</td>\n",
       "      <td>Movie</td>\n",
       "      <td>21</td>\n",
       "      <td>Robert Luketic</td>\n",
       "      <td>Jim Sturgess, Kevin Spacey, Kate Bosworth, Aar...</td>\n",
       "    </tr>\n",
       "    <tr>\n",
       "      <th>5</th>\n",
       "      <td>s6</td>\n",
       "      <td>TV Show</td>\n",
       "      <td>46</td>\n",
       "      <td>Serdar Akar</td>\n",
       "      <td>Erdal Beşikçioğlu, Yasemin Allen, Melis Birkan...</td>\n",
       "    </tr>\n",
       "  </tbody>\n",
       "</table>\n",
       "</div>"
      ],
      "text/plain": [
       "  show_id     type title        director  \\\n",
       "3      s4    Movie     9     Shane Acker   \n",
       "4      s5    Movie    21  Robert Luketic   \n",
       "5      s6  TV Show    46     Serdar Akar   \n",
       "\n",
       "                                                cast  \n",
       "3  Elijah Wood, John C. Reilly, Jennifer Connelly...  \n",
       "4  Jim Sturgess, Kevin Spacey, Kate Bosworth, Aar...  \n",
       "5  Erdal Beşikçioğlu, Yasemin Allen, Melis Birkan...  "
      ]
     },
     "execution_count": 57,
     "metadata": {},
     "output_type": "execute_result"
    }
   ],
   "source": [
    "df.iloc[3:6,:5]"
   ]
  },
  {
   "cell_type": "code",
   "execution_count": 60,
   "id": "3d56790d",
   "metadata": {},
   "outputs": [
    {
     "data": {
      "text/html": [
       "<div>\n",
       "<style scoped>\n",
       "    .dataframe tbody tr th:only-of-type {\n",
       "        vertical-align: middle;\n",
       "    }\n",
       "\n",
       "    .dataframe tbody tr th {\n",
       "        vertical-align: top;\n",
       "    }\n",
       "\n",
       "    .dataframe thead th {\n",
       "        text-align: right;\n",
       "    }\n",
       "</style>\n",
       "<table border=\"1\" class=\"dataframe\">\n",
       "  <thead>\n",
       "    <tr style=\"text-align: right;\">\n",
       "      <th></th>\n",
       "      <th>show_id</th>\n",
       "      <th>title</th>\n",
       "    </tr>\n",
       "  </thead>\n",
       "  <tbody>\n",
       "    <tr>\n",
       "      <th>3</th>\n",
       "      <td>s4</td>\n",
       "      <td>9</td>\n",
       "    </tr>\n",
       "    <tr>\n",
       "      <th>4</th>\n",
       "      <td>s5</td>\n",
       "      <td>21</td>\n",
       "    </tr>\n",
       "    <tr>\n",
       "      <th>5</th>\n",
       "      <td>s6</td>\n",
       "      <td>46</td>\n",
       "    </tr>\n",
       "    <tr>\n",
       "      <th>6</th>\n",
       "      <td>s7</td>\n",
       "      <td>122</td>\n",
       "    </tr>\n",
       "  </tbody>\n",
       "</table>\n",
       "</div>"
      ],
      "text/plain": [
       "  show_id title\n",
       "3      s4     9\n",
       "4      s5    21\n",
       "5      s6    46\n",
       "6      s7   122"
      ]
     },
     "execution_count": 60,
     "metadata": {},
     "output_type": "execute_result"
    }
   ],
   "source": [
    "df.loc[3:6,['show_id','title']]"
   ]
  },
  {
   "cell_type": "code",
   "execution_count": 68,
   "id": "30f7e99a",
   "metadata": {},
   "outputs": [
    {
     "data": {
      "text/plain": [
       "Day            fri\n",
       "temperature    NaN\n",
       "Name: 2022-01-28 00:00:00, dtype: object"
      ]
     },
     "execution_count": 68,
     "metadata": {},
     "output_type": "execute_result"
    }
   ],
   "source": [
    "df1.sort_values('Day').iloc[0] # refer https://www.youtube.com/watch?v=zmuvAU5DpNA"
   ]
  },
  {
   "cell_type": "code",
   "execution_count": 70,
   "id": "d8dfa453",
   "metadata": {},
   "outputs": [
    {
     "data": {
      "text/html": [
       "<div>\n",
       "<style scoped>\n",
       "    .dataframe tbody tr th:only-of-type {\n",
       "        vertical-align: middle;\n",
       "    }\n",
       "\n",
       "    .dataframe tbody tr th {\n",
       "        vertical-align: top;\n",
       "    }\n",
       "\n",
       "    .dataframe thead th {\n",
       "        text-align: right;\n",
       "    }\n",
       "</style>\n",
       "<table border=\"1\" class=\"dataframe\">\n",
       "  <thead>\n",
       "    <tr style=\"text-align: right;\">\n",
       "      <th></th>\n",
       "      <th>Day</th>\n",
       "      <th>temperature</th>\n",
       "    </tr>\n",
       "    <tr>\n",
       "      <th>Date</th>\n",
       "      <th></th>\n",
       "      <th></th>\n",
       "    </tr>\n",
       "  </thead>\n",
       "  <tbody>\n",
       "    <tr>\n",
       "      <th>2021-01-24</th>\n",
       "      <td>mon</td>\n",
       "      <td>32.0</td>\n",
       "    </tr>\n",
       "    <tr>\n",
       "      <th>2022-01-26</th>\n",
       "      <td>wed</td>\n",
       "      <td>28.0</td>\n",
       "    </tr>\n",
       "    <tr>\n",
       "      <th>2022-01-29</th>\n",
       "      <td>sat</td>\n",
       "      <td>32.0</td>\n",
       "    </tr>\n",
       "    <tr>\n",
       "      <th>2022-01-30</th>\n",
       "      <td>sun</td>\n",
       "      <td>40.0</td>\n",
       "    </tr>\n",
       "  </tbody>\n",
       "</table>\n",
       "</div>"
      ],
      "text/plain": [
       "            Day  temperature\n",
       "Date                        \n",
       "2021-01-24  mon         32.0\n",
       "2022-01-26  wed         28.0\n",
       "2022-01-29  sat         32.0\n",
       "2022-01-30  sun         40.0"
      ]
     },
     "execution_count": 70,
     "metadata": {},
     "output_type": "execute_result"
    }
   ],
   "source": [
    "df1.dropna(axis=0)"
   ]
  },
  {
   "cell_type": "code",
   "execution_count": 71,
   "id": "b18fadd2",
   "metadata": {},
   "outputs": [
    {
     "data": {
      "text/html": [
       "<div>\n",
       "<style scoped>\n",
       "    .dataframe tbody tr th:only-of-type {\n",
       "        vertical-align: middle;\n",
       "    }\n",
       "\n",
       "    .dataframe tbody tr th {\n",
       "        vertical-align: top;\n",
       "    }\n",
       "\n",
       "    .dataframe thead th {\n",
       "        text-align: right;\n",
       "    }\n",
       "</style>\n",
       "<table border=\"1\" class=\"dataframe\">\n",
       "  <thead>\n",
       "    <tr style=\"text-align: right;\">\n",
       "      <th></th>\n",
       "      <th>Day</th>\n",
       "    </tr>\n",
       "    <tr>\n",
       "      <th>Date</th>\n",
       "      <th></th>\n",
       "    </tr>\n",
       "  </thead>\n",
       "  <tbody>\n",
       "    <tr>\n",
       "      <th>2021-01-24</th>\n",
       "      <td>mon</td>\n",
       "    </tr>\n",
       "    <tr>\n",
       "      <th>2022-01-25</th>\n",
       "      <td>tue</td>\n",
       "    </tr>\n",
       "    <tr>\n",
       "      <th>2022-01-26</th>\n",
       "      <td>wed</td>\n",
       "    </tr>\n",
       "    <tr>\n",
       "      <th>2022-01-27</th>\n",
       "      <td>thur</td>\n",
       "    </tr>\n",
       "    <tr>\n",
       "      <th>2022-01-28</th>\n",
       "      <td>fri</td>\n",
       "    </tr>\n",
       "    <tr>\n",
       "      <th>2022-01-29</th>\n",
       "      <td>sat</td>\n",
       "    </tr>\n",
       "    <tr>\n",
       "      <th>2022-01-30</th>\n",
       "      <td>sun</td>\n",
       "    </tr>\n",
       "  </tbody>\n",
       "</table>\n",
       "</div>"
      ],
      "text/plain": [
       "             Day\n",
       "Date            \n",
       "2021-01-24   mon\n",
       "2022-01-25   tue\n",
       "2022-01-26   wed\n",
       "2022-01-27  thur\n",
       "2022-01-28   fri\n",
       "2022-01-29   sat\n",
       "2022-01-30   sun"
      ]
     },
     "execution_count": 71,
     "metadata": {},
     "output_type": "execute_result"
    }
   ],
   "source": [
    "df1.dropna(axis=1)#1 for col"
   ]
  },
  {
   "cell_type": "code",
   "execution_count": 72,
   "id": "df65f875",
   "metadata": {},
   "outputs": [
    {
     "data": {
      "text/html": [
       "<div>\n",
       "<style scoped>\n",
       "    .dataframe tbody tr th:only-of-type {\n",
       "        vertical-align: middle;\n",
       "    }\n",
       "\n",
       "    .dataframe tbody tr th {\n",
       "        vertical-align: top;\n",
       "    }\n",
       "\n",
       "    .dataframe thead th {\n",
       "        text-align: right;\n",
       "    }\n",
       "</style>\n",
       "<table border=\"1\" class=\"dataframe\">\n",
       "  <thead>\n",
       "    <tr style=\"text-align: right;\">\n",
       "      <th></th>\n",
       "      <th>Day</th>\n",
       "      <th>temperature</th>\n",
       "    </tr>\n",
       "    <tr>\n",
       "      <th>Date</th>\n",
       "      <th></th>\n",
       "      <th></th>\n",
       "    </tr>\n",
       "  </thead>\n",
       "  <tbody>\n",
       "    <tr>\n",
       "      <th>2021-01-24</th>\n",
       "      <td>mon</td>\n",
       "      <td>32.0</td>\n",
       "    </tr>\n",
       "    <tr>\n",
       "      <th>2022-01-25</th>\n",
       "      <td>tue</td>\n",
       "      <td>NaN</td>\n",
       "    </tr>\n",
       "    <tr>\n",
       "      <th>2022-01-26</th>\n",
       "      <td>wed</td>\n",
       "      <td>28.0</td>\n",
       "    </tr>\n",
       "    <tr>\n",
       "      <th>2022-01-27</th>\n",
       "      <td>thur</td>\n",
       "      <td>NaN</td>\n",
       "    </tr>\n",
       "    <tr>\n",
       "      <th>2022-01-28</th>\n",
       "      <td>fri</td>\n",
       "      <td>NaN</td>\n",
       "    </tr>\n",
       "    <tr>\n",
       "      <th>2022-01-29</th>\n",
       "      <td>sat</td>\n",
       "      <td>32.0</td>\n",
       "    </tr>\n",
       "    <tr>\n",
       "      <th>2022-01-30</th>\n",
       "      <td>sun</td>\n",
       "      <td>40.0</td>\n",
       "    </tr>\n",
       "  </tbody>\n",
       "</table>\n",
       "</div>"
      ],
      "text/plain": [
       "             Day  temperature\n",
       "Date                         \n",
       "2021-01-24   mon         32.0\n",
       "2022-01-25   tue          NaN\n",
       "2022-01-26   wed         28.0\n",
       "2022-01-27  thur          NaN\n",
       "2022-01-28   fri          NaN\n",
       "2022-01-29   sat         32.0\n",
       "2022-01-30   sun         40.0"
      ]
     },
     "execution_count": 72,
     "metadata": {},
     "output_type": "execute_result"
    }
   ],
   "source": [
    "df1.dropna(axis=1,how='all')#all means if all values are null that col is removed same for axis =0 default is how=any"
   ]
  },
  {
   "cell_type": "code",
   "execution_count": 75,
   "id": "3865d2bd",
   "metadata": {},
   "outputs": [
    {
     "data": {
      "text/html": [
       "<div>\n",
       "<style scoped>\n",
       "    .dataframe tbody tr th:only-of-type {\n",
       "        vertical-align: middle;\n",
       "    }\n",
       "\n",
       "    .dataframe tbody tr th {\n",
       "        vertical-align: top;\n",
       "    }\n",
       "\n",
       "    .dataframe thead th {\n",
       "        text-align: right;\n",
       "    }\n",
       "</style>\n",
       "<table border=\"1\" class=\"dataframe\">\n",
       "  <thead>\n",
       "    <tr style=\"text-align: right;\">\n",
       "      <th></th>\n",
       "      <th>Day</th>\n",
       "      <th>temperature</th>\n",
       "    </tr>\n",
       "    <tr>\n",
       "      <th>Date</th>\n",
       "      <th></th>\n",
       "      <th></th>\n",
       "    </tr>\n",
       "  </thead>\n",
       "  <tbody>\n",
       "    <tr>\n",
       "      <th>2021-01-24</th>\n",
       "      <td>mon</td>\n",
       "      <td>32.0</td>\n",
       "    </tr>\n",
       "    <tr>\n",
       "      <th>2022-01-26</th>\n",
       "      <td>wed</td>\n",
       "      <td>28.0</td>\n",
       "    </tr>\n",
       "    <tr>\n",
       "      <th>2022-01-29</th>\n",
       "      <td>sat</td>\n",
       "      <td>32.0</td>\n",
       "    </tr>\n",
       "    <tr>\n",
       "      <th>2022-01-30</th>\n",
       "      <td>sun</td>\n",
       "      <td>40.0</td>\n",
       "    </tr>\n",
       "  </tbody>\n",
       "</table>\n",
       "</div>"
      ],
      "text/plain": [
       "            Day  temperature\n",
       "Date                        \n",
       "2021-01-24  mon         32.0\n",
       "2022-01-26  wed         28.0\n",
       "2022-01-29  sat         32.0\n",
       "2022-01-30  sun         40.0"
      ]
     },
     "execution_count": 75,
     "metadata": {},
     "output_type": "execute_result"
    }
   ],
   "source": [
    "df1.dropna(axis=0,how='any',subset=['temperature'])#to delete only particular col records having null jus like df1.dropna(axis=0)\n",
    "#but there ur specifying which col to remove"
   ]
  },
  {
   "cell_type": "code",
   "execution_count": 2,
   "id": "2a6d5b63",
   "metadata": {},
   "outputs": [
    {
     "data": {
      "text/html": [
       "<div>\n",
       "<style scoped>\n",
       "    .dataframe tbody tr th:only-of-type {\n",
       "        vertical-align: middle;\n",
       "    }\n",
       "\n",
       "    .dataframe tbody tr th {\n",
       "        vertical-align: top;\n",
       "    }\n",
       "\n",
       "    .dataframe thead th {\n",
       "        text-align: right;\n",
       "    }\n",
       "</style>\n",
       "<table border=\"1\" class=\"dataframe\">\n",
       "  <thead>\n",
       "    <tr style=\"text-align: right;\">\n",
       "      <th></th>\n",
       "      <th>survived</th>\n",
       "      <th>pclass</th>\n",
       "      <th>sex</th>\n",
       "      <th>age</th>\n",
       "      <th>sibsp</th>\n",
       "      <th>parch</th>\n",
       "      <th>fare</th>\n",
       "      <th>embarked</th>\n",
       "      <th>class</th>\n",
       "      <th>who</th>\n",
       "      <th>adult_male</th>\n",
       "      <th>deck</th>\n",
       "      <th>embark_town</th>\n",
       "      <th>alive</th>\n",
       "      <th>alone</th>\n",
       "    </tr>\n",
       "  </thead>\n",
       "  <tbody>\n",
       "    <tr>\n",
       "      <th>0</th>\n",
       "      <td>0</td>\n",
       "      <td>3</td>\n",
       "      <td>male</td>\n",
       "      <td>22.0</td>\n",
       "      <td>1</td>\n",
       "      <td>0</td>\n",
       "      <td>7.2500</td>\n",
       "      <td>S</td>\n",
       "      <td>Third</td>\n",
       "      <td>man</td>\n",
       "      <td>True</td>\n",
       "      <td>NaN</td>\n",
       "      <td>Southampton</td>\n",
       "      <td>no</td>\n",
       "      <td>False</td>\n",
       "    </tr>\n",
       "    <tr>\n",
       "      <th>1</th>\n",
       "      <td>1</td>\n",
       "      <td>1</td>\n",
       "      <td>female</td>\n",
       "      <td>38.0</td>\n",
       "      <td>1</td>\n",
       "      <td>0</td>\n",
       "      <td>71.2833</td>\n",
       "      <td>C</td>\n",
       "      <td>First</td>\n",
       "      <td>woman</td>\n",
       "      <td>False</td>\n",
       "      <td>C</td>\n",
       "      <td>Cherbourg</td>\n",
       "      <td>yes</td>\n",
       "      <td>False</td>\n",
       "    </tr>\n",
       "    <tr>\n",
       "      <th>2</th>\n",
       "      <td>1</td>\n",
       "      <td>3</td>\n",
       "      <td>female</td>\n",
       "      <td>26.0</td>\n",
       "      <td>0</td>\n",
       "      <td>0</td>\n",
       "      <td>7.9250</td>\n",
       "      <td>S</td>\n",
       "      <td>Third</td>\n",
       "      <td>woman</td>\n",
       "      <td>False</td>\n",
       "      <td>NaN</td>\n",
       "      <td>Southampton</td>\n",
       "      <td>yes</td>\n",
       "      <td>True</td>\n",
       "    </tr>\n",
       "    <tr>\n",
       "      <th>3</th>\n",
       "      <td>1</td>\n",
       "      <td>1</td>\n",
       "      <td>female</td>\n",
       "      <td>35.0</td>\n",
       "      <td>1</td>\n",
       "      <td>0</td>\n",
       "      <td>53.1000</td>\n",
       "      <td>S</td>\n",
       "      <td>First</td>\n",
       "      <td>woman</td>\n",
       "      <td>False</td>\n",
       "      <td>C</td>\n",
       "      <td>Southampton</td>\n",
       "      <td>yes</td>\n",
       "      <td>False</td>\n",
       "    </tr>\n",
       "    <tr>\n",
       "      <th>4</th>\n",
       "      <td>0</td>\n",
       "      <td>3</td>\n",
       "      <td>male</td>\n",
       "      <td>35.0</td>\n",
       "      <td>0</td>\n",
       "      <td>0</td>\n",
       "      <td>8.0500</td>\n",
       "      <td>S</td>\n",
       "      <td>Third</td>\n",
       "      <td>man</td>\n",
       "      <td>True</td>\n",
       "      <td>NaN</td>\n",
       "      <td>Southampton</td>\n",
       "      <td>no</td>\n",
       "      <td>True</td>\n",
       "    </tr>\n",
       "    <tr>\n",
       "      <th>...</th>\n",
       "      <td>...</td>\n",
       "      <td>...</td>\n",
       "      <td>...</td>\n",
       "      <td>...</td>\n",
       "      <td>...</td>\n",
       "      <td>...</td>\n",
       "      <td>...</td>\n",
       "      <td>...</td>\n",
       "      <td>...</td>\n",
       "      <td>...</td>\n",
       "      <td>...</td>\n",
       "      <td>...</td>\n",
       "      <td>...</td>\n",
       "      <td>...</td>\n",
       "      <td>...</td>\n",
       "    </tr>\n",
       "    <tr>\n",
       "      <th>886</th>\n",
       "      <td>0</td>\n",
       "      <td>2</td>\n",
       "      <td>male</td>\n",
       "      <td>27.0</td>\n",
       "      <td>0</td>\n",
       "      <td>0</td>\n",
       "      <td>13.0000</td>\n",
       "      <td>S</td>\n",
       "      <td>Second</td>\n",
       "      <td>man</td>\n",
       "      <td>True</td>\n",
       "      <td>NaN</td>\n",
       "      <td>Southampton</td>\n",
       "      <td>no</td>\n",
       "      <td>True</td>\n",
       "    </tr>\n",
       "    <tr>\n",
       "      <th>887</th>\n",
       "      <td>1</td>\n",
       "      <td>1</td>\n",
       "      <td>female</td>\n",
       "      <td>19.0</td>\n",
       "      <td>0</td>\n",
       "      <td>0</td>\n",
       "      <td>30.0000</td>\n",
       "      <td>S</td>\n",
       "      <td>First</td>\n",
       "      <td>woman</td>\n",
       "      <td>False</td>\n",
       "      <td>B</td>\n",
       "      <td>Southampton</td>\n",
       "      <td>yes</td>\n",
       "      <td>True</td>\n",
       "    </tr>\n",
       "    <tr>\n",
       "      <th>888</th>\n",
       "      <td>0</td>\n",
       "      <td>3</td>\n",
       "      <td>female</td>\n",
       "      <td>NaN</td>\n",
       "      <td>1</td>\n",
       "      <td>2</td>\n",
       "      <td>23.4500</td>\n",
       "      <td>S</td>\n",
       "      <td>Third</td>\n",
       "      <td>woman</td>\n",
       "      <td>False</td>\n",
       "      <td>NaN</td>\n",
       "      <td>Southampton</td>\n",
       "      <td>no</td>\n",
       "      <td>False</td>\n",
       "    </tr>\n",
       "    <tr>\n",
       "      <th>889</th>\n",
       "      <td>1</td>\n",
       "      <td>1</td>\n",
       "      <td>male</td>\n",
       "      <td>26.0</td>\n",
       "      <td>0</td>\n",
       "      <td>0</td>\n",
       "      <td>30.0000</td>\n",
       "      <td>C</td>\n",
       "      <td>First</td>\n",
       "      <td>man</td>\n",
       "      <td>True</td>\n",
       "      <td>C</td>\n",
       "      <td>Cherbourg</td>\n",
       "      <td>yes</td>\n",
       "      <td>True</td>\n",
       "    </tr>\n",
       "    <tr>\n",
       "      <th>890</th>\n",
       "      <td>0</td>\n",
       "      <td>3</td>\n",
       "      <td>male</td>\n",
       "      <td>32.0</td>\n",
       "      <td>0</td>\n",
       "      <td>0</td>\n",
       "      <td>7.7500</td>\n",
       "      <td>Q</td>\n",
       "      <td>Third</td>\n",
       "      <td>man</td>\n",
       "      <td>True</td>\n",
       "      <td>NaN</td>\n",
       "      <td>Queenstown</td>\n",
       "      <td>no</td>\n",
       "      <td>True</td>\n",
       "    </tr>\n",
       "  </tbody>\n",
       "</table>\n",
       "<p>891 rows × 15 columns</p>\n",
       "</div>"
      ],
      "text/plain": [
       "     survived  pclass     sex   age  sibsp  parch     fare embarked   class  \\\n",
       "0           0       3    male  22.0      1      0   7.2500        S   Third   \n",
       "1           1       1  female  38.0      1      0  71.2833        C   First   \n",
       "2           1       3  female  26.0      0      0   7.9250        S   Third   \n",
       "3           1       1  female  35.0      1      0  53.1000        S   First   \n",
       "4           0       3    male  35.0      0      0   8.0500        S   Third   \n",
       "..        ...     ...     ...   ...    ...    ...      ...      ...     ...   \n",
       "886         0       2    male  27.0      0      0  13.0000        S  Second   \n",
       "887         1       1  female  19.0      0      0  30.0000        S   First   \n",
       "888         0       3  female   NaN      1      2  23.4500        S   Third   \n",
       "889         1       1    male  26.0      0      0  30.0000        C   First   \n",
       "890         0       3    male  32.0      0      0   7.7500        Q   Third   \n",
       "\n",
       "       who  adult_male deck  embark_town alive  alone  \n",
       "0      man        True  NaN  Southampton    no  False  \n",
       "1    woman       False    C    Cherbourg   yes  False  \n",
       "2    woman       False  NaN  Southampton   yes   True  \n",
       "3    woman       False    C  Southampton   yes  False  \n",
       "4      man        True  NaN  Southampton    no   True  \n",
       "..     ...         ...  ...          ...   ...    ...  \n",
       "886    man        True  NaN  Southampton    no   True  \n",
       "887  woman       False    B  Southampton   yes   True  \n",
       "888  woman       False  NaN  Southampton    no  False  \n",
       "889    man        True    C    Cherbourg   yes   True  \n",
       "890    man        True  NaN   Queenstown    no   True  \n",
       "\n",
       "[891 rows x 15 columns]"
      ]
     },
     "execution_count": 2,
     "metadata": {},
     "output_type": "execute_result"
    }
   ],
   "source": [
    "sb.load_dataset_dataset_dataset('titanic')"
   ]
  },
  {
   "cell_type": "code",
   "execution_count": 2,
   "id": "b3f2a20b",
   "metadata": {},
   "outputs": [
    {
     "data": {
      "text/html": [
       "<div>\n",
       "<style scoped>\n",
       "    .dataframe tbody tr th:only-of-type {\n",
       "        vertical-align: middle;\n",
       "    }\n",
       "\n",
       "    .dataframe tbody tr th {\n",
       "        vertical-align: top;\n",
       "    }\n",
       "\n",
       "    .dataframe thead th {\n",
       "        text-align: right;\n",
       "    }\n",
       "</style>\n",
       "<table border=\"1\" class=\"dataframe\">\n",
       "  <thead>\n",
       "    <tr style=\"text-align: right;\">\n",
       "      <th></th>\n",
       "      <th>First Name</th>\n",
       "      <th>Gender</th>\n",
       "      <th>Start Date</th>\n",
       "      <th>Last Login Time</th>\n",
       "      <th>Salary</th>\n",
       "      <th>Bonus %</th>\n",
       "      <th>Senior Management</th>\n",
       "      <th>Team</th>\n",
       "    </tr>\n",
       "  </thead>\n",
       "  <tbody>\n",
       "    <tr>\n",
       "      <th>0</th>\n",
       "      <td>Douglas</td>\n",
       "      <td>Male</td>\n",
       "      <td>8/6/1993</td>\n",
       "      <td>12:42 PM</td>\n",
       "      <td>97308</td>\n",
       "      <td>6.945</td>\n",
       "      <td>True</td>\n",
       "      <td>Marketing</td>\n",
       "    </tr>\n",
       "    <tr>\n",
       "      <th>1</th>\n",
       "      <td>Thomas</td>\n",
       "      <td>Male</td>\n",
       "      <td>3/31/1996</td>\n",
       "      <td>6:53 AM</td>\n",
       "      <td>61933</td>\n",
       "      <td>4.170</td>\n",
       "      <td>True</td>\n",
       "      <td>NaN</td>\n",
       "    </tr>\n",
       "    <tr>\n",
       "      <th>2</th>\n",
       "      <td>Maria</td>\n",
       "      <td>Female</td>\n",
       "      <td>4/23/1993</td>\n",
       "      <td>11:17 AM</td>\n",
       "      <td>130590</td>\n",
       "      <td>11.858</td>\n",
       "      <td>False</td>\n",
       "      <td>Finance</td>\n",
       "    </tr>\n",
       "    <tr>\n",
       "      <th>3</th>\n",
       "      <td>Jerry</td>\n",
       "      <td>Male</td>\n",
       "      <td>3/4/2005</td>\n",
       "      <td>1:00 PM</td>\n",
       "      <td>138705</td>\n",
       "      <td>9.340</td>\n",
       "      <td>True</td>\n",
       "      <td>Finance</td>\n",
       "    </tr>\n",
       "    <tr>\n",
       "      <th>4</th>\n",
       "      <td>Larry</td>\n",
       "      <td>Male</td>\n",
       "      <td>1/24/1998</td>\n",
       "      <td>4:47 PM</td>\n",
       "      <td>101004</td>\n",
       "      <td>1.389</td>\n",
       "      <td>True</td>\n",
       "      <td>Client Services</td>\n",
       "    </tr>\n",
       "    <tr>\n",
       "      <th>...</th>\n",
       "      <td>...</td>\n",
       "      <td>...</td>\n",
       "      <td>...</td>\n",
       "      <td>...</td>\n",
       "      <td>...</td>\n",
       "      <td>...</td>\n",
       "      <td>...</td>\n",
       "      <td>...</td>\n",
       "    </tr>\n",
       "    <tr>\n",
       "      <th>995</th>\n",
       "      <td>Henry</td>\n",
       "      <td>NaN</td>\n",
       "      <td>11/23/2014</td>\n",
       "      <td>6:09 AM</td>\n",
       "      <td>132483</td>\n",
       "      <td>16.655</td>\n",
       "      <td>False</td>\n",
       "      <td>Distribution</td>\n",
       "    </tr>\n",
       "    <tr>\n",
       "      <th>996</th>\n",
       "      <td>Phillip</td>\n",
       "      <td>Male</td>\n",
       "      <td>1/31/1984</td>\n",
       "      <td>6:30 AM</td>\n",
       "      <td>42392</td>\n",
       "      <td>19.675</td>\n",
       "      <td>False</td>\n",
       "      <td>Finance</td>\n",
       "    </tr>\n",
       "    <tr>\n",
       "      <th>997</th>\n",
       "      <td>Russell</td>\n",
       "      <td>Male</td>\n",
       "      <td>5/20/2013</td>\n",
       "      <td>12:39 PM</td>\n",
       "      <td>96914</td>\n",
       "      <td>1.421</td>\n",
       "      <td>False</td>\n",
       "      <td>Product</td>\n",
       "    </tr>\n",
       "    <tr>\n",
       "      <th>998</th>\n",
       "      <td>Larry</td>\n",
       "      <td>Male</td>\n",
       "      <td>4/20/2013</td>\n",
       "      <td>4:45 PM</td>\n",
       "      <td>60500</td>\n",
       "      <td>11.985</td>\n",
       "      <td>False</td>\n",
       "      <td>Business Development</td>\n",
       "    </tr>\n",
       "    <tr>\n",
       "      <th>999</th>\n",
       "      <td>Albert</td>\n",
       "      <td>Male</td>\n",
       "      <td>5/15/2012</td>\n",
       "      <td>6:24 PM</td>\n",
       "      <td>129949</td>\n",
       "      <td>10.169</td>\n",
       "      <td>True</td>\n",
       "      <td>Sales</td>\n",
       "    </tr>\n",
       "  </tbody>\n",
       "</table>\n",
       "<p>1000 rows × 8 columns</p>\n",
       "</div>"
      ],
      "text/plain": [
       "    First Name  Gender  Start Date Last Login Time  Salary  Bonus %  \\\n",
       "0      Douglas    Male    8/6/1993        12:42 PM   97308    6.945   \n",
       "1       Thomas    Male   3/31/1996         6:53 AM   61933    4.170   \n",
       "2        Maria  Female   4/23/1993        11:17 AM  130590   11.858   \n",
       "3        Jerry    Male    3/4/2005         1:00 PM  138705    9.340   \n",
       "4        Larry    Male   1/24/1998         4:47 PM  101004    1.389   \n",
       "..         ...     ...         ...             ...     ...      ...   \n",
       "995      Henry     NaN  11/23/2014         6:09 AM  132483   16.655   \n",
       "996    Phillip    Male   1/31/1984         6:30 AM   42392   19.675   \n",
       "997    Russell    Male   5/20/2013        12:39 PM   96914    1.421   \n",
       "998      Larry    Male   4/20/2013         4:45 PM   60500   11.985   \n",
       "999     Albert    Male   5/15/2012         6:24 PM  129949   10.169   \n",
       "\n",
       "    Senior Management                  Team  \n",
       "0                True             Marketing  \n",
       "1                True                   NaN  \n",
       "2               False               Finance  \n",
       "3                True               Finance  \n",
       "4                True       Client Services  \n",
       "..                ...                   ...  \n",
       "995             False          Distribution  \n",
       "996             False               Finance  \n",
       "997             False               Product  \n",
       "998             False  Business Development  \n",
       "999              True                 Sales  \n",
       "\n",
       "[1000 rows x 8 columns]"
      ]
     },
     "execution_count": 2,
     "metadata": {},
     "output_type": "execute_result"
    }
   ],
   "source": [
    "d=pd.read_csv('employees.csv')\n",
    "d"
   ]
  },
  {
   "cell_type": "code",
   "execution_count": 4,
   "id": "fa127c75",
   "metadata": {},
   "outputs": [
    {
     "name": "stdout",
     "output_type": "stream",
     "text": [
      "<class 'pandas.core.frame.DataFrame'>\n",
      "RangeIndex: 1000 entries, 0 to 999\n",
      "Data columns (total 8 columns):\n",
      " #   Column             Non-Null Count  Dtype  \n",
      "---  ------             --------------  -----  \n",
      " 0   First Name         933 non-null    object \n",
      " 1   Gender             855 non-null    object \n",
      " 2   Start Date         1000 non-null   object \n",
      " 3   Last Login Time    1000 non-null   object \n",
      " 4   Salary             1000 non-null   int64  \n",
      " 5   Bonus %            1000 non-null   float64\n",
      " 6   Senior Management  933 non-null    object \n",
      " 7   Team               957 non-null    object \n",
      "dtypes: float64(1), int64(1), object(6)\n",
      "memory usage: 62.6+ KB\n"
     ]
    }
   ],
   "source": [
    "d.info()"
   ]
  },
  {
   "cell_type": "code",
   "execution_count": 6,
   "id": "2ff1d83b",
   "metadata": {},
   "outputs": [
    {
     "name": "stdout",
     "output_type": "stream",
     "text": [
      "<class 'pandas.core.frame.DataFrame'>\n",
      "RangeIndex: 1000 entries, 0 to 999\n",
      "Data columns (total 8 columns):\n",
      " #   Column             Non-Null Count  Dtype         \n",
      "---  ------             --------------  -----         \n",
      " 0   First Name         933 non-null    object        \n",
      " 1   Gender             855 non-null    object        \n",
      " 2   Start Date         1000 non-null   datetime64[ns]\n",
      " 3   Last Login Time    1000 non-null   datetime64[ns]\n",
      " 4   Salary             1000 non-null   int64         \n",
      " 5   Bonus %            1000 non-null   float64       \n",
      " 6   Senior Management  1000 non-null   bool          \n",
      " 7   Team               957 non-null    object        \n",
      "dtypes: bool(1), datetime64[ns](2), float64(1), int64(1), object(3)\n",
      "memory usage: 55.8+ KB\n"
     ]
    }
   ],
   "source": [
    "d['Start Date']=d['Start Date'].astype('datetime64[ns]')#to convert to dattime fomrate as these columns are string which is not correct\n",
    "d['Last Login Time']=d['Last Login Time'].astype('datetime64[ns]')\n",
    "d['Senior Management']=d['Senior Management'].astype('bool')\n",
    "d.info()"
   ]
  },
  {
   "cell_type": "code",
   "execution_count": 10,
   "id": "800a7a56",
   "metadata": {},
   "outputs": [
    {
     "data": {
      "text/html": [
       "<div>\n",
       "<style scoped>\n",
       "    .dataframe tbody tr th:only-of-type {\n",
       "        vertical-align: middle;\n",
       "    }\n",
       "\n",
       "    .dataframe tbody tr th {\n",
       "        vertical-align: top;\n",
       "    }\n",
       "\n",
       "    .dataframe thead th {\n",
       "        text-align: right;\n",
       "    }\n",
       "</style>\n",
       "<table border=\"1\" class=\"dataframe\">\n",
       "  <thead>\n",
       "    <tr style=\"text-align: right;\">\n",
       "      <th></th>\n",
       "      <th>First Name</th>\n",
       "      <th>Gender</th>\n",
       "      <th>Start Date</th>\n",
       "      <th>Last Login Time</th>\n",
       "      <th>Salary</th>\n",
       "      <th>bonus</th>\n",
       "      <th>Senior Management</th>\n",
       "      <th>Team</th>\n",
       "    </tr>\n",
       "  </thead>\n",
       "  <tbody>\n",
       "    <tr>\n",
       "      <th>0</th>\n",
       "      <td>Douglas</td>\n",
       "      <td>Male</td>\n",
       "      <td>1993-08-06</td>\n",
       "      <td>2022-04-15 12:42:00</td>\n",
       "      <td>97308</td>\n",
       "      <td>6.945</td>\n",
       "      <td>True</td>\n",
       "      <td>Marketing</td>\n",
       "    </tr>\n",
       "    <tr>\n",
       "      <th>1</th>\n",
       "      <td>Thomas</td>\n",
       "      <td>Male</td>\n",
       "      <td>1996-03-31</td>\n",
       "      <td>2022-04-15 06:53:00</td>\n",
       "      <td>61933</td>\n",
       "      <td>4.170</td>\n",
       "      <td>True</td>\n",
       "      <td>NaN</td>\n",
       "    </tr>\n",
       "    <tr>\n",
       "      <th>2</th>\n",
       "      <td>Maria</td>\n",
       "      <td>Female</td>\n",
       "      <td>1993-04-23</td>\n",
       "      <td>2022-04-15 11:17:00</td>\n",
       "      <td>130590</td>\n",
       "      <td>11.858</td>\n",
       "      <td>False</td>\n",
       "      <td>Finance</td>\n",
       "    </tr>\n",
       "    <tr>\n",
       "      <th>3</th>\n",
       "      <td>Jerry</td>\n",
       "      <td>Male</td>\n",
       "      <td>2005-03-04</td>\n",
       "      <td>2022-04-15 13:00:00</td>\n",
       "      <td>138705</td>\n",
       "      <td>9.340</td>\n",
       "      <td>True</td>\n",
       "      <td>Finance</td>\n",
       "    </tr>\n",
       "    <tr>\n",
       "      <th>4</th>\n",
       "      <td>Larry</td>\n",
       "      <td>Male</td>\n",
       "      <td>1998-01-24</td>\n",
       "      <td>2022-04-15 16:47:00</td>\n",
       "      <td>101004</td>\n",
       "      <td>1.389</td>\n",
       "      <td>True</td>\n",
       "      <td>Client Services</td>\n",
       "    </tr>\n",
       "    <tr>\n",
       "      <th>...</th>\n",
       "      <td>...</td>\n",
       "      <td>...</td>\n",
       "      <td>...</td>\n",
       "      <td>...</td>\n",
       "      <td>...</td>\n",
       "      <td>...</td>\n",
       "      <td>...</td>\n",
       "      <td>...</td>\n",
       "    </tr>\n",
       "    <tr>\n",
       "      <th>995</th>\n",
       "      <td>Henry</td>\n",
       "      <td>NaN</td>\n",
       "      <td>2014-11-23</td>\n",
       "      <td>2022-04-15 06:09:00</td>\n",
       "      <td>132483</td>\n",
       "      <td>16.655</td>\n",
       "      <td>False</td>\n",
       "      <td>Distribution</td>\n",
       "    </tr>\n",
       "    <tr>\n",
       "      <th>996</th>\n",
       "      <td>Phillip</td>\n",
       "      <td>Male</td>\n",
       "      <td>1984-01-31</td>\n",
       "      <td>2022-04-15 06:30:00</td>\n",
       "      <td>42392</td>\n",
       "      <td>19.675</td>\n",
       "      <td>False</td>\n",
       "      <td>Finance</td>\n",
       "    </tr>\n",
       "    <tr>\n",
       "      <th>997</th>\n",
       "      <td>Russell</td>\n",
       "      <td>Male</td>\n",
       "      <td>2013-05-20</td>\n",
       "      <td>2022-04-15 12:39:00</td>\n",
       "      <td>96914</td>\n",
       "      <td>1.421</td>\n",
       "      <td>False</td>\n",
       "      <td>Product</td>\n",
       "    </tr>\n",
       "    <tr>\n",
       "      <th>998</th>\n",
       "      <td>Larry</td>\n",
       "      <td>Male</td>\n",
       "      <td>2013-04-20</td>\n",
       "      <td>2022-04-15 16:45:00</td>\n",
       "      <td>60500</td>\n",
       "      <td>11.985</td>\n",
       "      <td>False</td>\n",
       "      <td>Business Development</td>\n",
       "    </tr>\n",
       "    <tr>\n",
       "      <th>999</th>\n",
       "      <td>Albert</td>\n",
       "      <td>Male</td>\n",
       "      <td>2012-05-15</td>\n",
       "      <td>2022-04-15 18:24:00</td>\n",
       "      <td>129949</td>\n",
       "      <td>10.169</td>\n",
       "      <td>True</td>\n",
       "      <td>Sales</td>\n",
       "    </tr>\n",
       "  </tbody>\n",
       "</table>\n",
       "<p>1000 rows × 8 columns</p>\n",
       "</div>"
      ],
      "text/plain": [
       "    First Name  Gender Start Date     Last Login Time  Salary   bonus  \\\n",
       "0      Douglas    Male 1993-08-06 2022-04-15 12:42:00   97308   6.945   \n",
       "1       Thomas    Male 1996-03-31 2022-04-15 06:53:00   61933   4.170   \n",
       "2        Maria  Female 1993-04-23 2022-04-15 11:17:00  130590  11.858   \n",
       "3        Jerry    Male 2005-03-04 2022-04-15 13:00:00  138705   9.340   \n",
       "4        Larry    Male 1998-01-24 2022-04-15 16:47:00  101004   1.389   \n",
       "..         ...     ...        ...                 ...     ...     ...   \n",
       "995      Henry     NaN 2014-11-23 2022-04-15 06:09:00  132483  16.655   \n",
       "996    Phillip    Male 1984-01-31 2022-04-15 06:30:00   42392  19.675   \n",
       "997    Russell    Male 2013-05-20 2022-04-15 12:39:00   96914   1.421   \n",
       "998      Larry    Male 2013-04-20 2022-04-15 16:45:00   60500  11.985   \n",
       "999     Albert    Male 2012-05-15 2022-04-15 18:24:00  129949  10.169   \n",
       "\n",
       "     Senior Management                  Team  \n",
       "0                 True             Marketing  \n",
       "1                 True                   NaN  \n",
       "2                False               Finance  \n",
       "3                 True               Finance  \n",
       "4                 True       Client Services  \n",
       "..                 ...                   ...  \n",
       "995              False          Distribution  \n",
       "996              False               Finance  \n",
       "997              False               Product  \n",
       "998              False  Business Development  \n",
       "999               True                 Sales  \n",
       "\n",
       "[1000 rows x 8 columns]"
      ]
     },
     "execution_count": 10,
     "metadata": {},
     "output_type": "execute_result"
    }
   ],
   "source": [
    "d.rename(columns={'Bonus %':'bonus'},inplace=True)\n",
    "d"
   ]
  },
  {
   "cell_type": "code",
   "execution_count": 40,
   "id": "6bc8b59e",
   "metadata": {},
   "outputs": [
    {
     "data": {
      "text/plain": [
       "0       True\n",
       "1       True\n",
       "2      False\n",
       "3       True\n",
       "4       True\n",
       "       ...  \n",
       "995    False\n",
       "996     True\n",
       "997     True\n",
       "998     True\n",
       "999     True\n",
       "Length: 1000, dtype: bool"
      ]
     },
     "execution_count": 40,
     "metadata": {},
     "output_type": "execute_result"
    }
   ],
   "source": [
    "(d['Gender']=='Male') & (d['Salary']>20000)\n",
    "#movies[(movies.duration >= 200) & (movies.genre == 'Drama')]"
   ]
  },
  {
   "cell_type": "code",
   "execution_count": 41,
   "id": "9482dd4b",
   "metadata": {},
   "outputs": [
    {
     "data": {
      "text/html": [
       "<div>\n",
       "<style scoped>\n",
       "    .dataframe tbody tr th:only-of-type {\n",
       "        vertical-align: middle;\n",
       "    }\n",
       "\n",
       "    .dataframe tbody tr th {\n",
       "        vertical-align: top;\n",
       "    }\n",
       "\n",
       "    .dataframe thead th {\n",
       "        text-align: right;\n",
       "    }\n",
       "</style>\n",
       "<table border=\"1\" class=\"dataframe\">\n",
       "  <thead>\n",
       "    <tr style=\"text-align: right;\">\n",
       "      <th></th>\n",
       "      <th>First Name</th>\n",
       "      <th>Gender</th>\n",
       "      <th>Start Date</th>\n",
       "      <th>Last Login Time</th>\n",
       "      <th>Salary</th>\n",
       "      <th>bonus</th>\n",
       "      <th>Senior Management</th>\n",
       "      <th>Team</th>\n",
       "    </tr>\n",
       "  </thead>\n",
       "  <tbody>\n",
       "    <tr>\n",
       "      <th>0</th>\n",
       "      <td>Douglas</td>\n",
       "      <td>Male</td>\n",
       "      <td>1993-08-06</td>\n",
       "      <td>2022-04-15 12:42:00</td>\n",
       "      <td>97308</td>\n",
       "      <td>6.945</td>\n",
       "      <td>True</td>\n",
       "      <td>Marketing</td>\n",
       "    </tr>\n",
       "    <tr>\n",
       "      <th>1</th>\n",
       "      <td>Thomas</td>\n",
       "      <td>Male</td>\n",
       "      <td>1996-03-31</td>\n",
       "      <td>2022-04-15 06:53:00</td>\n",
       "      <td>61933</td>\n",
       "      <td>4.170</td>\n",
       "      <td>True</td>\n",
       "      <td>NaN</td>\n",
       "    </tr>\n",
       "    <tr>\n",
       "      <th>3</th>\n",
       "      <td>Jerry</td>\n",
       "      <td>Male</td>\n",
       "      <td>2005-03-04</td>\n",
       "      <td>2022-04-15 13:00:00</td>\n",
       "      <td>138705</td>\n",
       "      <td>9.340</td>\n",
       "      <td>True</td>\n",
       "      <td>Finance</td>\n",
       "    </tr>\n",
       "    <tr>\n",
       "      <th>4</th>\n",
       "      <td>Larry</td>\n",
       "      <td>Male</td>\n",
       "      <td>1998-01-24</td>\n",
       "      <td>2022-04-15 16:47:00</td>\n",
       "      <td>101004</td>\n",
       "      <td>1.389</td>\n",
       "      <td>True</td>\n",
       "      <td>Client Services</td>\n",
       "    </tr>\n",
       "    <tr>\n",
       "      <th>5</th>\n",
       "      <td>Dennis</td>\n",
       "      <td>Male</td>\n",
       "      <td>1987-04-18</td>\n",
       "      <td>2022-04-15 01:35:00</td>\n",
       "      <td>115163</td>\n",
       "      <td>10.125</td>\n",
       "      <td>False</td>\n",
       "      <td>Legal</td>\n",
       "    </tr>\n",
       "    <tr>\n",
       "      <th>...</th>\n",
       "      <td>...</td>\n",
       "      <td>...</td>\n",
       "      <td>...</td>\n",
       "      <td>...</td>\n",
       "      <td>...</td>\n",
       "      <td>...</td>\n",
       "      <td>...</td>\n",
       "      <td>...</td>\n",
       "    </tr>\n",
       "    <tr>\n",
       "      <th>994</th>\n",
       "      <td>George</td>\n",
       "      <td>Male</td>\n",
       "      <td>2013-06-21</td>\n",
       "      <td>2022-04-15 17:47:00</td>\n",
       "      <td>98874</td>\n",
       "      <td>4.479</td>\n",
       "      <td>True</td>\n",
       "      <td>Marketing</td>\n",
       "    </tr>\n",
       "    <tr>\n",
       "      <th>996</th>\n",
       "      <td>Phillip</td>\n",
       "      <td>Male</td>\n",
       "      <td>1984-01-31</td>\n",
       "      <td>2022-04-15 06:30:00</td>\n",
       "      <td>42392</td>\n",
       "      <td>19.675</td>\n",
       "      <td>False</td>\n",
       "      <td>Finance</td>\n",
       "    </tr>\n",
       "    <tr>\n",
       "      <th>997</th>\n",
       "      <td>Russell</td>\n",
       "      <td>Male</td>\n",
       "      <td>2013-05-20</td>\n",
       "      <td>2022-04-15 12:39:00</td>\n",
       "      <td>96914</td>\n",
       "      <td>1.421</td>\n",
       "      <td>False</td>\n",
       "      <td>Product</td>\n",
       "    </tr>\n",
       "    <tr>\n",
       "      <th>998</th>\n",
       "      <td>Larry</td>\n",
       "      <td>Male</td>\n",
       "      <td>2013-04-20</td>\n",
       "      <td>2022-04-15 16:45:00</td>\n",
       "      <td>60500</td>\n",
       "      <td>11.985</td>\n",
       "      <td>False</td>\n",
       "      <td>Business Development</td>\n",
       "    </tr>\n",
       "    <tr>\n",
       "      <th>999</th>\n",
       "      <td>Albert</td>\n",
       "      <td>Male</td>\n",
       "      <td>2012-05-15</td>\n",
       "      <td>2022-04-15 18:24:00</td>\n",
       "      <td>129949</td>\n",
       "      <td>10.169</td>\n",
       "      <td>True</td>\n",
       "      <td>Sales</td>\n",
       "    </tr>\n",
       "  </tbody>\n",
       "</table>\n",
       "<p>424 rows × 8 columns</p>\n",
       "</div>"
      ],
      "text/plain": [
       "    First Name Gender Start Date     Last Login Time  Salary   bonus  \\\n",
       "0      Douglas   Male 1993-08-06 2022-04-15 12:42:00   97308   6.945   \n",
       "1       Thomas   Male 1996-03-31 2022-04-15 06:53:00   61933   4.170   \n",
       "3        Jerry   Male 2005-03-04 2022-04-15 13:00:00  138705   9.340   \n",
       "4        Larry   Male 1998-01-24 2022-04-15 16:47:00  101004   1.389   \n",
       "5       Dennis   Male 1987-04-18 2022-04-15 01:35:00  115163  10.125   \n",
       "..         ...    ...        ...                 ...     ...     ...   \n",
       "994     George   Male 2013-06-21 2022-04-15 17:47:00   98874   4.479   \n",
       "996    Phillip   Male 1984-01-31 2022-04-15 06:30:00   42392  19.675   \n",
       "997    Russell   Male 2013-05-20 2022-04-15 12:39:00   96914   1.421   \n",
       "998      Larry   Male 2013-04-20 2022-04-15 16:45:00   60500  11.985   \n",
       "999     Albert   Male 2012-05-15 2022-04-15 18:24:00  129949  10.169   \n",
       "\n",
       "     Senior Management                  Team  \n",
       "0                 True             Marketing  \n",
       "1                 True                   NaN  \n",
       "3                 True               Finance  \n",
       "4                 True       Client Services  \n",
       "5                False                 Legal  \n",
       "..                 ...                   ...  \n",
       "994               True             Marketing  \n",
       "996              False               Finance  \n",
       "997              False               Product  \n",
       "998              False  Business Development  \n",
       "999               True                 Sales  \n",
       "\n",
       "[424 rows x 8 columns]"
      ]
     },
     "execution_count": 41,
     "metadata": {},
     "output_type": "execute_result"
    }
   ],
   "source": [
    "d[(d['Gender']=='Male') & (d['Salary']>20000)]"
   ]
  },
  {
   "cell_type": "code",
   "execution_count": 42,
   "id": "e976bed4",
   "metadata": {},
   "outputs": [
    {
     "data": {
      "text/plain": [
       "First Name            67\n",
       "Gender               145\n",
       "Start Date             0\n",
       "Last Login Time        0\n",
       "Salary                 0\n",
       "bonus                  0\n",
       "Senior Management      0\n",
       "Team                  43\n",
       "dtype: int64"
      ]
     },
     "execution_count": 42,
     "metadata": {},
     "output_type": "execute_result"
    }
   ],
   "source": [
    "d.isnull().sum()"
   ]
  },
  {
   "cell_type": "code",
   "execution_count": 45,
   "id": "c6c5d29c",
   "metadata": {},
   "outputs": [
    {
     "data": {
      "text/html": [
       "<div>\n",
       "<style scoped>\n",
       "    .dataframe tbody tr th:only-of-type {\n",
       "        vertical-align: middle;\n",
       "    }\n",
       "\n",
       "    .dataframe tbody tr th {\n",
       "        vertical-align: top;\n",
       "    }\n",
       "\n",
       "    .dataframe thead th {\n",
       "        text-align: right;\n",
       "    }\n",
       "</style>\n",
       "<table border=\"1\" class=\"dataframe\">\n",
       "  <thead>\n",
       "    <tr style=\"text-align: right;\">\n",
       "      <th></th>\n",
       "      <th>First Name</th>\n",
       "      <th>Gender</th>\n",
       "      <th>Start Date</th>\n",
       "      <th>Last Login Time</th>\n",
       "      <th>Salary</th>\n",
       "      <th>bonus</th>\n",
       "      <th>Senior Management</th>\n",
       "      <th>Team</th>\n",
       "    </tr>\n",
       "  </thead>\n",
       "  <tbody>\n",
       "  </tbody>\n",
       "</table>\n",
       "</div>"
      ],
      "text/plain": [
       "Empty DataFrame\n",
       "Columns: [First Name, Gender, Start Date, Last Login Time, Salary, bonus, Senior Management, Team]\n",
       "Index: []"
      ]
     },
     "execution_count": 45,
     "metadata": {},
     "output_type": "execute_result"
    }
   ],
   "source": [
    "d[d.Gender==np.nan]"
   ]
  },
  {
   "cell_type": "markdown",
   "id": "65c997a6",
   "metadata": {},
   "source": [
    "######\n",
    "refer https://www.youtube.com/watch?v=1cSauCcoyyE\n",
    "\n",
    "\n",
    "\n",
    "feature engineering\n",
    "1.Feature scaling\n",
    "2.Feature encoding\n",
    "3.oultiers\n",
    "\n",
    "2.feature encoding:\n",
    "Categorical data has two types\n",
    "1.Ordinal data(has rank/order example education,team,department,employee designation)\n",
    "This is encoded generally using label encoding\n",
    "2.Nominal data(no order like country,cars etc)\n",
    "thisi si done generally using one hot coding and can be done using pandas and skitlearn\n",
    "\n",
    "1.Feature scaling(generally done on both num and non columns):\n",
    "scaling is done to bring features having different range of values and convert them to smae range (normalization) cuz by default ML model without scaling takes higher range values as first priorty which could affect accuracy of model\n",
    "two types:\n",
    "\n",
    "a.standard scaling( commonly used other than images)\n",
    "b.min max scaling(generally applied to images\n",
    "c.robust scaling(used for outloiers)\n",
    "\n",
    "outlier-> irrelevant/data outside range of observations/boundary values\n"
   ]
  },
  {
   "cell_type": "code",
   "execution_count": 49,
   "id": "ee361a91",
   "metadata": {},
   "outputs": [
    {
     "ename": "ValueError",
     "evalue": "invalid literal for int() with base 10: '10+5j'",
     "output_type": "error",
     "traceback": [
      "\u001b[1;31m---------------------------------------------------------------------------\u001b[0m",
      "\u001b[1;31mValueError\u001b[0m                                Traceback (most recent call last)",
      "\u001b[1;32m~\\AppData\\Local\\Temp\\8/ipykernel_14576/2651128902.py\u001b[0m in \u001b[0;36m<module>\u001b[1;34m\u001b[0m\n\u001b[1;32m----> 1\u001b[1;33m \u001b[0mint\u001b[0m\u001b[1;33m(\u001b[0m\u001b[1;34m'10+5j'\u001b[0m\u001b[1;33m)\u001b[0m\u001b[1;33m\u001b[0m\u001b[1;33m\u001b[0m\u001b[0m\n\u001b[0m",
      "\u001b[1;31mValueError\u001b[0m: invalid literal for int() with base 10: '10+5j'"
     ]
    }
   ],
   "source": [
    "int('10+5j')"
   ]
  },
  {
   "cell_type": "code",
   "execution_count": 18,
   "id": "85c91ae2",
   "metadata": {},
   "outputs": [
    {
     "data": {
      "text/html": [
       "<div>\n",
       "<style scoped>\n",
       "    .dataframe tbody tr th:only-of-type {\n",
       "        vertical-align: middle;\n",
       "    }\n",
       "\n",
       "    .dataframe tbody tr th {\n",
       "        vertical-align: top;\n",
       "    }\n",
       "\n",
       "    .dataframe thead th {\n",
       "        text-align: right;\n",
       "    }\n",
       "</style>\n",
       "<table border=\"1\" class=\"dataframe\">\n",
       "  <thead>\n",
       "    <tr style=\"text-align: right;\">\n",
       "      <th></th>\n",
       "      <th>survived</th>\n",
       "      <th>pclass</th>\n",
       "      <th>sex</th>\n",
       "      <th>age</th>\n",
       "      <th>sibsp</th>\n",
       "      <th>parch</th>\n",
       "      <th>fare</th>\n",
       "      <th>embarked</th>\n",
       "      <th>class</th>\n",
       "      <th>who</th>\n",
       "      <th>adult_male</th>\n",
       "      <th>deck</th>\n",
       "      <th>embark_town</th>\n",
       "      <th>alive</th>\n",
       "      <th>alone</th>\n",
       "    </tr>\n",
       "  </thead>\n",
       "  <tbody>\n",
       "    <tr>\n",
       "      <th>0</th>\n",
       "      <td>0</td>\n",
       "      <td>3</td>\n",
       "      <td>male</td>\n",
       "      <td>22.0</td>\n",
       "      <td>1</td>\n",
       "      <td>0</td>\n",
       "      <td>7.2500</td>\n",
       "      <td>S</td>\n",
       "      <td>Third</td>\n",
       "      <td>man</td>\n",
       "      <td>True</td>\n",
       "      <td>NaN</td>\n",
       "      <td>Southampton</td>\n",
       "      <td>no</td>\n",
       "      <td>False</td>\n",
       "    </tr>\n",
       "    <tr>\n",
       "      <th>1</th>\n",
       "      <td>1</td>\n",
       "      <td>1</td>\n",
       "      <td>female</td>\n",
       "      <td>38.0</td>\n",
       "      <td>1</td>\n",
       "      <td>0</td>\n",
       "      <td>71.2833</td>\n",
       "      <td>C</td>\n",
       "      <td>First</td>\n",
       "      <td>woman</td>\n",
       "      <td>False</td>\n",
       "      <td>C</td>\n",
       "      <td>Cherbourg</td>\n",
       "      <td>yes</td>\n",
       "      <td>False</td>\n",
       "    </tr>\n",
       "    <tr>\n",
       "      <th>2</th>\n",
       "      <td>1</td>\n",
       "      <td>3</td>\n",
       "      <td>female</td>\n",
       "      <td>26.0</td>\n",
       "      <td>0</td>\n",
       "      <td>0</td>\n",
       "      <td>7.9250</td>\n",
       "      <td>S</td>\n",
       "      <td>Third</td>\n",
       "      <td>woman</td>\n",
       "      <td>False</td>\n",
       "      <td>NaN</td>\n",
       "      <td>Southampton</td>\n",
       "      <td>yes</td>\n",
       "      <td>True</td>\n",
       "    </tr>\n",
       "    <tr>\n",
       "      <th>3</th>\n",
       "      <td>1</td>\n",
       "      <td>1</td>\n",
       "      <td>female</td>\n",
       "      <td>35.0</td>\n",
       "      <td>1</td>\n",
       "      <td>0</td>\n",
       "      <td>53.1000</td>\n",
       "      <td>S</td>\n",
       "      <td>First</td>\n",
       "      <td>woman</td>\n",
       "      <td>False</td>\n",
       "      <td>C</td>\n",
       "      <td>Southampton</td>\n",
       "      <td>yes</td>\n",
       "      <td>False</td>\n",
       "    </tr>\n",
       "    <tr>\n",
       "      <th>4</th>\n",
       "      <td>0</td>\n",
       "      <td>3</td>\n",
       "      <td>male</td>\n",
       "      <td>35.0</td>\n",
       "      <td>0</td>\n",
       "      <td>0</td>\n",
       "      <td>8.0500</td>\n",
       "      <td>S</td>\n",
       "      <td>Third</td>\n",
       "      <td>man</td>\n",
       "      <td>True</td>\n",
       "      <td>NaN</td>\n",
       "      <td>Southampton</td>\n",
       "      <td>no</td>\n",
       "      <td>True</td>\n",
       "    </tr>\n",
       "    <tr>\n",
       "      <th>...</th>\n",
       "      <td>...</td>\n",
       "      <td>...</td>\n",
       "      <td>...</td>\n",
       "      <td>...</td>\n",
       "      <td>...</td>\n",
       "      <td>...</td>\n",
       "      <td>...</td>\n",
       "      <td>...</td>\n",
       "      <td>...</td>\n",
       "      <td>...</td>\n",
       "      <td>...</td>\n",
       "      <td>...</td>\n",
       "      <td>...</td>\n",
       "      <td>...</td>\n",
       "      <td>...</td>\n",
       "    </tr>\n",
       "    <tr>\n",
       "      <th>886</th>\n",
       "      <td>0</td>\n",
       "      <td>2</td>\n",
       "      <td>male</td>\n",
       "      <td>27.0</td>\n",
       "      <td>0</td>\n",
       "      <td>0</td>\n",
       "      <td>13.0000</td>\n",
       "      <td>S</td>\n",
       "      <td>Second</td>\n",
       "      <td>man</td>\n",
       "      <td>True</td>\n",
       "      <td>NaN</td>\n",
       "      <td>Southampton</td>\n",
       "      <td>no</td>\n",
       "      <td>True</td>\n",
       "    </tr>\n",
       "    <tr>\n",
       "      <th>887</th>\n",
       "      <td>1</td>\n",
       "      <td>1</td>\n",
       "      <td>female</td>\n",
       "      <td>19.0</td>\n",
       "      <td>0</td>\n",
       "      <td>0</td>\n",
       "      <td>30.0000</td>\n",
       "      <td>S</td>\n",
       "      <td>First</td>\n",
       "      <td>woman</td>\n",
       "      <td>False</td>\n",
       "      <td>B</td>\n",
       "      <td>Southampton</td>\n",
       "      <td>yes</td>\n",
       "      <td>True</td>\n",
       "    </tr>\n",
       "    <tr>\n",
       "      <th>888</th>\n",
       "      <td>0</td>\n",
       "      <td>3</td>\n",
       "      <td>female</td>\n",
       "      <td>NaN</td>\n",
       "      <td>1</td>\n",
       "      <td>2</td>\n",
       "      <td>23.4500</td>\n",
       "      <td>S</td>\n",
       "      <td>Third</td>\n",
       "      <td>woman</td>\n",
       "      <td>False</td>\n",
       "      <td>NaN</td>\n",
       "      <td>Southampton</td>\n",
       "      <td>no</td>\n",
       "      <td>False</td>\n",
       "    </tr>\n",
       "    <tr>\n",
       "      <th>889</th>\n",
       "      <td>1</td>\n",
       "      <td>1</td>\n",
       "      <td>male</td>\n",
       "      <td>26.0</td>\n",
       "      <td>0</td>\n",
       "      <td>0</td>\n",
       "      <td>30.0000</td>\n",
       "      <td>C</td>\n",
       "      <td>First</td>\n",
       "      <td>man</td>\n",
       "      <td>True</td>\n",
       "      <td>C</td>\n",
       "      <td>Cherbourg</td>\n",
       "      <td>yes</td>\n",
       "      <td>True</td>\n",
       "    </tr>\n",
       "    <tr>\n",
       "      <th>890</th>\n",
       "      <td>0</td>\n",
       "      <td>3</td>\n",
       "      <td>male</td>\n",
       "      <td>32.0</td>\n",
       "      <td>0</td>\n",
       "      <td>0</td>\n",
       "      <td>7.7500</td>\n",
       "      <td>Q</td>\n",
       "      <td>Third</td>\n",
       "      <td>man</td>\n",
       "      <td>True</td>\n",
       "      <td>NaN</td>\n",
       "      <td>Queenstown</td>\n",
       "      <td>no</td>\n",
       "      <td>True</td>\n",
       "    </tr>\n",
       "  </tbody>\n",
       "</table>\n",
       "<p>891 rows × 15 columns</p>\n",
       "</div>"
      ],
      "text/plain": [
       "     survived  pclass     sex   age  sibsp  parch     fare embarked   class  \\\n",
       "0           0       3    male  22.0      1      0   7.2500        S   Third   \n",
       "1           1       1  female  38.0      1      0  71.2833        C   First   \n",
       "2           1       3  female  26.0      0      0   7.9250        S   Third   \n",
       "3           1       1  female  35.0      1      0  53.1000        S   First   \n",
       "4           0       3    male  35.0      0      0   8.0500        S   Third   \n",
       "..        ...     ...     ...   ...    ...    ...      ...      ...     ...   \n",
       "886         0       2    male  27.0      0      0  13.0000        S  Second   \n",
       "887         1       1  female  19.0      0      0  30.0000        S   First   \n",
       "888         0       3  female   NaN      1      2  23.4500        S   Third   \n",
       "889         1       1    male  26.0      0      0  30.0000        C   First   \n",
       "890         0       3    male  32.0      0      0   7.7500        Q   Third   \n",
       "\n",
       "       who  adult_male deck  embark_town alive  alone  \n",
       "0      man        True  NaN  Southampton    no  False  \n",
       "1    woman       False    C    Cherbourg   yes  False  \n",
       "2    woman       False  NaN  Southampton   yes   True  \n",
       "3    woman       False    C  Southampton   yes  False  \n",
       "4      man        True  NaN  Southampton    no   True  \n",
       "..     ...         ...  ...          ...   ...    ...  \n",
       "886    man        True  NaN  Southampton    no   True  \n",
       "887  woman       False    B  Southampton   yes   True  \n",
       "888  woman       False  NaN  Southampton    no  False  \n",
       "889    man        True    C    Cherbourg   yes   True  \n",
       "890    man        True  NaN   Queenstown    no   True  \n",
       "\n",
       "[891 rows x 15 columns]"
      ]
     },
     "execution_count": 18,
     "metadata": {},
     "output_type": "execute_result"
    }
   ],
   "source": [
    "d=sb.load_dataset('titanic')\n",
    "d"
   ]
  },
  {
   "cell_type": "code",
   "execution_count": 6,
   "id": "b70f9ebd",
   "metadata": {},
   "outputs": [
    {
     "data": {
      "text/html": [
       "<div>\n",
       "<style scoped>\n",
       "    .dataframe tbody tr th:only-of-type {\n",
       "        vertical-align: middle;\n",
       "    }\n",
       "\n",
       "    .dataframe tbody tr th {\n",
       "        vertical-align: top;\n",
       "    }\n",
       "\n",
       "    .dataframe thead th {\n",
       "        text-align: right;\n",
       "    }\n",
       "</style>\n",
       "<table border=\"1\" class=\"dataframe\">\n",
       "  <thead>\n",
       "    <tr style=\"text-align: right;\">\n",
       "      <th>sex</th>\n",
       "      <th>female</th>\n",
       "      <th>male</th>\n",
       "    </tr>\n",
       "    <tr>\n",
       "      <th>class</th>\n",
       "      <th></th>\n",
       "      <th></th>\n",
       "    </tr>\n",
       "  </thead>\n",
       "  <tbody>\n",
       "    <tr>\n",
       "      <th>First</th>\n",
       "      <td>94</td>\n",
       "      <td>122</td>\n",
       "    </tr>\n",
       "    <tr>\n",
       "      <th>Second</th>\n",
       "      <td>76</td>\n",
       "      <td>108</td>\n",
       "    </tr>\n",
       "    <tr>\n",
       "      <th>Third</th>\n",
       "      <td>144</td>\n",
       "      <td>347</td>\n",
       "    </tr>\n",
       "  </tbody>\n",
       "</table>\n",
       "</div>"
      ],
      "text/plain": [
       "sex     female  male\n",
       "class               \n",
       "First       94   122\n",
       "Second      76   108\n",
       "Third      144   347"
      ]
     },
     "execution_count": 6,
     "metadata": {},
     "output_type": "execute_result"
    }
   ],
   "source": [
    "d.pivot_table(index='class',columns='sex',values='alive',aggfunc='count')"
   ]
  },
  {
   "cell_type": "code",
   "execution_count": 19,
   "id": "a339ed34",
   "metadata": {},
   "outputs": [
    {
     "data": {
      "text/html": [
       "<div>\n",
       "<style scoped>\n",
       "    .dataframe tbody tr th:only-of-type {\n",
       "        vertical-align: middle;\n",
       "    }\n",
       "\n",
       "    .dataframe tbody tr th {\n",
       "        vertical-align: top;\n",
       "    }\n",
       "\n",
       "    .dataframe thead th {\n",
       "        text-align: right;\n",
       "    }\n",
       "</style>\n",
       "<table border=\"1\" class=\"dataframe\">\n",
       "  <thead>\n",
       "    <tr style=\"text-align: right;\">\n",
       "      <th></th>\n",
       "      <th>age</th>\n",
       "      <th>fare</th>\n",
       "      <th>sex</th>\n",
       "      <th>embark_town</th>\n",
       "      <th>class</th>\n",
       "    </tr>\n",
       "  </thead>\n",
       "  <tbody>\n",
       "    <tr>\n",
       "      <th>0</th>\n",
       "      <td>22.0</td>\n",
       "      <td>7.2500</td>\n",
       "      <td>male</td>\n",
       "      <td>Southampton</td>\n",
       "      <td>Third</td>\n",
       "    </tr>\n",
       "    <tr>\n",
       "      <th>1</th>\n",
       "      <td>38.0</td>\n",
       "      <td>71.2833</td>\n",
       "      <td>female</td>\n",
       "      <td>Cherbourg</td>\n",
       "      <td>First</td>\n",
       "    </tr>\n",
       "    <tr>\n",
       "      <th>2</th>\n",
       "      <td>26.0</td>\n",
       "      <td>7.9250</td>\n",
       "      <td>female</td>\n",
       "      <td>Southampton</td>\n",
       "      <td>Third</td>\n",
       "    </tr>\n",
       "    <tr>\n",
       "      <th>3</th>\n",
       "      <td>35.0</td>\n",
       "      <td>53.1000</td>\n",
       "      <td>female</td>\n",
       "      <td>Southampton</td>\n",
       "      <td>First</td>\n",
       "    </tr>\n",
       "    <tr>\n",
       "      <th>4</th>\n",
       "      <td>35.0</td>\n",
       "      <td>8.0500</td>\n",
       "      <td>male</td>\n",
       "      <td>Southampton</td>\n",
       "      <td>Third</td>\n",
       "    </tr>\n",
       "    <tr>\n",
       "      <th>...</th>\n",
       "      <td>...</td>\n",
       "      <td>...</td>\n",
       "      <td>...</td>\n",
       "      <td>...</td>\n",
       "      <td>...</td>\n",
       "    </tr>\n",
       "    <tr>\n",
       "      <th>886</th>\n",
       "      <td>27.0</td>\n",
       "      <td>13.0000</td>\n",
       "      <td>male</td>\n",
       "      <td>Southampton</td>\n",
       "      <td>Second</td>\n",
       "    </tr>\n",
       "    <tr>\n",
       "      <th>887</th>\n",
       "      <td>19.0</td>\n",
       "      <td>30.0000</td>\n",
       "      <td>female</td>\n",
       "      <td>Southampton</td>\n",
       "      <td>First</td>\n",
       "    </tr>\n",
       "    <tr>\n",
       "      <th>888</th>\n",
       "      <td>NaN</td>\n",
       "      <td>23.4500</td>\n",
       "      <td>female</td>\n",
       "      <td>Southampton</td>\n",
       "      <td>Third</td>\n",
       "    </tr>\n",
       "    <tr>\n",
       "      <th>889</th>\n",
       "      <td>26.0</td>\n",
       "      <td>30.0000</td>\n",
       "      <td>male</td>\n",
       "      <td>Cherbourg</td>\n",
       "      <td>First</td>\n",
       "    </tr>\n",
       "    <tr>\n",
       "      <th>890</th>\n",
       "      <td>32.0</td>\n",
       "      <td>7.7500</td>\n",
       "      <td>male</td>\n",
       "      <td>Queenstown</td>\n",
       "      <td>Third</td>\n",
       "    </tr>\n",
       "  </tbody>\n",
       "</table>\n",
       "<p>891 rows × 5 columns</p>\n",
       "</div>"
      ],
      "text/plain": [
       "      age     fare     sex  embark_town   class\n",
       "0    22.0   7.2500    male  Southampton   Third\n",
       "1    38.0  71.2833  female    Cherbourg   First\n",
       "2    26.0   7.9250  female  Southampton   Third\n",
       "3    35.0  53.1000  female  Southampton   First\n",
       "4    35.0   8.0500    male  Southampton   Third\n",
       "..    ...      ...     ...          ...     ...\n",
       "886  27.0  13.0000    male  Southampton  Second\n",
       "887  19.0  30.0000  female  Southampton   First\n",
       "888   NaN  23.4500  female  Southampton   Third\n",
       "889  26.0  30.0000    male    Cherbourg   First\n",
       "890  32.0   7.7500    male   Queenstown   Third\n",
       "\n",
       "[891 rows x 5 columns]"
      ]
     },
     "execution_count": 19,
     "metadata": {},
     "output_type": "execute_result"
    }
   ],
   "source": [
    "#note before encoding or sclaing remove all nul values\n",
    "d1=d[['age','fare','sex','embark_town','class']]\n",
    "d1"
   ]
  },
  {
   "cell_type": "code",
   "execution_count": 20,
   "id": "a57257d9",
   "metadata": {},
   "outputs": [
    {
     "data": {
      "text/plain": [
       "age            177\n",
       "fare             0\n",
       "sex              0\n",
       "embark_town      2\n",
       "class            0\n",
       "dtype: int64"
      ]
     },
     "execution_count": 20,
     "metadata": {},
     "output_type": "execute_result"
    }
   ],
   "source": [
    "d1.isnull().sum()"
   ]
  },
  {
   "cell_type": "code",
   "execution_count": 21,
   "id": "68eec9cc",
   "metadata": {},
   "outputs": [
    {
     "name": "stderr",
     "output_type": "stream",
     "text": [
      "C:\\Users\\2112161\\Anaconda3\\lib\\site-packages\\pandas\\core\\generic.py:6392: SettingWithCopyWarning: \n",
      "A value is trying to be set on a copy of a slice from a DataFrame\n",
      "\n",
      "See the caveats in the documentation: https://pandas.pydata.org/pandas-docs/stable/user_guide/indexing.html#returning-a-view-versus-a-copy\n",
      "  return self._update_inplace(result)\n"
     ]
    },
    {
     "data": {
      "text/plain": [
       "0      22.0\n",
       "1      38.0\n",
       "2      26.0\n",
       "3      35.0\n",
       "4      35.0\n",
       "       ... \n",
       "886    27.0\n",
       "887    19.0\n",
       "888    29.7\n",
       "889    26.0\n",
       "890    32.0\n",
       "Name: age, Length: 891, dtype: float64"
      ]
     },
     "execution_count": 21,
     "metadata": {},
     "output_type": "execute_result"
    }
   ],
   "source": [
    "d1.age.fillna(np.round(d1.age.mean(),2),inplace=True)\n",
    "d1.age"
   ]
  },
  {
   "cell_type": "code",
   "execution_count": 22,
   "id": "9112e91f",
   "metadata": {},
   "outputs": [
    {
     "data": {
      "text/plain": [
       "age            0\n",
       "fare           0\n",
       "sex            0\n",
       "embark_town    0\n",
       "class          0\n",
       "dtype: int64"
      ]
     },
     "execution_count": 22,
     "metadata": {},
     "output_type": "execute_result"
    }
   ],
   "source": [
    "d1=d1.dropna()\n",
    "d1.isnull().sum()"
   ]
  },
  {
   "cell_type": "code",
   "execution_count": 23,
   "id": "e0369a5d",
   "metadata": {},
   "outputs": [],
   "source": [
    "#standard scaling\n",
    "from sklearn.preprocessing import StandardScaler\n",
    "sc=StandardScaler()"
   ]
  },
  {
   "cell_type": "code",
   "execution_count": 24,
   "id": "3ba043fa",
   "metadata": {},
   "outputs": [
    {
     "data": {
      "text/html": [
       "<div>\n",
       "<style scoped>\n",
       "    .dataframe tbody tr th:only-of-type {\n",
       "        vertical-align: middle;\n",
       "    }\n",
       "\n",
       "    .dataframe tbody tr th {\n",
       "        vertical-align: top;\n",
       "    }\n",
       "\n",
       "    .dataframe thead th {\n",
       "        text-align: right;\n",
       "    }\n",
       "</style>\n",
       "<table border=\"1\" class=\"dataframe\">\n",
       "  <thead>\n",
       "    <tr style=\"text-align: right;\">\n",
       "      <th></th>\n",
       "      <th>age</th>\n",
       "      <th>fare</th>\n",
       "    </tr>\n",
       "  </thead>\n",
       "  <tbody>\n",
       "    <tr>\n",
       "      <th>count</th>\n",
       "      <td>889.000000</td>\n",
       "      <td>889.000000</td>\n",
       "    </tr>\n",
       "    <tr>\n",
       "      <th>mean</th>\n",
       "      <td>29.653622</td>\n",
       "      <td>32.096681</td>\n",
       "    </tr>\n",
       "    <tr>\n",
       "      <th>std</th>\n",
       "      <td>12.968367</td>\n",
       "      <td>49.697504</td>\n",
       "    </tr>\n",
       "    <tr>\n",
       "      <th>min</th>\n",
       "      <td>0.420000</td>\n",
       "      <td>0.000000</td>\n",
       "    </tr>\n",
       "    <tr>\n",
       "      <th>25%</th>\n",
       "      <td>22.000000</td>\n",
       "      <td>7.895800</td>\n",
       "    </tr>\n",
       "    <tr>\n",
       "      <th>50%</th>\n",
       "      <td>29.700000</td>\n",
       "      <td>14.454200</td>\n",
       "    </tr>\n",
       "    <tr>\n",
       "      <th>75%</th>\n",
       "      <td>35.000000</td>\n",
       "      <td>31.000000</td>\n",
       "    </tr>\n",
       "    <tr>\n",
       "      <th>max</th>\n",
       "      <td>80.000000</td>\n",
       "      <td>512.329200</td>\n",
       "    </tr>\n",
       "  </tbody>\n",
       "</table>\n",
       "</div>"
      ],
      "text/plain": [
       "              age        fare\n",
       "count  889.000000  889.000000\n",
       "mean    29.653622   32.096681\n",
       "std     12.968367   49.697504\n",
       "min      0.420000    0.000000\n",
       "25%     22.000000    7.895800\n",
       "50%     29.700000   14.454200\n",
       "75%     35.000000   31.000000\n",
       "max     80.000000  512.329200"
      ]
     },
     "execution_count": 24,
     "metadata": {},
     "output_type": "execute_result"
    }
   ],
   "source": [
    "#scaling only age nad fare\n",
    "x1=d1[['age','fare']]\n",
    "x1.describe()"
   ]
  },
  {
   "cell_type": "code",
   "execution_count": 27,
   "id": "ed90175f",
   "metadata": {},
   "outputs": [
    {
     "data": {
      "text/html": [
       "<div>\n",
       "<style scoped>\n",
       "    .dataframe tbody tr th:only-of-type {\n",
       "        vertical-align: middle;\n",
       "    }\n",
       "\n",
       "    .dataframe tbody tr th {\n",
       "        vertical-align: top;\n",
       "    }\n",
       "\n",
       "    .dataframe thead th {\n",
       "        text-align: right;\n",
       "    }\n",
       "</style>\n",
       "<table border=\"1\" class=\"dataframe\">\n",
       "  <thead>\n",
       "    <tr style=\"text-align: right;\">\n",
       "      <th></th>\n",
       "      <th>0</th>\n",
       "      <th>1</th>\n",
       "    </tr>\n",
       "  </thead>\n",
       "  <tbody>\n",
       "    <tr>\n",
       "      <th>count</th>\n",
       "      <td>8.890000e+02</td>\n",
       "      <td>8.890000e+02</td>\n",
       "    </tr>\n",
       "    <tr>\n",
       "      <th>mean</th>\n",
       "      <td>-3.868297e-17</td>\n",
       "      <td>1.092115e-16</td>\n",
       "    </tr>\n",
       "    <tr>\n",
       "      <th>std</th>\n",
       "      <td>1.000563e+00</td>\n",
       "      <td>1.000563e+00</td>\n",
       "    </tr>\n",
       "    <tr>\n",
       "      <th>min</th>\n",
       "      <td>-2.255494e+00</td>\n",
       "      <td>-6.462044e-01</td>\n",
       "    </tr>\n",
       "    <tr>\n",
       "      <th>25%</th>\n",
       "      <td>-5.905085e-01</td>\n",
       "      <td>-4.872378e-01</td>\n",
       "    </tr>\n",
       "    <tr>\n",
       "      <th>50%</th>\n",
       "      <td>3.578250e-03</td>\n",
       "      <td>-3.551972e-01</td>\n",
       "    </tr>\n",
       "    <tr>\n",
       "      <th>75%</th>\n",
       "      <td>4.124951e-01</td>\n",
       "      <td>-2.207954e-02</td>\n",
       "    </tr>\n",
       "    <tr>\n",
       "      <th>max</th>\n",
       "      <td>3.884430e+00</td>\n",
       "      <td>9.668551e+00</td>\n",
       "    </tr>\n",
       "  </tbody>\n",
       "</table>\n",
       "</div>"
      ],
      "text/plain": [
       "                  0             1\n",
       "count  8.890000e+02  8.890000e+02\n",
       "mean  -3.868297e-17  1.092115e-16\n",
       "std    1.000563e+00  1.000563e+00\n",
       "min   -2.255494e+00 -6.462044e-01\n",
       "25%   -5.905085e-01 -4.872378e-01\n",
       "50%    3.578250e-03 -3.551972e-01\n",
       "75%    4.124951e-01 -2.207954e-02\n",
       "max    3.884430e+00  9.668551e+00"
      ]
     },
     "execution_count": 27,
     "metadata": {},
     "output_type": "execute_result"
    }
   ],
   "source": [
    "xs=sc.fit_transform(x1)\n",
    "pd.DataFrame(xs).describe()#now see above and below mean is almost 0 and std is 1 or between 0 and 1 thisi is how standard sclaing is done"
   ]
  },
  {
   "cell_type": "code",
   "execution_count": 11,
   "id": "6c9607ce",
   "metadata": {},
   "outputs": [],
   "source": [
    "#min max scaler\n",
    "from sklearn.preprocessing import MinMaxScaler\n",
    "mm=MinMaxScaler()#by default it scales valies between 0 and 1 check by perssing shift tab "
   ]
  },
  {
   "cell_type": "code",
   "execution_count": 21,
   "id": "216f1baa",
   "metadata": {},
   "outputs": [
    {
     "data": {
      "text/plain": [
       "1778"
      ]
     },
     "execution_count": 21,
     "metadata": {},
     "output_type": "execute_result"
    }
   ],
   "source": [
    "xmm=mm.fit_transform(x1)\n",
    "xmm#so each value of x1 columns is mapped to values 0 to 1\n",
    "xmm.size"
   ]
  },
  {
   "cell_type": "code",
   "execution_count": 23,
   "id": "5f1084da",
   "metadata": {},
   "outputs": [
    {
     "data": {
      "text/plain": [
       "1778"
      ]
     },
     "execution_count": 23,
     "metadata": {},
     "output_type": "execute_result"
    }
   ],
   "source": [
    "x1.size#see above"
   ]
  },
  {
   "cell_type": "code",
   "execution_count": 24,
   "id": "8be5d93f",
   "metadata": {},
   "outputs": [
    {
     "data": {
      "text/html": [
       "<div>\n",
       "<style scoped>\n",
       "    .dataframe tbody tr th:only-of-type {\n",
       "        vertical-align: middle;\n",
       "    }\n",
       "\n",
       "    .dataframe tbody tr th {\n",
       "        vertical-align: top;\n",
       "    }\n",
       "\n",
       "    .dataframe thead th {\n",
       "        text-align: right;\n",
       "    }\n",
       "</style>\n",
       "<table border=\"1\" class=\"dataframe\">\n",
       "  <thead>\n",
       "    <tr style=\"text-align: right;\">\n",
       "      <th></th>\n",
       "      <th>0</th>\n",
       "      <th>1</th>\n",
       "    </tr>\n",
       "  </thead>\n",
       "  <tbody>\n",
       "    <tr>\n",
       "      <th>count</th>\n",
       "      <td>889.000000</td>\n",
       "      <td>889.000000</td>\n",
       "    </tr>\n",
       "    <tr>\n",
       "      <th>mean</th>\n",
       "      <td>0.367349</td>\n",
       "      <td>0.062649</td>\n",
       "    </tr>\n",
       "    <tr>\n",
       "      <th>std</th>\n",
       "      <td>0.162960</td>\n",
       "      <td>0.097003</td>\n",
       "    </tr>\n",
       "    <tr>\n",
       "      <th>min</th>\n",
       "      <td>0.000000</td>\n",
       "      <td>0.000000</td>\n",
       "    </tr>\n",
       "    <tr>\n",
       "      <th>25%</th>\n",
       "      <td>0.271174</td>\n",
       "      <td>0.015412</td>\n",
       "    </tr>\n",
       "    <tr>\n",
       "      <th>50%</th>\n",
       "      <td>0.367932</td>\n",
       "      <td>0.028213</td>\n",
       "    </tr>\n",
       "    <tr>\n",
       "      <th>75%</th>\n",
       "      <td>0.434531</td>\n",
       "      <td>0.060508</td>\n",
       "    </tr>\n",
       "    <tr>\n",
       "      <th>max</th>\n",
       "      <td>1.000000</td>\n",
       "      <td>1.000000</td>\n",
       "    </tr>\n",
       "  </tbody>\n",
       "</table>\n",
       "</div>"
      ],
      "text/plain": [
       "                0           1\n",
       "count  889.000000  889.000000\n",
       "mean     0.367349    0.062649\n",
       "std      0.162960    0.097003\n",
       "min      0.000000    0.000000\n",
       "25%      0.271174    0.015412\n",
       "50%      0.367932    0.028213\n",
       "75%      0.434531    0.060508\n",
       "max      1.000000    1.000000"
      ]
     },
     "execution_count": 24,
     "metadata": {},
     "output_type": "execute_result"
    }
   ],
   "source": [
    "pd.DataFrame(xmm).describe()#see min vali and max is 0 and 1"
   ]
  },
  {
   "cell_type": "code",
   "execution_count": 25,
   "id": "2f18b714",
   "metadata": {},
   "outputs": [
    {
     "data": {
      "text/html": [
       "<div>\n",
       "<style scoped>\n",
       "    .dataframe tbody tr th:only-of-type {\n",
       "        vertical-align: middle;\n",
       "    }\n",
       "\n",
       "    .dataframe tbody tr th {\n",
       "        vertical-align: top;\n",
       "    }\n",
       "\n",
       "    .dataframe thead th {\n",
       "        text-align: right;\n",
       "    }\n",
       "</style>\n",
       "<table border=\"1\" class=\"dataframe\">\n",
       "  <thead>\n",
       "    <tr style=\"text-align: right;\">\n",
       "      <th></th>\n",
       "      <th>0</th>\n",
       "      <th>1</th>\n",
       "    </tr>\n",
       "  </thead>\n",
       "  <tbody>\n",
       "    <tr>\n",
       "      <th>count</th>\n",
       "      <td>889.000000</td>\n",
       "      <td>889.000000</td>\n",
       "    </tr>\n",
       "    <tr>\n",
       "      <th>mean</th>\n",
       "      <td>-0.003568</td>\n",
       "      <td>0.763605</td>\n",
       "    </tr>\n",
       "    <tr>\n",
       "      <th>std</th>\n",
       "      <td>0.997567</td>\n",
       "      <td>2.151016</td>\n",
       "    </tr>\n",
       "    <tr>\n",
       "      <th>min</th>\n",
       "      <td>-2.252308</td>\n",
       "      <td>-0.625609</td>\n",
       "    </tr>\n",
       "    <tr>\n",
       "      <th>25%</th>\n",
       "      <td>-0.592308</td>\n",
       "      <td>-0.283862</td>\n",
       "    </tr>\n",
       "    <tr>\n",
       "      <th>50%</th>\n",
       "      <td>0.000000</td>\n",
       "      <td>0.000000</td>\n",
       "    </tr>\n",
       "    <tr>\n",
       "      <th>75%</th>\n",
       "      <td>0.407692</td>\n",
       "      <td>0.716138</td>\n",
       "    </tr>\n",
       "    <tr>\n",
       "      <th>max</th>\n",
       "      <td>3.869231</td>\n",
       "      <td>21.549112</td>\n",
       "    </tr>\n",
       "  </tbody>\n",
       "</table>\n",
       "</div>"
      ],
      "text/plain": [
       "                0           1\n",
       "count  889.000000  889.000000\n",
       "mean    -0.003568    0.763605\n",
       "std      0.997567    2.151016\n",
       "min     -2.252308   -0.625609\n",
       "25%     -0.592308   -0.283862\n",
       "50%      0.000000    0.000000\n",
       "75%      0.407692    0.716138\n",
       "max      3.869231   21.549112"
      ]
     },
     "execution_count": 25,
     "metadata": {},
     "output_type": "execute_result"
    }
   ],
   "source": [
    "from sklearn.preprocessing import RobustScaler\n",
    "rc=RobustScaler()\n",
    "xrc=rc.fit_transform(x1)\n",
    "pd.DataFrame(xrc).describe()"
   ]
  },
  {
   "cell_type": "code",
   "execution_count": null,
   "id": "d90bd6a2",
   "metadata": {},
   "outputs": [],
   "source": []
  },
  {
   "cell_type": "code",
   "execution_count": 15,
   "id": "96eb7639",
   "metadata": {},
   "outputs": [
    {
     "data": {
      "text/html": [
       "<div>\n",
       "<style scoped>\n",
       "    .dataframe tbody tr th:only-of-type {\n",
       "        vertical-align: middle;\n",
       "    }\n",
       "\n",
       "    .dataframe tbody tr th {\n",
       "        vertical-align: top;\n",
       "    }\n",
       "\n",
       "    .dataframe thead th {\n",
       "        text-align: right;\n",
       "    }\n",
       "</style>\n",
       "<table border=\"1\" class=\"dataframe\">\n",
       "  <thead>\n",
       "    <tr style=\"text-align: right;\">\n",
       "      <th></th>\n",
       "      <th>sex</th>\n",
       "      <th>embark_town</th>\n",
       "      <th>class</th>\n",
       "    </tr>\n",
       "  </thead>\n",
       "  <tbody>\n",
       "    <tr>\n",
       "      <th>0</th>\n",
       "      <td>male</td>\n",
       "      <td>Southampton</td>\n",
       "      <td>Third</td>\n",
       "    </tr>\n",
       "    <tr>\n",
       "      <th>1</th>\n",
       "      <td>female</td>\n",
       "      <td>Cherbourg</td>\n",
       "      <td>First</td>\n",
       "    </tr>\n",
       "    <tr>\n",
       "      <th>2</th>\n",
       "      <td>female</td>\n",
       "      <td>Southampton</td>\n",
       "      <td>Third</td>\n",
       "    </tr>\n",
       "    <tr>\n",
       "      <th>3</th>\n",
       "      <td>female</td>\n",
       "      <td>Southampton</td>\n",
       "      <td>First</td>\n",
       "    </tr>\n",
       "    <tr>\n",
       "      <th>4</th>\n",
       "      <td>male</td>\n",
       "      <td>Southampton</td>\n",
       "      <td>Third</td>\n",
       "    </tr>\n",
       "    <tr>\n",
       "      <th>...</th>\n",
       "      <td>...</td>\n",
       "      <td>...</td>\n",
       "      <td>...</td>\n",
       "    </tr>\n",
       "    <tr>\n",
       "      <th>886</th>\n",
       "      <td>male</td>\n",
       "      <td>Southampton</td>\n",
       "      <td>Second</td>\n",
       "    </tr>\n",
       "    <tr>\n",
       "      <th>887</th>\n",
       "      <td>female</td>\n",
       "      <td>Southampton</td>\n",
       "      <td>First</td>\n",
       "    </tr>\n",
       "    <tr>\n",
       "      <th>888</th>\n",
       "      <td>female</td>\n",
       "      <td>Southampton</td>\n",
       "      <td>Third</td>\n",
       "    </tr>\n",
       "    <tr>\n",
       "      <th>889</th>\n",
       "      <td>male</td>\n",
       "      <td>Cherbourg</td>\n",
       "      <td>First</td>\n",
       "    </tr>\n",
       "    <tr>\n",
       "      <th>890</th>\n",
       "      <td>male</td>\n",
       "      <td>Queenstown</td>\n",
       "      <td>Third</td>\n",
       "    </tr>\n",
       "  </tbody>\n",
       "</table>\n",
       "<p>891 rows × 3 columns</p>\n",
       "</div>"
      ],
      "text/plain": [
       "        sex  embark_town   class\n",
       "0      male  Southampton   Third\n",
       "1    female    Cherbourg   First\n",
       "2    female  Southampton   Third\n",
       "3    female  Southampton   First\n",
       "4      male  Southampton   Third\n",
       "..      ...          ...     ...\n",
       "886    male  Southampton  Second\n",
       "887  female  Southampton   First\n",
       "888  female  Southampton   Third\n",
       "889    male    Cherbourg   First\n",
       "890    male   Queenstown   Third\n",
       "\n",
       "[891 rows x 3 columns]"
      ]
     },
     "execution_count": 15,
     "metadata": {},
     "output_type": "execute_result"
    }
   ],
   "source": [
    "#feature encoding done for categ features and scaling for numberical\n",
    "x2=d[['sex','embark_town','class']]\n",
    "x2#here sex and embark are nominal and class is ordinal datar"
   ]
  },
  {
   "cell_type": "code",
   "execution_count": 27,
   "id": "0b970a96",
   "metadata": {},
   "outputs": [
    {
     "data": {
      "text/html": [
       "<div>\n",
       "<style scoped>\n",
       "    .dataframe tbody tr th:only-of-type {\n",
       "        vertical-align: middle;\n",
       "    }\n",
       "\n",
       "    .dataframe tbody tr th {\n",
       "        vertical-align: top;\n",
       "    }\n",
       "\n",
       "    .dataframe thead th {\n",
       "        text-align: right;\n",
       "    }\n",
       "</style>\n",
       "<table border=\"1\" class=\"dataframe\">\n",
       "  <thead>\n",
       "    <tr style=\"text-align: right;\">\n",
       "      <th></th>\n",
       "      <th>female</th>\n",
       "      <th>male</th>\n",
       "    </tr>\n",
       "  </thead>\n",
       "  <tbody>\n",
       "    <tr>\n",
       "      <th>0</th>\n",
       "      <td>0</td>\n",
       "      <td>1</td>\n",
       "    </tr>\n",
       "    <tr>\n",
       "      <th>1</th>\n",
       "      <td>1</td>\n",
       "      <td>0</td>\n",
       "    </tr>\n",
       "    <tr>\n",
       "      <th>2</th>\n",
       "      <td>1</td>\n",
       "      <td>0</td>\n",
       "    </tr>\n",
       "    <tr>\n",
       "      <th>3</th>\n",
       "      <td>1</td>\n",
       "      <td>0</td>\n",
       "    </tr>\n",
       "    <tr>\n",
       "      <th>4</th>\n",
       "      <td>0</td>\n",
       "      <td>1</td>\n",
       "    </tr>\n",
       "    <tr>\n",
       "      <th>...</th>\n",
       "      <td>...</td>\n",
       "      <td>...</td>\n",
       "    </tr>\n",
       "    <tr>\n",
       "      <th>886</th>\n",
       "      <td>0</td>\n",
       "      <td>1</td>\n",
       "    </tr>\n",
       "    <tr>\n",
       "      <th>887</th>\n",
       "      <td>1</td>\n",
       "      <td>0</td>\n",
       "    </tr>\n",
       "    <tr>\n",
       "      <th>888</th>\n",
       "      <td>1</td>\n",
       "      <td>0</td>\n",
       "    </tr>\n",
       "    <tr>\n",
       "      <th>889</th>\n",
       "      <td>0</td>\n",
       "      <td>1</td>\n",
       "    </tr>\n",
       "    <tr>\n",
       "      <th>890</th>\n",
       "      <td>0</td>\n",
       "      <td>1</td>\n",
       "    </tr>\n",
       "  </tbody>\n",
       "</table>\n",
       "<p>891 rows × 2 columns</p>\n",
       "</div>"
      ],
      "text/plain": [
       "     female  male\n",
       "0         0     1\n",
       "1         1     0\n",
       "2         1     0\n",
       "3         1     0\n",
       "4         0     1\n",
       "..      ...   ...\n",
       "886       0     1\n",
       "887       1     0\n",
       "888       1     0\n",
       "889       0     1\n",
       "890       0     1\n",
       "\n",
       "[891 rows x 2 columns]"
      ]
     },
     "execution_count": 27,
     "metadata": {},
     "output_type": "execute_result"
    }
   ],
   "source": [
    "#one hot encoding can be done using pandas and sklearn\n",
    "#using pandas\n",
    "gen=pd.get_dummies(x2.sex)\n",
    "gen# here for index 0 female is 0 and male is 1 means index 0 has only male entry check above"
   ]
  },
  {
   "cell_type": "code",
   "execution_count": 19,
   "id": "49d26301",
   "metadata": {},
   "outputs": [
    {
     "data": {
      "text/html": [
       "<div>\n",
       "<style scoped>\n",
       "    .dataframe tbody tr th:only-of-type {\n",
       "        vertical-align: middle;\n",
       "    }\n",
       "\n",
       "    .dataframe tbody tr th {\n",
       "        vertical-align: top;\n",
       "    }\n",
       "\n",
       "    .dataframe thead th {\n",
       "        text-align: right;\n",
       "    }\n",
       "</style>\n",
       "<table border=\"1\" class=\"dataframe\">\n",
       "  <thead>\n",
       "    <tr style=\"text-align: right;\">\n",
       "      <th></th>\n",
       "      <th>male</th>\n",
       "    </tr>\n",
       "  </thead>\n",
       "  <tbody>\n",
       "    <tr>\n",
       "      <th>0</th>\n",
       "      <td>1</td>\n",
       "    </tr>\n",
       "    <tr>\n",
       "      <th>1</th>\n",
       "      <td>0</td>\n",
       "    </tr>\n",
       "    <tr>\n",
       "      <th>2</th>\n",
       "      <td>0</td>\n",
       "    </tr>\n",
       "    <tr>\n",
       "      <th>3</th>\n",
       "      <td>0</td>\n",
       "    </tr>\n",
       "    <tr>\n",
       "      <th>4</th>\n",
       "      <td>1</td>\n",
       "    </tr>\n",
       "    <tr>\n",
       "      <th>...</th>\n",
       "      <td>...</td>\n",
       "    </tr>\n",
       "    <tr>\n",
       "      <th>886</th>\n",
       "      <td>1</td>\n",
       "    </tr>\n",
       "    <tr>\n",
       "      <th>887</th>\n",
       "      <td>0</td>\n",
       "    </tr>\n",
       "    <tr>\n",
       "      <th>888</th>\n",
       "      <td>0</td>\n",
       "    </tr>\n",
       "    <tr>\n",
       "      <th>889</th>\n",
       "      <td>1</td>\n",
       "    </tr>\n",
       "    <tr>\n",
       "      <th>890</th>\n",
       "      <td>1</td>\n",
       "    </tr>\n",
       "  </tbody>\n",
       "</table>\n",
       "<p>891 rows × 1 columns</p>\n",
       "</div>"
      ],
      "text/plain": [
       "     male\n",
       "0       1\n",
       "1       0\n",
       "2       0\n",
       "3       0\n",
       "4       1\n",
       "..    ...\n",
       "886     1\n",
       "887     0\n",
       "888     0\n",
       "889     1\n",
       "890     1\n",
       "\n",
       "[891 rows x 1 columns]"
      ]
     },
     "execution_count": 19,
     "metadata": {},
     "output_type": "execute_result"
    }
   ],
   "source": [
    "#but as discussed in lec we  can remove on column for btr clairity\n",
    "gen=pd.get_dummies(x2.sex,drop_first=True)\n",
    "gen# now 1 is male and 0 is female"
   ]
  },
  {
   "cell_type": "code",
   "execution_count": 30,
   "id": "8836a0c7",
   "metadata": {},
   "outputs": [
    {
     "data": {
      "text/html": [
       "<div>\n",
       "<style scoped>\n",
       "    .dataframe tbody tr th:only-of-type {\n",
       "        vertical-align: middle;\n",
       "    }\n",
       "\n",
       "    .dataframe tbody tr th {\n",
       "        vertical-align: top;\n",
       "    }\n",
       "\n",
       "    .dataframe thead th {\n",
       "        text-align: right;\n",
       "    }\n",
       "</style>\n",
       "<table border=\"1\" class=\"dataframe\">\n",
       "  <thead>\n",
       "    <tr style=\"text-align: right;\">\n",
       "      <th></th>\n",
       "      <th>Cherbourg</th>\n",
       "      <th>Queenstown</th>\n",
       "      <th>Southampton</th>\n",
       "    </tr>\n",
       "  </thead>\n",
       "  <tbody>\n",
       "    <tr>\n",
       "      <th>0</th>\n",
       "      <td>0</td>\n",
       "      <td>0</td>\n",
       "      <td>1</td>\n",
       "    </tr>\n",
       "    <tr>\n",
       "      <th>1</th>\n",
       "      <td>1</td>\n",
       "      <td>0</td>\n",
       "      <td>0</td>\n",
       "    </tr>\n",
       "    <tr>\n",
       "      <th>2</th>\n",
       "      <td>0</td>\n",
       "      <td>0</td>\n",
       "      <td>1</td>\n",
       "    </tr>\n",
       "    <tr>\n",
       "      <th>3</th>\n",
       "      <td>0</td>\n",
       "      <td>0</td>\n",
       "      <td>1</td>\n",
       "    </tr>\n",
       "    <tr>\n",
       "      <th>4</th>\n",
       "      <td>0</td>\n",
       "      <td>0</td>\n",
       "      <td>1</td>\n",
       "    </tr>\n",
       "    <tr>\n",
       "      <th>...</th>\n",
       "      <td>...</td>\n",
       "      <td>...</td>\n",
       "      <td>...</td>\n",
       "    </tr>\n",
       "    <tr>\n",
       "      <th>886</th>\n",
       "      <td>0</td>\n",
       "      <td>0</td>\n",
       "      <td>1</td>\n",
       "    </tr>\n",
       "    <tr>\n",
       "      <th>887</th>\n",
       "      <td>0</td>\n",
       "      <td>0</td>\n",
       "      <td>1</td>\n",
       "    </tr>\n",
       "    <tr>\n",
       "      <th>888</th>\n",
       "      <td>0</td>\n",
       "      <td>0</td>\n",
       "      <td>1</td>\n",
       "    </tr>\n",
       "    <tr>\n",
       "      <th>889</th>\n",
       "      <td>1</td>\n",
       "      <td>0</td>\n",
       "      <td>0</td>\n",
       "    </tr>\n",
       "    <tr>\n",
       "      <th>890</th>\n",
       "      <td>0</td>\n",
       "      <td>1</td>\n",
       "      <td>0</td>\n",
       "    </tr>\n",
       "  </tbody>\n",
       "</table>\n",
       "<p>891 rows × 3 columns</p>\n",
       "</div>"
      ],
      "text/plain": [
       "     Cherbourg  Queenstown  Southampton\n",
       "0            0           0            1\n",
       "1            1           0            0\n",
       "2            0           0            1\n",
       "3            0           0            1\n",
       "4            0           0            1\n",
       "..         ...         ...          ...\n",
       "886          0           0            1\n",
       "887          0           0            1\n",
       "888          0           0            1\n",
       "889          1           0            0\n",
       "890          0           1            0\n",
       "\n",
       "[891 rows x 3 columns]"
      ]
     },
     "execution_count": 30,
     "metadata": {},
     "output_type": "execute_result"
    }
   ],
   "source": [
    "emb=pd.get_dummies(x2.embark_town)\n",
    "emb"
   ]
  },
  {
   "cell_type": "code",
   "execution_count": 17,
   "id": "52589f09",
   "metadata": {},
   "outputs": [
    {
     "data": {
      "text/html": [
       "<div>\n",
       "<style scoped>\n",
       "    .dataframe tbody tr th:only-of-type {\n",
       "        vertical-align: middle;\n",
       "    }\n",
       "\n",
       "    .dataframe tbody tr th {\n",
       "        vertical-align: top;\n",
       "    }\n",
       "\n",
       "    .dataframe thead th {\n",
       "        text-align: right;\n",
       "    }\n",
       "</style>\n",
       "<table border=\"1\" class=\"dataframe\">\n",
       "  <thead>\n",
       "    <tr style=\"text-align: right;\">\n",
       "      <th></th>\n",
       "      <th>Queenstown</th>\n",
       "      <th>Southampton</th>\n",
       "    </tr>\n",
       "  </thead>\n",
       "  <tbody>\n",
       "    <tr>\n",
       "      <th>0</th>\n",
       "      <td>0</td>\n",
       "      <td>1</td>\n",
       "    </tr>\n",
       "    <tr>\n",
       "      <th>1</th>\n",
       "      <td>0</td>\n",
       "      <td>0</td>\n",
       "    </tr>\n",
       "    <tr>\n",
       "      <th>2</th>\n",
       "      <td>0</td>\n",
       "      <td>1</td>\n",
       "    </tr>\n",
       "    <tr>\n",
       "      <th>3</th>\n",
       "      <td>0</td>\n",
       "      <td>1</td>\n",
       "    </tr>\n",
       "    <tr>\n",
       "      <th>4</th>\n",
       "      <td>0</td>\n",
       "      <td>1</td>\n",
       "    </tr>\n",
       "    <tr>\n",
       "      <th>...</th>\n",
       "      <td>...</td>\n",
       "      <td>...</td>\n",
       "    </tr>\n",
       "    <tr>\n",
       "      <th>886</th>\n",
       "      <td>0</td>\n",
       "      <td>1</td>\n",
       "    </tr>\n",
       "    <tr>\n",
       "      <th>887</th>\n",
       "      <td>0</td>\n",
       "      <td>1</td>\n",
       "    </tr>\n",
       "    <tr>\n",
       "      <th>888</th>\n",
       "      <td>0</td>\n",
       "      <td>1</td>\n",
       "    </tr>\n",
       "    <tr>\n",
       "      <th>889</th>\n",
       "      <td>0</td>\n",
       "      <td>0</td>\n",
       "    </tr>\n",
       "    <tr>\n",
       "      <th>890</th>\n",
       "      <td>1</td>\n",
       "      <td>0</td>\n",
       "    </tr>\n",
       "  </tbody>\n",
       "</table>\n",
       "<p>891 rows × 2 columns</p>\n",
       "</div>"
      ],
      "text/plain": [
       "     Queenstown  Southampton\n",
       "0             0            1\n",
       "1             0            0\n",
       "2             0            1\n",
       "3             0            1\n",
       "4             0            1\n",
       "..          ...          ...\n",
       "886           0            1\n",
       "887           0            1\n",
       "888           0            1\n",
       "889           0            0\n",
       "890           1            0\n",
       "\n",
       "[891 rows x 2 columns]"
      ]
     },
     "execution_count": 17,
     "metadata": {},
     "output_type": "execute_result"
    }
   ],
   "source": [
    "emb=pd.get_dummies(x2.embark_town,drop_first=True)\n",
    "emb"
   ]
  },
  {
   "cell_type": "code",
   "execution_count": 20,
   "id": "82fb4d56",
   "metadata": {},
   "outputs": [
    {
     "data": {
      "text/html": [
       "<div>\n",
       "<style scoped>\n",
       "    .dataframe tbody tr th:only-of-type {\n",
       "        vertical-align: middle;\n",
       "    }\n",
       "\n",
       "    .dataframe tbody tr th {\n",
       "        vertical-align: top;\n",
       "    }\n",
       "\n",
       "    .dataframe thead th {\n",
       "        text-align: right;\n",
       "    }\n",
       "</style>\n",
       "<table border=\"1\" class=\"dataframe\">\n",
       "  <thead>\n",
       "    <tr style=\"text-align: right;\">\n",
       "      <th></th>\n",
       "      <th>sex</th>\n",
       "      <th>embark_town</th>\n",
       "      <th>class</th>\n",
       "      <th>Queenstown</th>\n",
       "      <th>Southampton</th>\n",
       "      <th>male</th>\n",
       "    </tr>\n",
       "  </thead>\n",
       "  <tbody>\n",
       "    <tr>\n",
       "      <th>0</th>\n",
       "      <td>male</td>\n",
       "      <td>Southampton</td>\n",
       "      <td>Third</td>\n",
       "      <td>0</td>\n",
       "      <td>1</td>\n",
       "      <td>1</td>\n",
       "    </tr>\n",
       "    <tr>\n",
       "      <th>1</th>\n",
       "      <td>female</td>\n",
       "      <td>Cherbourg</td>\n",
       "      <td>First</td>\n",
       "      <td>0</td>\n",
       "      <td>0</td>\n",
       "      <td>0</td>\n",
       "    </tr>\n",
       "    <tr>\n",
       "      <th>2</th>\n",
       "      <td>female</td>\n",
       "      <td>Southampton</td>\n",
       "      <td>Third</td>\n",
       "      <td>0</td>\n",
       "      <td>1</td>\n",
       "      <td>0</td>\n",
       "    </tr>\n",
       "    <tr>\n",
       "      <th>3</th>\n",
       "      <td>female</td>\n",
       "      <td>Southampton</td>\n",
       "      <td>First</td>\n",
       "      <td>0</td>\n",
       "      <td>1</td>\n",
       "      <td>0</td>\n",
       "    </tr>\n",
       "    <tr>\n",
       "      <th>4</th>\n",
       "      <td>male</td>\n",
       "      <td>Southampton</td>\n",
       "      <td>Third</td>\n",
       "      <td>0</td>\n",
       "      <td>1</td>\n",
       "      <td>1</td>\n",
       "    </tr>\n",
       "    <tr>\n",
       "      <th>...</th>\n",
       "      <td>...</td>\n",
       "      <td>...</td>\n",
       "      <td>...</td>\n",
       "      <td>...</td>\n",
       "      <td>...</td>\n",
       "      <td>...</td>\n",
       "    </tr>\n",
       "    <tr>\n",
       "      <th>886</th>\n",
       "      <td>male</td>\n",
       "      <td>Southampton</td>\n",
       "      <td>Second</td>\n",
       "      <td>0</td>\n",
       "      <td>1</td>\n",
       "      <td>1</td>\n",
       "    </tr>\n",
       "    <tr>\n",
       "      <th>887</th>\n",
       "      <td>female</td>\n",
       "      <td>Southampton</td>\n",
       "      <td>First</td>\n",
       "      <td>0</td>\n",
       "      <td>1</td>\n",
       "      <td>0</td>\n",
       "    </tr>\n",
       "    <tr>\n",
       "      <th>888</th>\n",
       "      <td>female</td>\n",
       "      <td>Southampton</td>\n",
       "      <td>Third</td>\n",
       "      <td>0</td>\n",
       "      <td>1</td>\n",
       "      <td>0</td>\n",
       "    </tr>\n",
       "    <tr>\n",
       "      <th>889</th>\n",
       "      <td>male</td>\n",
       "      <td>Cherbourg</td>\n",
       "      <td>First</td>\n",
       "      <td>0</td>\n",
       "      <td>0</td>\n",
       "      <td>1</td>\n",
       "    </tr>\n",
       "    <tr>\n",
       "      <th>890</th>\n",
       "      <td>male</td>\n",
       "      <td>Queenstown</td>\n",
       "      <td>Third</td>\n",
       "      <td>1</td>\n",
       "      <td>0</td>\n",
       "      <td>1</td>\n",
       "    </tr>\n",
       "  </tbody>\n",
       "</table>\n",
       "<p>891 rows × 6 columns</p>\n",
       "</div>"
      ],
      "text/plain": [
       "        sex  embark_town   class  Queenstown  Southampton  male\n",
       "0      male  Southampton   Third           0            1     1\n",
       "1    female    Cherbourg   First           0            0     0\n",
       "2    female  Southampton   Third           0            1     0\n",
       "3    female  Southampton   First           0            1     0\n",
       "4      male  Southampton   Third           0            1     1\n",
       "..      ...          ...     ...         ...          ...   ...\n",
       "886    male  Southampton  Second           0            1     1\n",
       "887  female  Southampton   First           0            1     0\n",
       "888  female  Southampton   Third           0            1     0\n",
       "889    male    Cherbourg   First           0            0     1\n",
       "890    male   Queenstown   Third           1            0     1\n",
       "\n",
       "[891 rows x 6 columns]"
      ]
     },
     "execution_count": 20,
     "metadata": {},
     "output_type": "execute_result"
    }
   ],
   "source": [
    "x2=pd.concat([x2,emb,gen],axis=1)#after encoding merge\n",
    "x2"
   ]
  },
  {
   "cell_type": "code",
   "execution_count": 21,
   "id": "4fad826c",
   "metadata": {},
   "outputs": [],
   "source": [
    "#using sklearn\n",
    "from sklearn.preprocessing import OneHotEncoder\n",
    "he=OneHotEncoder()\n"
   ]
  },
  {
   "cell_type": "code",
   "execution_count": 22,
   "id": "cfea8ea3",
   "metadata": {},
   "outputs": [
    {
     "ename": "ValueError",
     "evalue": "Expected 2D array, got 1D array instead:\narray=['male' 'female' 'female' 'female' 'male' 'male' 'male' 'male' 'female'\n 'female' 'female' 'female' 'male' 'male' 'female' 'female' 'male' 'male'\n 'female' 'female' 'male' 'male' 'female' 'male' 'female' 'female' 'male'\n 'male' 'female' 'male' 'male' 'female' 'female' 'male' 'male' 'male'\n 'male' 'male' 'female' 'female' 'female' 'female' 'male' 'female'\n 'female' 'male' 'male' 'female' 'male' 'female' 'male' 'male' 'female'\n 'female' 'male' 'male' 'female' 'male' 'female' 'male' 'male' 'female'\n 'male' 'male' 'male' 'male' 'female' 'male' 'female' 'male' 'male'\n 'female' 'male' 'male' 'male' 'male' 'male' 'male' 'male' 'female' 'male'\n 'male' 'female' 'male' 'female' 'female' 'male' 'male' 'female' 'male'\n 'male' 'male' 'male' 'male' 'male' 'male' 'male' 'male' 'female' 'male'\n 'female' 'male' 'male' 'male' 'male' 'male' 'female' 'male' 'male'\n 'female' 'male' 'female' 'male' 'female' 'female' 'male' 'male' 'male'\n 'male' 'female' 'male' 'male' 'male' 'female' 'male' 'male' 'male' 'male'\n 'female' 'male' 'male' 'male' 'female' 'female' 'male' 'male' 'female'\n 'male' 'male' 'male' 'female' 'female' 'female' 'male' 'male' 'male'\n 'male' 'female' 'male' 'male' 'male' 'female' 'male' 'male' 'male' 'male'\n 'female' 'male' 'male' 'male' 'male' 'female' 'male' 'male' 'male' 'male'\n 'female' 'female' 'male' 'male' 'male' 'male' 'female' 'male' 'male'\n 'male' 'male' 'female' 'male' 'male' 'female' 'male' 'male' 'male'\n 'female' 'male' 'female' 'male' 'male' 'male' 'female' 'male' 'female'\n 'male' 'female' 'female' 'male' 'male' 'female' 'female' 'male' 'male'\n 'male' 'male' 'male' 'female' 'male' 'male' 'female' 'male' 'male'\n 'female' 'male' 'male' 'male' 'female' 'female' 'male' 'female' 'male'\n 'male' 'male' 'male' 'male' 'male' 'male' 'male' 'male' 'male' 'female'\n 'female' 'male' 'male' 'female' 'male' 'female' 'male' 'female' 'male'\n 'male' 'female' 'female' 'male' 'male' 'male' 'male' 'female' 'female'\n 'male' 'male' 'male' 'female' 'male' 'male' 'female' 'female' 'female'\n 'female' 'female' 'female' 'male' 'male' 'male' 'male' 'female' 'male'\n 'male' 'male' 'female' 'female' 'male' 'male' 'female' 'male' 'female'\n 'female' 'female' 'male' 'male' 'female' 'male' 'male' 'male' 'male'\n 'male' 'male' 'male' 'male' 'male' 'female' 'female' 'female' 'male'\n 'female' 'male' 'male' 'male' 'female' 'male' 'female' 'female' 'male'\n 'male' 'female' 'male' 'male' 'female' 'female' 'male' 'female' 'female'\n 'female' 'female' 'male' 'male' 'female' 'female' 'male' 'female'\n 'female' 'male' 'male' 'female' 'female' 'male' 'female' 'male' 'female'\n 'female' 'female' 'female' 'male' 'male' 'male' 'female' 'male' 'male'\n 'female' 'male' 'male' 'male' 'female' 'male' 'male' 'male' 'female'\n 'female' 'female' 'male' 'male' 'male' 'male' 'male' 'male' 'male' 'male'\n 'female' 'female' 'female' 'female' 'male' 'male' 'female' 'male' 'male'\n 'male' 'female' 'female' 'female' 'female' 'male' 'male' 'male' 'male'\n 'female' 'female' 'female' 'male' 'male' 'male' 'female' 'female' 'male'\n 'female' 'male' 'male' 'male' 'female' 'male' 'female' 'male' 'male'\n 'male' 'female' 'female' 'male' 'female' 'male' 'male' 'female' 'male'\n 'male' 'female' 'male' 'female' 'male' 'male' 'male' 'male' 'female'\n 'male' 'male' 'female' 'male' 'male' 'female' 'female' 'female' 'male'\n 'female' 'male' 'male' 'male' 'female' 'male' 'male' 'female' 'female'\n 'male' 'male' 'male' 'female' 'female' 'male' 'male' 'female' 'female'\n 'female' 'male' 'male' 'female' 'male' 'male' 'female' 'male' 'male'\n 'female' 'male' 'female' 'male' 'male' 'male' 'male' 'male' 'male' 'male'\n 'male' 'female' 'female' 'male' 'male' 'male' 'male' 'male' 'male' 'male'\n 'male' 'male' 'male' 'female' 'male' 'male' 'female' 'female' 'female'\n 'male' 'male' 'male' 'male' 'female' 'male' 'male' 'male' 'female' 'male'\n 'female' 'female' 'male' 'male' 'male' 'male' 'male' 'male' 'male' 'male'\n 'male' 'female' 'male' 'female' 'male' 'male' 'female' 'female' 'female'\n 'female' 'male' 'female' 'male' 'male' 'male' 'male' 'male' 'male'\n 'female' 'male' 'male' 'female' 'male' 'female' 'male' 'female' 'male'\n 'male' 'female' 'male' 'male' 'female' 'male' 'male' 'male' 'female'\n 'male' 'male' 'female' 'female' 'female' 'male' 'female' 'male' 'female'\n 'female' 'female' 'female' 'male' 'male' 'male' 'female' 'male' 'male'\n 'male' 'male' 'male' 'male' 'male' 'female' 'male' 'female' 'male'\n 'female' 'female' 'male' 'male' 'male' 'male' 'female' 'male' 'male'\n 'female' 'male' 'male' 'male' 'female' 'male' 'female' 'male' 'male'\n 'female' 'female' 'female' 'male' 'female' 'female' 'male' 'male' 'male'\n 'female' 'male' 'male' 'male' 'male' 'male' 'female' 'male' 'female'\n 'male' 'male' 'female' 'male' 'male' 'male' 'female' 'male' 'male' 'male'\n 'male' 'male' 'male' 'male' 'female' 'female' 'female' 'male' 'female'\n 'male' 'male' 'female' 'male' 'female' 'female' 'male' 'male' 'male'\n 'male' 'male' 'male' 'male' 'male' 'female' 'male' 'male' 'male' 'male'\n 'male' 'male' 'female' 'female' 'male' 'male' 'female' 'male' 'male'\n 'female' 'female' 'male' 'female' 'male' 'male' 'male' 'male' 'female'\n 'male' 'female' 'male' 'female' 'female' 'male' 'male' 'female' 'male'\n 'male' 'male' 'male' 'male' 'male' 'male' 'male' 'male' 'male' 'male'\n 'female' 'female' 'male' 'male' 'male' 'male' 'male' 'male' 'female'\n 'female' 'male' 'female' 'male' 'male' 'male' 'male' 'male' 'male' 'male'\n 'male' 'female' 'male' 'female' 'male' 'male' 'male' 'male' 'male'\n 'female' 'male' 'male' 'female' 'male' 'female' 'male' 'male' 'male'\n 'female' 'male' 'female' 'male' 'female' 'male' 'male' 'male' 'male'\n 'male' 'female' 'female' 'male' 'male' 'female' 'male' 'male' 'male'\n 'male' 'male' 'female' 'female' 'male' 'female' 'female' 'male' 'male'\n 'male' 'male' 'male' 'female' 'male' 'male' 'male' 'male' 'male' 'female'\n 'male' 'male' 'male' 'male' 'female' 'male' 'male' 'female' 'male' 'male'\n 'male' 'female' 'male' 'male' 'male' 'male' 'female' 'male' 'male' 'male'\n 'female' 'male' 'female' 'male' 'female' 'male' 'male' 'male' 'male'\n 'female' 'male' 'female' 'male' 'male' 'female' 'male' 'female' 'female'\n 'female' 'male' 'male' 'male' 'male' 'female' 'male' 'male' 'male' 'male'\n 'male' 'female' 'male' 'male' 'male' 'female' 'female' 'male' 'female'\n 'male' 'female' 'male' 'male' 'male' 'male' 'male' 'female' 'male'\n 'female' 'male' 'male' 'male' 'female' 'male' 'male' 'female' 'male'\n 'male' 'male' 'female' 'male' 'male' 'female' 'male' 'male' 'male' 'male'\n 'male' 'female' 'female' 'male' 'male' 'male' 'male' 'female' 'male'\n 'male' 'male' 'male' 'male' 'male' 'female' 'male' 'male' 'male' 'male'\n 'male' 'male' 'female' 'male' 'male' 'female' 'female' 'female' 'female'\n 'female' 'male' 'female' 'male' 'male' 'male' 'female' 'female' 'male'\n 'female' 'female' 'male' 'male' 'male' 'male' 'female' 'male' 'male'\n 'female' 'female' 'male' 'male' 'male' 'female' 'female' 'male' 'female'\n 'male' 'male' 'female' 'male' 'female' 'female' 'male' 'male'].\nReshape your data either using array.reshape(-1, 1) if your data has a single feature or array.reshape(1, -1) if it contains a single sample.",
     "output_type": "error",
     "traceback": [
      "\u001b[1;31m---------------------------------------------------------------------------\u001b[0m",
      "\u001b[1;31mValueError\u001b[0m                                Traceback (most recent call last)",
      "\u001b[1;32m~\\AppData\\Local\\Temp\\12/ipykernel_9812/2732513920.py\u001b[0m in \u001b[0;36m<module>\u001b[1;34m\u001b[0m\n\u001b[1;32m----> 1\u001b[1;33m \u001b[0mgen\u001b[0m\u001b[1;33m=\u001b[0m\u001b[0mhe\u001b[0m\u001b[1;33m.\u001b[0m\u001b[0mfit_transform\u001b[0m\u001b[1;33m(\u001b[0m\u001b[0mx2\u001b[0m\u001b[1;33m.\u001b[0m\u001b[0msex\u001b[0m\u001b[1;33m)\u001b[0m\u001b[1;33m\u001b[0m\u001b[1;33m\u001b[0m\u001b[0m\n\u001b[0m\u001b[0;32m      2\u001b[0m \u001b[0mgen\u001b[0m\u001b[1;33m\u001b[0m\u001b[1;33m\u001b[0m\u001b[0m\n",
      "\u001b[1;32m~\\Anaconda3\\lib\\site-packages\\sklearn\\preprocessing\\_encoders.py\u001b[0m in \u001b[0;36mfit_transform\u001b[1;34m(self, X, y)\u001b[0m\n\u001b[0;32m    449\u001b[0m         \"\"\"\n\u001b[0;32m    450\u001b[0m         \u001b[0mself\u001b[0m\u001b[1;33m.\u001b[0m\u001b[0m_validate_keywords\u001b[0m\u001b[1;33m(\u001b[0m\u001b[1;33m)\u001b[0m\u001b[1;33m\u001b[0m\u001b[1;33m\u001b[0m\u001b[0m\n\u001b[1;32m--> 451\u001b[1;33m         \u001b[1;32mreturn\u001b[0m \u001b[0msuper\u001b[0m\u001b[1;33m(\u001b[0m\u001b[1;33m)\u001b[0m\u001b[1;33m.\u001b[0m\u001b[0mfit_transform\u001b[0m\u001b[1;33m(\u001b[0m\u001b[0mX\u001b[0m\u001b[1;33m,\u001b[0m \u001b[0my\u001b[0m\u001b[1;33m)\u001b[0m\u001b[1;33m\u001b[0m\u001b[1;33m\u001b[0m\u001b[0m\n\u001b[0m\u001b[0;32m    452\u001b[0m \u001b[1;33m\u001b[0m\u001b[0m\n\u001b[0;32m    453\u001b[0m     \u001b[1;32mdef\u001b[0m \u001b[0mtransform\u001b[0m\u001b[1;33m(\u001b[0m\u001b[0mself\u001b[0m\u001b[1;33m,\u001b[0m \u001b[0mX\u001b[0m\u001b[1;33m)\u001b[0m\u001b[1;33m:\u001b[0m\u001b[1;33m\u001b[0m\u001b[1;33m\u001b[0m\u001b[0m\n",
      "\u001b[1;32m~\\Anaconda3\\lib\\site-packages\\sklearn\\base.py\u001b[0m in \u001b[0;36mfit_transform\u001b[1;34m(self, X, y, **fit_params)\u001b[0m\n\u001b[0;32m    697\u001b[0m         \u001b[1;32mif\u001b[0m \u001b[0my\u001b[0m \u001b[1;32mis\u001b[0m \u001b[1;32mNone\u001b[0m\u001b[1;33m:\u001b[0m\u001b[1;33m\u001b[0m\u001b[1;33m\u001b[0m\u001b[0m\n\u001b[0;32m    698\u001b[0m             \u001b[1;31m# fit method of arity 1 (unsupervised transformation)\u001b[0m\u001b[1;33m\u001b[0m\u001b[1;33m\u001b[0m\u001b[0m\n\u001b[1;32m--> 699\u001b[1;33m             \u001b[1;32mreturn\u001b[0m \u001b[0mself\u001b[0m\u001b[1;33m.\u001b[0m\u001b[0mfit\u001b[0m\u001b[1;33m(\u001b[0m\u001b[0mX\u001b[0m\u001b[1;33m,\u001b[0m \u001b[1;33m**\u001b[0m\u001b[0mfit_params\u001b[0m\u001b[1;33m)\u001b[0m\u001b[1;33m.\u001b[0m\u001b[0mtransform\u001b[0m\u001b[1;33m(\u001b[0m\u001b[0mX\u001b[0m\u001b[1;33m)\u001b[0m\u001b[1;33m\u001b[0m\u001b[1;33m\u001b[0m\u001b[0m\n\u001b[0m\u001b[0;32m    700\u001b[0m         \u001b[1;32melse\u001b[0m\u001b[1;33m:\u001b[0m\u001b[1;33m\u001b[0m\u001b[1;33m\u001b[0m\u001b[0m\n\u001b[0;32m    701\u001b[0m             \u001b[1;31m# fit method of arity 2 (supervised transformation)\u001b[0m\u001b[1;33m\u001b[0m\u001b[1;33m\u001b[0m\u001b[0m\n",
      "\u001b[1;32m~\\Anaconda3\\lib\\site-packages\\sklearn\\preprocessing\\_encoders.py\u001b[0m in \u001b[0;36mfit\u001b[1;34m(self, X, y)\u001b[0m\n\u001b[0;32m    421\u001b[0m         \"\"\"\n\u001b[0;32m    422\u001b[0m         \u001b[0mself\u001b[0m\u001b[1;33m.\u001b[0m\u001b[0m_validate_keywords\u001b[0m\u001b[1;33m(\u001b[0m\u001b[1;33m)\u001b[0m\u001b[1;33m\u001b[0m\u001b[1;33m\u001b[0m\u001b[0m\n\u001b[1;32m--> 423\u001b[1;33m         self._fit(X, handle_unknown=self.handle_unknown,\n\u001b[0m\u001b[0;32m    424\u001b[0m                   force_all_finite='allow-nan')\n\u001b[0;32m    425\u001b[0m         \u001b[0mself\u001b[0m\u001b[1;33m.\u001b[0m\u001b[0mdrop_idx_\u001b[0m \u001b[1;33m=\u001b[0m \u001b[0mself\u001b[0m\u001b[1;33m.\u001b[0m\u001b[0m_compute_drop_idx\u001b[0m\u001b[1;33m(\u001b[0m\u001b[1;33m)\u001b[0m\u001b[1;33m\u001b[0m\u001b[1;33m\u001b[0m\u001b[0m\n",
      "\u001b[1;32m~\\Anaconda3\\lib\\site-packages\\sklearn\\preprocessing\\_encoders.py\u001b[0m in \u001b[0;36m_fit\u001b[1;34m(self, X, handle_unknown, force_all_finite)\u001b[0m\n\u001b[0;32m     75\u001b[0m \u001b[1;33m\u001b[0m\u001b[0m\n\u001b[0;32m     76\u001b[0m     \u001b[1;32mdef\u001b[0m \u001b[0m_fit\u001b[0m\u001b[1;33m(\u001b[0m\u001b[0mself\u001b[0m\u001b[1;33m,\u001b[0m \u001b[0mX\u001b[0m\u001b[1;33m,\u001b[0m \u001b[0mhandle_unknown\u001b[0m\u001b[1;33m=\u001b[0m\u001b[1;34m'error'\u001b[0m\u001b[1;33m,\u001b[0m \u001b[0mforce_all_finite\u001b[0m\u001b[1;33m=\u001b[0m\u001b[1;32mTrue\u001b[0m\u001b[1;33m)\u001b[0m\u001b[1;33m:\u001b[0m\u001b[1;33m\u001b[0m\u001b[1;33m\u001b[0m\u001b[0m\n\u001b[1;32m---> 77\u001b[1;33m         X_list, n_samples, n_features = self._check_X(\n\u001b[0m\u001b[0;32m     78\u001b[0m             X, force_all_finite=force_all_finite)\n\u001b[0;32m     79\u001b[0m \u001b[1;33m\u001b[0m\u001b[0m\n",
      "\u001b[1;32m~\\Anaconda3\\lib\\site-packages\\sklearn\\preprocessing\\_encoders.py\u001b[0m in \u001b[0;36m_check_X\u001b[1;34m(self, X, force_all_finite)\u001b[0m\n\u001b[0;32m     42\u001b[0m         \u001b[1;32mif\u001b[0m \u001b[1;32mnot\u001b[0m \u001b[1;33m(\u001b[0m\u001b[0mhasattr\u001b[0m\u001b[1;33m(\u001b[0m\u001b[0mX\u001b[0m\u001b[1;33m,\u001b[0m \u001b[1;34m'iloc'\u001b[0m\u001b[1;33m)\u001b[0m \u001b[1;32mand\u001b[0m \u001b[0mgetattr\u001b[0m\u001b[1;33m(\u001b[0m\u001b[0mX\u001b[0m\u001b[1;33m,\u001b[0m \u001b[1;34m'ndim'\u001b[0m\u001b[1;33m,\u001b[0m \u001b[1;36m0\u001b[0m\u001b[1;33m)\u001b[0m \u001b[1;33m==\u001b[0m \u001b[1;36m2\u001b[0m\u001b[1;33m)\u001b[0m\u001b[1;33m:\u001b[0m\u001b[1;33m\u001b[0m\u001b[1;33m\u001b[0m\u001b[0m\n\u001b[0;32m     43\u001b[0m             \u001b[1;31m# if not a dataframe, do normal check_array validation\u001b[0m\u001b[1;33m\u001b[0m\u001b[1;33m\u001b[0m\u001b[0m\n\u001b[1;32m---> 44\u001b[1;33m             X_temp = check_array(X, dtype=None,\n\u001b[0m\u001b[0;32m     45\u001b[0m                                  force_all_finite=force_all_finite)\n\u001b[0;32m     46\u001b[0m             if (not hasattr(X, 'dtype')\n",
      "\u001b[1;32m~\\Anaconda3\\lib\\site-packages\\sklearn\\utils\\validation.py\u001b[0m in \u001b[0;36minner_f\u001b[1;34m(*args, **kwargs)\u001b[0m\n\u001b[0;32m     61\u001b[0m             \u001b[0mextra_args\u001b[0m \u001b[1;33m=\u001b[0m \u001b[0mlen\u001b[0m\u001b[1;33m(\u001b[0m\u001b[0margs\u001b[0m\u001b[1;33m)\u001b[0m \u001b[1;33m-\u001b[0m \u001b[0mlen\u001b[0m\u001b[1;33m(\u001b[0m\u001b[0mall_args\u001b[0m\u001b[1;33m)\u001b[0m\u001b[1;33m\u001b[0m\u001b[1;33m\u001b[0m\u001b[0m\n\u001b[0;32m     62\u001b[0m             \u001b[1;32mif\u001b[0m \u001b[0mextra_args\u001b[0m \u001b[1;33m<=\u001b[0m \u001b[1;36m0\u001b[0m\u001b[1;33m:\u001b[0m\u001b[1;33m\u001b[0m\u001b[1;33m\u001b[0m\u001b[0m\n\u001b[1;32m---> 63\u001b[1;33m                 \u001b[1;32mreturn\u001b[0m \u001b[0mf\u001b[0m\u001b[1;33m(\u001b[0m\u001b[1;33m*\u001b[0m\u001b[0margs\u001b[0m\u001b[1;33m,\u001b[0m \u001b[1;33m**\u001b[0m\u001b[0mkwargs\u001b[0m\u001b[1;33m)\u001b[0m\u001b[1;33m\u001b[0m\u001b[1;33m\u001b[0m\u001b[0m\n\u001b[0m\u001b[0;32m     64\u001b[0m \u001b[1;33m\u001b[0m\u001b[0m\n\u001b[0;32m     65\u001b[0m             \u001b[1;31m# extra_args > 0\u001b[0m\u001b[1;33m\u001b[0m\u001b[1;33m\u001b[0m\u001b[0m\n",
      "\u001b[1;32m~\\Anaconda3\\lib\\site-packages\\sklearn\\utils\\validation.py\u001b[0m in \u001b[0;36mcheck_array\u001b[1;34m(array, accept_sparse, accept_large_sparse, dtype, order, copy, force_all_finite, ensure_2d, allow_nd, ensure_min_samples, ensure_min_features, estimator)\u001b[0m\n\u001b[0;32m    692\u001b[0m             \u001b[1;31m# If input is 1D raise error\u001b[0m\u001b[1;33m\u001b[0m\u001b[1;33m\u001b[0m\u001b[0m\n\u001b[0;32m    693\u001b[0m             \u001b[1;32mif\u001b[0m \u001b[0marray\u001b[0m\u001b[1;33m.\u001b[0m\u001b[0mndim\u001b[0m \u001b[1;33m==\u001b[0m \u001b[1;36m1\u001b[0m\u001b[1;33m:\u001b[0m\u001b[1;33m\u001b[0m\u001b[1;33m\u001b[0m\u001b[0m\n\u001b[1;32m--> 694\u001b[1;33m                 raise ValueError(\n\u001b[0m\u001b[0;32m    695\u001b[0m                     \u001b[1;34m\"Expected 2D array, got 1D array instead:\\narray={}.\\n\"\u001b[0m\u001b[1;33m\u001b[0m\u001b[1;33m\u001b[0m\u001b[0m\n\u001b[0;32m    696\u001b[0m                     \u001b[1;34m\"Reshape your data either using array.reshape(-1, 1) if \"\u001b[0m\u001b[1;33m\u001b[0m\u001b[1;33m\u001b[0m\u001b[0m\n",
      "\u001b[1;31mValueError\u001b[0m: Expected 2D array, got 1D array instead:\narray=['male' 'female' 'female' 'female' 'male' 'male' 'male' 'male' 'female'\n 'female' 'female' 'female' 'male' 'male' 'female' 'female' 'male' 'male'\n 'female' 'female' 'male' 'male' 'female' 'male' 'female' 'female' 'male'\n 'male' 'female' 'male' 'male' 'female' 'female' 'male' 'male' 'male'\n 'male' 'male' 'female' 'female' 'female' 'female' 'male' 'female'\n 'female' 'male' 'male' 'female' 'male' 'female' 'male' 'male' 'female'\n 'female' 'male' 'male' 'female' 'male' 'female' 'male' 'male' 'female'\n 'male' 'male' 'male' 'male' 'female' 'male' 'female' 'male' 'male'\n 'female' 'male' 'male' 'male' 'male' 'male' 'male' 'male' 'female' 'male'\n 'male' 'female' 'male' 'female' 'female' 'male' 'male' 'female' 'male'\n 'male' 'male' 'male' 'male' 'male' 'male' 'male' 'male' 'female' 'male'\n 'female' 'male' 'male' 'male' 'male' 'male' 'female' 'male' 'male'\n 'female' 'male' 'female' 'male' 'female' 'female' 'male' 'male' 'male'\n 'male' 'female' 'male' 'male' 'male' 'female' 'male' 'male' 'male' 'male'\n 'female' 'male' 'male' 'male' 'female' 'female' 'male' 'male' 'female'\n 'male' 'male' 'male' 'female' 'female' 'female' 'male' 'male' 'male'\n 'male' 'female' 'male' 'male' 'male' 'female' 'male' 'male' 'male' 'male'\n 'female' 'male' 'male' 'male' 'male' 'female' 'male' 'male' 'male' 'male'\n 'female' 'female' 'male' 'male' 'male' 'male' 'female' 'male' 'male'\n 'male' 'male' 'female' 'male' 'male' 'female' 'male' 'male' 'male'\n 'female' 'male' 'female' 'male' 'male' 'male' 'female' 'male' 'female'\n 'male' 'female' 'female' 'male' 'male' 'female' 'female' 'male' 'male'\n 'male' 'male' 'male' 'female' 'male' 'male' 'female' 'male' 'male'\n 'female' 'male' 'male' 'male' 'female' 'female' 'male' 'female' 'male'\n 'male' 'male' 'male' 'male' 'male' 'male' 'male' 'male' 'male' 'female'\n 'female' 'male' 'male' 'female' 'male' 'female' 'male' 'female' 'male'\n 'male' 'female' 'female' 'male' 'male' 'male' 'male' 'female' 'female'\n 'male' 'male' 'male' 'female' 'male' 'male' 'female' 'female' 'female'\n 'female' 'female' 'female' 'male' 'male' 'male' 'male' 'female' 'male'\n 'male' 'male' 'female' 'female' 'male' 'male' 'female' 'male' 'female'\n 'female' 'female' 'male' 'male' 'female' 'male' 'male' 'male' 'male'\n 'male' 'male' 'male' 'male' 'male' 'female' 'female' 'female' 'male'\n 'female' 'male' 'male' 'male' 'female' 'male' 'female' 'female' 'male'\n 'male' 'female' 'male' 'male' 'female' 'female' 'male' 'female' 'female'\n 'female' 'female' 'male' 'male' 'female' 'female' 'male' 'female'\n 'female' 'male' 'male' 'female' 'female' 'male' 'female' 'male' 'female'\n 'female' 'female' 'female' 'male' 'male' 'male' 'female' 'male' 'male'\n 'female' 'male' 'male' 'male' 'female' 'male' 'male' 'male' 'female'\n 'female' 'female' 'male' 'male' 'male' 'male' 'male' 'male' 'male' 'male'\n 'female' 'female' 'female' 'female' 'male' 'male' 'female' 'male' 'male'\n 'male' 'female' 'female' 'female' 'female' 'male' 'male' 'male' 'male'\n 'female' 'female' 'female' 'male' 'male' 'male' 'female' 'female' 'male'\n 'female' 'male' 'male' 'male' 'female' 'male' 'female' 'male' 'male'\n 'male' 'female' 'female' 'male' 'female' 'male' 'male' 'female' 'male'\n 'male' 'female' 'male' 'female' 'male' 'male' 'male' 'male' 'female'\n 'male' 'male' 'female' 'male' 'male' 'female' 'female' 'female' 'male'\n 'female' 'male' 'male' 'male' 'female' 'male' 'male' 'female' 'female'\n 'male' 'male' 'male' 'female' 'female' 'male' 'male' 'female' 'female'\n 'female' 'male' 'male' 'female' 'male' 'male' 'female' 'male' 'male'\n 'female' 'male' 'female' 'male' 'male' 'male' 'male' 'male' 'male' 'male'\n 'male' 'female' 'female' 'male' 'male' 'male' 'male' 'male' 'male' 'male'\n 'male' 'male' 'male' 'female' 'male' 'male' 'female' 'female' 'female'\n 'male' 'male' 'male' 'male' 'female' 'male' 'male' 'male' 'female' 'male'\n 'female' 'female' 'male' 'male' 'male' 'male' 'male' 'male' 'male' 'male'\n 'male' 'female' 'male' 'female' 'male' 'male' 'female' 'female' 'female'\n 'female' 'male' 'female' 'male' 'male' 'male' 'male' 'male' 'male'\n 'female' 'male' 'male' 'female' 'male' 'female' 'male' 'female' 'male'\n 'male' 'female' 'male' 'male' 'female' 'male' 'male' 'male' 'female'\n 'male' 'male' 'female' 'female' 'female' 'male' 'female' 'male' 'female'\n 'female' 'female' 'female' 'male' 'male' 'male' 'female' 'male' 'male'\n 'male' 'male' 'male' 'male' 'male' 'female' 'male' 'female' 'male'\n 'female' 'female' 'male' 'male' 'male' 'male' 'female' 'male' 'male'\n 'female' 'male' 'male' 'male' 'female' 'male' 'female' 'male' 'male'\n 'female' 'female' 'female' 'male' 'female' 'female' 'male' 'male' 'male'\n 'female' 'male' 'male' 'male' 'male' 'male' 'female' 'male' 'female'\n 'male' 'male' 'female' 'male' 'male' 'male' 'female' 'male' 'male' 'male'\n 'male' 'male' 'male' 'male' 'female' 'female' 'female' 'male' 'female'\n 'male' 'male' 'female' 'male' 'female' 'female' 'male' 'male' 'male'\n 'male' 'male' 'male' 'male' 'male' 'female' 'male' 'male' 'male' 'male'\n 'male' 'male' 'female' 'female' 'male' 'male' 'female' 'male' 'male'\n 'female' 'female' 'male' 'female' 'male' 'male' 'male' 'male' 'female'\n 'male' 'female' 'male' 'female' 'female' 'male' 'male' 'female' 'male'\n 'male' 'male' 'male' 'male' 'male' 'male' 'male' 'male' 'male' 'male'\n 'female' 'female' 'male' 'male' 'male' 'male' 'male' 'male' 'female'\n 'female' 'male' 'female' 'male' 'male' 'male' 'male' 'male' 'male' 'male'\n 'male' 'female' 'male' 'female' 'male' 'male' 'male' 'male' 'male'\n 'female' 'male' 'male' 'female' 'male' 'female' 'male' 'male' 'male'\n 'female' 'male' 'female' 'male' 'female' 'male' 'male' 'male' 'male'\n 'male' 'female' 'female' 'male' 'male' 'female' 'male' 'male' 'male'\n 'male' 'male' 'female' 'female' 'male' 'female' 'female' 'male' 'male'\n 'male' 'male' 'male' 'female' 'male' 'male' 'male' 'male' 'male' 'female'\n 'male' 'male' 'male' 'male' 'female' 'male' 'male' 'female' 'male' 'male'\n 'male' 'female' 'male' 'male' 'male' 'male' 'female' 'male' 'male' 'male'\n 'female' 'male' 'female' 'male' 'female' 'male' 'male' 'male' 'male'\n 'female' 'male' 'female' 'male' 'male' 'female' 'male' 'female' 'female'\n 'female' 'male' 'male' 'male' 'male' 'female' 'male' 'male' 'male' 'male'\n 'male' 'female' 'male' 'male' 'male' 'female' 'female' 'male' 'female'\n 'male' 'female' 'male' 'male' 'male' 'male' 'male' 'female' 'male'\n 'female' 'male' 'male' 'male' 'female' 'male' 'male' 'female' 'male'\n 'male' 'male' 'female' 'male' 'male' 'female' 'male' 'male' 'male' 'male'\n 'male' 'female' 'female' 'male' 'male' 'male' 'male' 'female' 'male'\n 'male' 'male' 'male' 'male' 'male' 'female' 'male' 'male' 'male' 'male'\n 'male' 'male' 'female' 'male' 'male' 'female' 'female' 'female' 'female'\n 'female' 'male' 'female' 'male' 'male' 'male' 'female' 'female' 'male'\n 'female' 'female' 'male' 'male' 'male' 'male' 'female' 'male' 'male'\n 'female' 'female' 'male' 'male' 'male' 'female' 'female' 'male' 'female'\n 'male' 'male' 'female' 'male' 'female' 'female' 'male' 'male'].\nReshape your data either using array.reshape(-1, 1) if your data has a single feature or array.reshape(1, -1) if it contains a single sample."
     ]
    }
   ],
   "source": [
    "gen=he.fit_transform(x2.sex)\n",
    "gen"
   ]
  },
  {
   "cell_type": "code",
   "execution_count": 23,
   "id": "c1233f58",
   "metadata": {},
   "outputs": [
    {
     "data": {
      "text/plain": [
       "<891x2 sparse matrix of type '<class 'numpy.float64'>'\n",
       "\twith 891 stored elements in Compressed Sparse Row format>"
      ]
     },
     "execution_count": 23,
     "metadata": {},
     "output_type": "execute_result"
    }
   ],
   "source": [
    "#so to avoid above error use double [[]] cuz below transform fucntion takes dataframe as input\n",
    "gen=he.fit_transform(x2[['sex']])\n",
    "gen#this jus creates an object now need to conver to array"
   ]
  },
  {
   "cell_type": "code",
   "execution_count": 26,
   "id": "ac073d3d",
   "metadata": {},
   "outputs": [
    {
     "data": {
      "text/plain": [
       "array([[0., 1.],\n",
       "       [1., 0.],\n",
       "       [1., 0.],\n",
       "       ...,\n",
       "       [1., 0.],\n",
       "       [0., 1.],\n",
       "       [0., 1.]])"
      ]
     },
     "execution_count": 26,
     "metadata": {},
     "output_type": "execute_result"
    }
   ],
   "source": [
    "gen=he.fit_transform(x2[['sex']])\n",
    "gen.toarray()"
   ]
  },
  {
   "cell_type": "code",
   "execution_count": 34,
   "id": "25c055de",
   "metadata": {},
   "outputs": [
    {
     "data": {
      "text/html": [
       "<div>\n",
       "<style scoped>\n",
       "    .dataframe tbody tr th:only-of-type {\n",
       "        vertical-align: middle;\n",
       "    }\n",
       "\n",
       "    .dataframe tbody tr th {\n",
       "        vertical-align: top;\n",
       "    }\n",
       "\n",
       "    .dataframe thead th {\n",
       "        text-align: right;\n",
       "    }\n",
       "</style>\n",
       "<table border=\"1\" class=\"dataframe\">\n",
       "  <thead>\n",
       "    <tr style=\"text-align: right;\">\n",
       "      <th></th>\n",
       "      <th>0</th>\n",
       "      <th>1</th>\n",
       "    </tr>\n",
       "  </thead>\n",
       "  <tbody>\n",
       "    <tr>\n",
       "      <th>0</th>\n",
       "      <td>0.0</td>\n",
       "      <td>1.0</td>\n",
       "    </tr>\n",
       "    <tr>\n",
       "      <th>1</th>\n",
       "      <td>1.0</td>\n",
       "      <td>0.0</td>\n",
       "    </tr>\n",
       "    <tr>\n",
       "      <th>2</th>\n",
       "      <td>1.0</td>\n",
       "      <td>0.0</td>\n",
       "    </tr>\n",
       "    <tr>\n",
       "      <th>3</th>\n",
       "      <td>1.0</td>\n",
       "      <td>0.0</td>\n",
       "    </tr>\n",
       "    <tr>\n",
       "      <th>4</th>\n",
       "      <td>0.0</td>\n",
       "      <td>1.0</td>\n",
       "    </tr>\n",
       "    <tr>\n",
       "      <th>...</th>\n",
       "      <td>...</td>\n",
       "      <td>...</td>\n",
       "    </tr>\n",
       "    <tr>\n",
       "      <th>886</th>\n",
       "      <td>0.0</td>\n",
       "      <td>1.0</td>\n",
       "    </tr>\n",
       "    <tr>\n",
       "      <th>887</th>\n",
       "      <td>1.0</td>\n",
       "      <td>0.0</td>\n",
       "    </tr>\n",
       "    <tr>\n",
       "      <th>888</th>\n",
       "      <td>1.0</td>\n",
       "      <td>0.0</td>\n",
       "    </tr>\n",
       "    <tr>\n",
       "      <th>889</th>\n",
       "      <td>0.0</td>\n",
       "      <td>1.0</td>\n",
       "    </tr>\n",
       "    <tr>\n",
       "      <th>890</th>\n",
       "      <td>0.0</td>\n",
       "      <td>1.0</td>\n",
       "    </tr>\n",
       "  </tbody>\n",
       "</table>\n",
       "<p>891 rows × 2 columns</p>\n",
       "</div>"
      ],
      "text/plain": [
       "       0    1\n",
       "0    0.0  1.0\n",
       "1    1.0  0.0\n",
       "2    1.0  0.0\n",
       "3    1.0  0.0\n",
       "4    0.0  1.0\n",
       "..   ...  ...\n",
       "886  0.0  1.0\n",
       "887  1.0  0.0\n",
       "888  1.0  0.0\n",
       "889  0.0  1.0\n",
       "890  0.0  1.0\n",
       "\n",
       "[891 rows x 2 columns]"
      ]
     },
     "execution_count": 34,
     "metadata": {},
     "output_type": "execute_result"
    }
   ],
   "source": [
    "gen=he.fit_transform(x2[['sex']])\n",
    "pd.DataFrame(gen.toarray())#converting array to dataframe"
   ]
  },
  {
   "cell_type": "code",
   "execution_count": 35,
   "id": "e3dc6b7a",
   "metadata": {},
   "outputs": [
    {
     "data": {
      "text/html": [
       "<div>\n",
       "<style scoped>\n",
       "    .dataframe tbody tr th:only-of-type {\n",
       "        vertical-align: middle;\n",
       "    }\n",
       "\n",
       "    .dataframe tbody tr th {\n",
       "        vertical-align: top;\n",
       "    }\n",
       "\n",
       "    .dataframe thead th {\n",
       "        text-align: right;\n",
       "    }\n",
       "</style>\n",
       "<table border=\"1\" class=\"dataframe\">\n",
       "  <thead>\n",
       "    <tr style=\"text-align: right;\">\n",
       "      <th></th>\n",
       "      <th>1</th>\n",
       "    </tr>\n",
       "  </thead>\n",
       "  <tbody>\n",
       "    <tr>\n",
       "      <th>0</th>\n",
       "      <td>1.0</td>\n",
       "    </tr>\n",
       "    <tr>\n",
       "      <th>1</th>\n",
       "      <td>0.0</td>\n",
       "    </tr>\n",
       "    <tr>\n",
       "      <th>2</th>\n",
       "      <td>0.0</td>\n",
       "    </tr>\n",
       "    <tr>\n",
       "      <th>3</th>\n",
       "      <td>0.0</td>\n",
       "    </tr>\n",
       "    <tr>\n",
       "      <th>4</th>\n",
       "      <td>1.0</td>\n",
       "    </tr>\n",
       "    <tr>\n",
       "      <th>...</th>\n",
       "      <td>...</td>\n",
       "    </tr>\n",
       "    <tr>\n",
       "      <th>886</th>\n",
       "      <td>1.0</td>\n",
       "    </tr>\n",
       "    <tr>\n",
       "      <th>887</th>\n",
       "      <td>0.0</td>\n",
       "    </tr>\n",
       "    <tr>\n",
       "      <th>888</th>\n",
       "      <td>0.0</td>\n",
       "    </tr>\n",
       "    <tr>\n",
       "      <th>889</th>\n",
       "      <td>1.0</td>\n",
       "    </tr>\n",
       "    <tr>\n",
       "      <th>890</th>\n",
       "      <td>1.0</td>\n",
       "    </tr>\n",
       "  </tbody>\n",
       "</table>\n",
       "<p>891 rows × 1 columns</p>\n",
       "</div>"
      ],
      "text/plain": [
       "       1\n",
       "0    1.0\n",
       "1    0.0\n",
       "2    0.0\n",
       "3    0.0\n",
       "4    1.0\n",
       "..   ...\n",
       "886  1.0\n",
       "887  0.0\n",
       "888  0.0\n",
       "889  1.0\n",
       "890  1.0\n",
       "\n",
       "[891 rows x 1 columns]"
      ]
     },
     "execution_count": 35,
     "metadata": {},
     "output_type": "execute_result"
    }
   ],
   "source": [
    "gen=pd.DataFrame(gen.toarray())\n",
    "gen=gen.drop([0],axis=1)\n",
    "gen"
   ]
  },
  {
   "cell_type": "code",
   "execution_count": 36,
   "id": "ec5651c2",
   "metadata": {},
   "outputs": [
    {
     "data": {
      "text/plain": [
       "0       Third\n",
       "1       First\n",
       "2       Third\n",
       "3       First\n",
       "4       Third\n",
       "        ...  \n",
       "886    Second\n",
       "887     First\n",
       "888     Third\n",
       "889     First\n",
       "890     Third\n",
       "Name: class, Length: 889, dtype: category\n",
       "Categories (3, object): ['First', 'Second', 'Third']"
      ]
     },
     "execution_count": 36,
     "metadata": {},
     "output_type": "execute_result"
    }
   ],
   "source": [
    "#label encoding\n",
    "#using pandas\n",
    "d1['class']"
   ]
  },
  {
   "cell_type": "code",
   "execution_count": 37,
   "id": "4cadda4e",
   "metadata": {},
   "outputs": [
    {
     "name": "stderr",
     "output_type": "stream",
     "text": [
      "C:\\Users\\2112161\\AppData\\Local\\Temp\\12/ipykernel_9812/386628428.py:1: SettingWithCopyWarning: \n",
      "A value is trying to be set on a copy of a slice from a DataFrame.\n",
      "Try using .loc[row_indexer,col_indexer] = value instead\n",
      "\n",
      "See the caveats in the documentation: https://pandas.pydata.org/pandas-docs/stable/user_guide/indexing.html#returning-a-view-versus-a-copy\n",
      "  d1['new_class']=d['class'].map({'First':1,'Second':2,'Third':3})\n"
     ]
    },
    {
     "data": {
      "text/html": [
       "<div>\n",
       "<style scoped>\n",
       "    .dataframe tbody tr th:only-of-type {\n",
       "        vertical-align: middle;\n",
       "    }\n",
       "\n",
       "    .dataframe tbody tr th {\n",
       "        vertical-align: top;\n",
       "    }\n",
       "\n",
       "    .dataframe thead th {\n",
       "        text-align: right;\n",
       "    }\n",
       "</style>\n",
       "<table border=\"1\" class=\"dataframe\">\n",
       "  <thead>\n",
       "    <tr style=\"text-align: right;\">\n",
       "      <th></th>\n",
       "      <th>age</th>\n",
       "      <th>fare</th>\n",
       "      <th>sex</th>\n",
       "      <th>embark_town</th>\n",
       "      <th>class</th>\n",
       "      <th>newc</th>\n",
       "      <th>new_class</th>\n",
       "    </tr>\n",
       "  </thead>\n",
       "  <tbody>\n",
       "    <tr>\n",
       "      <th>0</th>\n",
       "      <td>22.0</td>\n",
       "      <td>7.2500</td>\n",
       "      <td>male</td>\n",
       "      <td>Southampton</td>\n",
       "      <td>Third</td>\n",
       "      <td>2</td>\n",
       "      <td>3</td>\n",
       "    </tr>\n",
       "    <tr>\n",
       "      <th>1</th>\n",
       "      <td>38.0</td>\n",
       "      <td>71.2833</td>\n",
       "      <td>female</td>\n",
       "      <td>Cherbourg</td>\n",
       "      <td>First</td>\n",
       "      <td>0</td>\n",
       "      <td>1</td>\n",
       "    </tr>\n",
       "    <tr>\n",
       "      <th>2</th>\n",
       "      <td>26.0</td>\n",
       "      <td>7.9250</td>\n",
       "      <td>female</td>\n",
       "      <td>Southampton</td>\n",
       "      <td>Third</td>\n",
       "      <td>2</td>\n",
       "      <td>3</td>\n",
       "    </tr>\n",
       "    <tr>\n",
       "      <th>3</th>\n",
       "      <td>35.0</td>\n",
       "      <td>53.1000</td>\n",
       "      <td>female</td>\n",
       "      <td>Southampton</td>\n",
       "      <td>First</td>\n",
       "      <td>0</td>\n",
       "      <td>1</td>\n",
       "    </tr>\n",
       "    <tr>\n",
       "      <th>4</th>\n",
       "      <td>35.0</td>\n",
       "      <td>8.0500</td>\n",
       "      <td>male</td>\n",
       "      <td>Southampton</td>\n",
       "      <td>Third</td>\n",
       "      <td>2</td>\n",
       "      <td>3</td>\n",
       "    </tr>\n",
       "    <tr>\n",
       "      <th>...</th>\n",
       "      <td>...</td>\n",
       "      <td>...</td>\n",
       "      <td>...</td>\n",
       "      <td>...</td>\n",
       "      <td>...</td>\n",
       "      <td>...</td>\n",
       "      <td>...</td>\n",
       "    </tr>\n",
       "    <tr>\n",
       "      <th>886</th>\n",
       "      <td>27.0</td>\n",
       "      <td>13.0000</td>\n",
       "      <td>male</td>\n",
       "      <td>Southampton</td>\n",
       "      <td>Second</td>\n",
       "      <td>1</td>\n",
       "      <td>2</td>\n",
       "    </tr>\n",
       "    <tr>\n",
       "      <th>887</th>\n",
       "      <td>19.0</td>\n",
       "      <td>30.0000</td>\n",
       "      <td>female</td>\n",
       "      <td>Southampton</td>\n",
       "      <td>First</td>\n",
       "      <td>0</td>\n",
       "      <td>1</td>\n",
       "    </tr>\n",
       "    <tr>\n",
       "      <th>888</th>\n",
       "      <td>29.7</td>\n",
       "      <td>23.4500</td>\n",
       "      <td>female</td>\n",
       "      <td>Southampton</td>\n",
       "      <td>Third</td>\n",
       "      <td>2</td>\n",
       "      <td>3</td>\n",
       "    </tr>\n",
       "    <tr>\n",
       "      <th>889</th>\n",
       "      <td>26.0</td>\n",
       "      <td>30.0000</td>\n",
       "      <td>male</td>\n",
       "      <td>Cherbourg</td>\n",
       "      <td>First</td>\n",
       "      <td>0</td>\n",
       "      <td>1</td>\n",
       "    </tr>\n",
       "    <tr>\n",
       "      <th>890</th>\n",
       "      <td>32.0</td>\n",
       "      <td>7.7500</td>\n",
       "      <td>male</td>\n",
       "      <td>Queenstown</td>\n",
       "      <td>Third</td>\n",
       "      <td>2</td>\n",
       "      <td>3</td>\n",
       "    </tr>\n",
       "  </tbody>\n",
       "</table>\n",
       "<p>889 rows × 7 columns</p>\n",
       "</div>"
      ],
      "text/plain": [
       "      age     fare     sex  embark_town   class  newc new_class\n",
       "0    22.0   7.2500    male  Southampton   Third     2         3\n",
       "1    38.0  71.2833  female    Cherbourg   First     0         1\n",
       "2    26.0   7.9250  female  Southampton   Third     2         3\n",
       "3    35.0  53.1000  female  Southampton   First     0         1\n",
       "4    35.0   8.0500    male  Southampton   Third     2         3\n",
       "..    ...      ...     ...          ...     ...   ...       ...\n",
       "886  27.0  13.0000    male  Southampton  Second     1         2\n",
       "887  19.0  30.0000  female  Southampton   First     0         1\n",
       "888  29.7  23.4500  female  Southampton   Third     2         3\n",
       "889  26.0  30.0000    male    Cherbourg   First     0         1\n",
       "890  32.0   7.7500    male   Queenstown   Third     2         3\n",
       "\n",
       "[889 rows x 7 columns]"
      ]
     },
     "execution_count": 37,
     "metadata": {},
     "output_type": "execute_result"
    }
   ],
   "source": [
    "d1['new_class']=d['class'].map({'First':1,'Second':2,'Third':3})\n",
    "d1"
   ]
  },
  {
   "cell_type": "code",
   "execution_count": 31,
   "id": "acc62a1c",
   "metadata": {},
   "outputs": [],
   "source": [
    "#using sklean it ecnodes alphabetically \n",
    "from sklearn.preprocessing import LabelEncoder\n",
    "le=LabelEncoder()"
   ]
  },
  {
   "cell_type": "code",
   "execution_count": 32,
   "id": "786a0477",
   "metadata": {
    "scrolled": true
   },
   "outputs": [
    {
     "name": "stderr",
     "output_type": "stream",
     "text": [
      "C:\\Users\\2112161\\AppData\\Local\\Temp\\12/ipykernel_9812/2490441285.py:1: SettingWithCopyWarning: \n",
      "A value is trying to be set on a copy of a slice from a DataFrame.\n",
      "Try using .loc[row_indexer,col_indexer] = value instead\n",
      "\n",
      "See the caveats in the documentation: https://pandas.pydata.org/pandas-docs/stable/user_guide/indexing.html#returning-a-view-versus-a-copy\n",
      "  d1['newc']=le.fit_transform(d1['class'])\n"
     ]
    },
    {
     "data": {
      "text/html": [
       "<div>\n",
       "<style scoped>\n",
       "    .dataframe tbody tr th:only-of-type {\n",
       "        vertical-align: middle;\n",
       "    }\n",
       "\n",
       "    .dataframe tbody tr th {\n",
       "        vertical-align: top;\n",
       "    }\n",
       "\n",
       "    .dataframe thead th {\n",
       "        text-align: right;\n",
       "    }\n",
       "</style>\n",
       "<table border=\"1\" class=\"dataframe\">\n",
       "  <thead>\n",
       "    <tr style=\"text-align: right;\">\n",
       "      <th></th>\n",
       "      <th>age</th>\n",
       "      <th>fare</th>\n",
       "      <th>sex</th>\n",
       "      <th>embark_town</th>\n",
       "      <th>class</th>\n",
       "      <th>newc</th>\n",
       "      <th>new_class</th>\n",
       "    </tr>\n",
       "  </thead>\n",
       "  <tbody>\n",
       "    <tr>\n",
       "      <th>0</th>\n",
       "      <td>22.0</td>\n",
       "      <td>7.2500</td>\n",
       "      <td>male</td>\n",
       "      <td>Southampton</td>\n",
       "      <td>Third</td>\n",
       "      <td>2</td>\n",
       "      <td>3</td>\n",
       "    </tr>\n",
       "    <tr>\n",
       "      <th>1</th>\n",
       "      <td>38.0</td>\n",
       "      <td>71.2833</td>\n",
       "      <td>female</td>\n",
       "      <td>Cherbourg</td>\n",
       "      <td>First</td>\n",
       "      <td>0</td>\n",
       "      <td>1</td>\n",
       "    </tr>\n",
       "    <tr>\n",
       "      <th>2</th>\n",
       "      <td>26.0</td>\n",
       "      <td>7.9250</td>\n",
       "      <td>female</td>\n",
       "      <td>Southampton</td>\n",
       "      <td>Third</td>\n",
       "      <td>2</td>\n",
       "      <td>3</td>\n",
       "    </tr>\n",
       "    <tr>\n",
       "      <th>3</th>\n",
       "      <td>35.0</td>\n",
       "      <td>53.1000</td>\n",
       "      <td>female</td>\n",
       "      <td>Southampton</td>\n",
       "      <td>First</td>\n",
       "      <td>0</td>\n",
       "      <td>1</td>\n",
       "    </tr>\n",
       "    <tr>\n",
       "      <th>4</th>\n",
       "      <td>35.0</td>\n",
       "      <td>8.0500</td>\n",
       "      <td>male</td>\n",
       "      <td>Southampton</td>\n",
       "      <td>Third</td>\n",
       "      <td>2</td>\n",
       "      <td>3</td>\n",
       "    </tr>\n",
       "    <tr>\n",
       "      <th>...</th>\n",
       "      <td>...</td>\n",
       "      <td>...</td>\n",
       "      <td>...</td>\n",
       "      <td>...</td>\n",
       "      <td>...</td>\n",
       "      <td>...</td>\n",
       "      <td>...</td>\n",
       "    </tr>\n",
       "    <tr>\n",
       "      <th>886</th>\n",
       "      <td>27.0</td>\n",
       "      <td>13.0000</td>\n",
       "      <td>male</td>\n",
       "      <td>Southampton</td>\n",
       "      <td>Second</td>\n",
       "      <td>1</td>\n",
       "      <td>2</td>\n",
       "    </tr>\n",
       "    <tr>\n",
       "      <th>887</th>\n",
       "      <td>19.0</td>\n",
       "      <td>30.0000</td>\n",
       "      <td>female</td>\n",
       "      <td>Southampton</td>\n",
       "      <td>First</td>\n",
       "      <td>0</td>\n",
       "      <td>1</td>\n",
       "    </tr>\n",
       "    <tr>\n",
       "      <th>888</th>\n",
       "      <td>29.7</td>\n",
       "      <td>23.4500</td>\n",
       "      <td>female</td>\n",
       "      <td>Southampton</td>\n",
       "      <td>Third</td>\n",
       "      <td>2</td>\n",
       "      <td>3</td>\n",
       "    </tr>\n",
       "    <tr>\n",
       "      <th>889</th>\n",
       "      <td>26.0</td>\n",
       "      <td>30.0000</td>\n",
       "      <td>male</td>\n",
       "      <td>Cherbourg</td>\n",
       "      <td>First</td>\n",
       "      <td>0</td>\n",
       "      <td>1</td>\n",
       "    </tr>\n",
       "    <tr>\n",
       "      <th>890</th>\n",
       "      <td>32.0</td>\n",
       "      <td>7.7500</td>\n",
       "      <td>male</td>\n",
       "      <td>Queenstown</td>\n",
       "      <td>Third</td>\n",
       "      <td>2</td>\n",
       "      <td>3</td>\n",
       "    </tr>\n",
       "  </tbody>\n",
       "</table>\n",
       "<p>889 rows × 7 columns</p>\n",
       "</div>"
      ],
      "text/plain": [
       "      age     fare     sex  embark_town   class  newc new_class\n",
       "0    22.0   7.2500    male  Southampton   Third     2         3\n",
       "1    38.0  71.2833  female    Cherbourg   First     0         1\n",
       "2    26.0   7.9250  female  Southampton   Third     2         3\n",
       "3    35.0  53.1000  female  Southampton   First     0         1\n",
       "4    35.0   8.0500    male  Southampton   Third     2         3\n",
       "..    ...      ...     ...          ...     ...   ...       ...\n",
       "886  27.0  13.0000    male  Southampton  Second     1         2\n",
       "887  19.0  30.0000  female  Southampton   First     0         1\n",
       "888  29.7  23.4500  female  Southampton   Third     2         3\n",
       "889  26.0  30.0000    male    Cherbourg   First     0         1\n",
       "890  32.0   7.7500    male   Queenstown   Third     2         3\n",
       "\n",
       "[889 rows x 7 columns]"
      ]
     },
     "execution_count": 32,
     "metadata": {},
     "output_type": "execute_result"
    }
   ],
   "source": [
    "d1['newc']=le.fit_transform(d1['class'])\n",
    "d1#by default it encodes from 0"
   ]
  },
  {
   "cell_type": "markdown",
   "id": "0d621e72",
   "metadata": {},
   "source": [
    "#outliers\n",
    "#tecniques to find outlier\n",
    "1.scatter plot\n",
    "2.boxplot\n",
    "3.IQR\n",
    "4.z score (having z values >3)\n",
    "https://www.youtube.com/watch?v=IdcVl_oeync&t=3757s"
   ]
  },
  {
   "cell_type": "code",
   "execution_count": 2,
   "id": "c0d787be",
   "metadata": {},
   "outputs": [],
   "source": [
    "data=[1,2,3,7,2,7,102,5,23,150,9,7,13,24,14,2,14,10,190]"
   ]
  },
  {
   "cell_type": "code",
   "execution_count": 3,
   "id": "67750dc7",
   "metadata": {},
   "outputs": [
    {
     "data": {
      "text/plain": [
       "range(0, 19)"
      ]
     },
     "execution_count": 3,
     "metadata": {},
     "output_type": "execute_result"
    }
   ],
   "source": [
    "range(len(data))\n"
   ]
  },
  {
   "cell_type": "code",
   "execution_count": 4,
   "id": "e4254e79",
   "metadata": {},
   "outputs": [
    {
     "data": {
      "text/plain": [
       "<function matplotlib.pyplot.show(close=None, block=None)>"
      ]
     },
     "execution_count": 4,
     "metadata": {},
     "output_type": "execute_result"
    },
    {
     "data": {
      "image/png": "[encoded data removed]",
      "text/plain": [
       "<Figure size 432x288 with 1 Axes>"
      ]
     },
     "metadata": {
      "needs_background": "light"
     },
     "output_type": "display_data"
    }
   ],
   "source": [
    "#using scatter plot\n",
    "\n",
    "plt.scatter(x=range(len(data)),y=data)\n",
    "plt.show"
   ]
  },
  {
   "cell_type": "code",
   "execution_count": 5,
   "id": "d4f183fd",
   "metadata": {},
   "outputs": [
    {
     "data": {
      "text/plain": [
       "<function matplotlib.pyplot.show(close=None, block=None)>"
      ]
     },
     "execution_count": 5,
     "metadata": {},
     "output_type": "execute_result"
    },
    {
     "data": {
      "image/png": "[encoded data removed]",
      "text/plain": [
       "<Figure size 432x288 with 1 Axes>"
      ]
     },
     "metadata": {
      "needs_background": "light"
     },
     "output_type": "display_data"
    }
   ],
   "source": [
    "sb.scatterplot(x=range(len(data)),y=data)\n",
    "plt.show"
   ]
  },
  {
   "cell_type": "code",
   "execution_count": 6,
   "id": "2e828060",
   "metadata": {},
   "outputs": [
    {
     "data": {
      "text/plain": [
       "<AxesSubplot:>"
      ]
     },
     "execution_count": 6,
     "metadata": {},
     "output_type": "execute_result"
    },
    {
     "data": {
      "image/png": "[encoded data removed]",
      "text/plain": [
       "<Figure size 432x288 with 1 Axes>"
      ]
     },
     "metadata": {
      "needs_background": "light"
     },
     "output_type": "display_data"
    }
   ],
   "source": [
    "#boxplot\n",
    "sb.boxplot(y=data)"
   ]
  },
  {
   "cell_type": "markdown",
   "id": "846207b2",
   "metadata": {},
   "source": [
    "#z score\n",
    "z=(x-mean)/std"
   ]
  },
  {
   "cell_type": "code",
   "execution_count": 9,
   "id": "9817e4ba",
   "metadata": {},
   "outputs": [
    {
     "data": {
      "text/plain": [
       "[102, 150, 190]"
      ]
     },
     "execution_count": 9,
     "metadata": {},
     "output_type": "execute_result"
    }
   ],
   "source": [
    "out=[]\n",
    "def zsc(x):\n",
    "    \n",
    "    t=3#if z is > mod(3) or abs(3) the nits outlier \n",
    "    xm=np.mean(x)\n",
    "    sd=np.std(x)\n",
    "    for i in x:\n",
    "        z=(i-xm)/sd\n",
    "        if np.abs(z)>1:#actually condtion shud be z>3 but not getting correct output for z>3 \n",
    "            out.append(i)\n",
    "    return out\n",
    "\n",
    "zz=zsc(data)\n",
    "zz"
   ]
  },
  {
   "cell_type": "code",
   "execution_count": 11,
   "id": "3d88669f",
   "metadata": {},
   "outputs": [
    {
     "data": {
      "text/plain": [
       "[1, 2, 2, 2, 3, 5, 7, 7, 7, 9, 10, 13, 14, 14, 23, 24, 102, 150, 190]"
      ]
     },
     "execution_count": 11,
     "metadata": {},
     "output_type": "execute_result"
    }
   ],
   "source": [
    "#IQR\n",
    "data1=sorted(data)\n",
    "data1"
   ]
  },
  {
   "cell_type": "code",
   "execution_count": 12,
   "id": "49572398",
   "metadata": {},
   "outputs": [
    {
     "data": {
      "text/plain": [
       "(4.0, 18.5)"
      ]
     },
     "execution_count": 12,
     "metadata": {},
     "output_type": "execute_result"
    }
   ],
   "source": [
    "q1,q3=np.percentile(data1,[25,75])#calc q1 and q3\n",
    "q1,q3"
   ]
  },
  {
   "cell_type": "code",
   "execution_count": 13,
   "id": "3b302dc8",
   "metadata": {},
   "outputs": [
    {
     "data": {
      "text/plain": [
       "14.5"
      ]
     },
     "execution_count": 13,
     "metadata": {},
     "output_type": "execute_result"
    }
   ],
   "source": [
    "#cal iqr\n",
    "iqr=q3-q1\n",
    "iqr"
   ]
  },
  {
   "cell_type": "code",
   "execution_count": 14,
   "id": "52570132",
   "metadata": {},
   "outputs": [
    {
     "data": {
      "text/plain": [
       "(-17.75, 40.25)"
      ]
     },
     "execution_count": 14,
     "metadata": {},
     "output_type": "execute_result"
    }
   ],
   "source": [
    "#cal lower and upper bound val\n",
    "l=q1-(1.5*iqr)\n",
    "u=q3+(1.5*iqr)\n",
    "l,u"
   ]
  },
  {
   "cell_type": "code",
   "execution_count": 15,
   "id": "6096623f",
   "metadata": {},
   "outputs": [
    {
     "data": {
      "text/plain": [
       "[]"
      ]
     },
     "execution_count": 15,
     "metadata": {},
     "output_type": "execute_result"
    }
   ],
   "source": [
    "[i for i in data if i<l]#no vaues less than l"
   ]
  },
  {
   "cell_type": "code",
   "execution_count": 16,
   "id": "e657f4a7",
   "metadata": {},
   "outputs": [
    {
     "data": {
      "text/plain": [
       "[102, 150, 190]"
      ]
     },
     "execution_count": 16,
     "metadata": {},
     "output_type": "execute_result"
    }
   ],
   "source": [
    "[i for i in data if i>u]#values greater than u"
   ]
  },
  {
   "cell_type": "code",
   "execution_count": 95,
   "id": "e39ce824",
   "metadata": {},
   "outputs": [
    {
     "data": {
      "text/plain": [
       "[1, 2, 3, 7, 2, 7, 102, 5, 23, 150, 9, 7, 13, 24, 14, 2, 14, 10, 190]"
      ]
     },
     "execution_count": 95,
     "metadata": {},
     "output_type": "execute_result"
    }
   ],
   "source": []
  },
  {
   "cell_type": "markdown",
   "id": "1ad93157",
   "metadata": {},
   "source": [
    "#ML algorithms\n",
    "1.supervised\n",
    "regression\n",
    "classsion\n",
    "2unsupervised\n",
    "clustering\n",
    "3.reinforment learning\n",
    "\n",
    "https://scikit-learn.org/stable/index.html"
   ]
  },
  {
   "cell_type": "markdown",
   "id": "3bf2cb8d",
   "metadata": {},
   "source": [
    "#regression(when we want output as real numbers or numerical values)\n",
    "#in classification for prediction of 2 class(for output as binary class ) we chose logistic regression\n",
    "#for multiclass go for KNN decision tree etc\n",
    "\n",
    "Logistic Regression\n",
    "It is a predictive algorithm using independent variables to predict the dependent variable, just like Linear Regression, but with a difference that the dependent variable should be categorical variable.\n",
    "\n",
    "Independent variables can be numeric or categorical variables, but the dependent variable will always be categorical"
   ]
  },
  {
   "cell_type": "code",
   "execution_count": null,
   "id": "2f567f44",
   "metadata": {},
   "outputs": [],
   "source": [
    "#linear regression(find relation between x and y) i.e y=f(x) or y=mx+c can be used for both +ve and -ve linear gresion"
   ]
  },
  {
   "cell_type": "code",
   "execution_count": 3,
   "id": "d248b0ef",
   "metadata": {},
   "outputs": [
    {
     "data": {
      "text/html": [
       "<div>\n",
       "<style scoped>\n",
       "    .dataframe tbody tr th:only-of-type {\n",
       "        vertical-align: middle;\n",
       "    }\n",
       "\n",
       "    .dataframe tbody tr th {\n",
       "        vertical-align: top;\n",
       "    }\n",
       "\n",
       "    .dataframe thead th {\n",
       "        text-align: right;\n",
       "    }\n",
       "</style>\n",
       "<table border=\"1\" class=\"dataframe\">\n",
       "  <thead>\n",
       "    <tr style=\"text-align: right;\">\n",
       "      <th></th>\n",
       "      <th>YearsExperience</th>\n",
       "      <th>Salary</th>\n",
       "    </tr>\n",
       "  </thead>\n",
       "  <tbody>\n",
       "    <tr>\n",
       "      <th>0</th>\n",
       "      <td>1.1</td>\n",
       "      <td>39343.0</td>\n",
       "    </tr>\n",
       "    <tr>\n",
       "      <th>1</th>\n",
       "      <td>1.3</td>\n",
       "      <td>46205.0</td>\n",
       "    </tr>\n",
       "    <tr>\n",
       "      <th>2</th>\n",
       "      <td>1.5</td>\n",
       "      <td>37731.0</td>\n",
       "    </tr>\n",
       "    <tr>\n",
       "      <th>3</th>\n",
       "      <td>2.0</td>\n",
       "      <td>43525.0</td>\n",
       "    </tr>\n",
       "    <tr>\n",
       "      <th>4</th>\n",
       "      <td>2.2</td>\n",
       "      <td>39891.0</td>\n",
       "    </tr>\n",
       "    <tr>\n",
       "      <th>5</th>\n",
       "      <td>2.9</td>\n",
       "      <td>56642.0</td>\n",
       "    </tr>\n",
       "    <tr>\n",
       "      <th>6</th>\n",
       "      <td>3.0</td>\n",
       "      <td>60150.0</td>\n",
       "    </tr>\n",
       "    <tr>\n",
       "      <th>7</th>\n",
       "      <td>3.2</td>\n",
       "      <td>54445.0</td>\n",
       "    </tr>\n",
       "    <tr>\n",
       "      <th>8</th>\n",
       "      <td>3.2</td>\n",
       "      <td>64445.0</td>\n",
       "    </tr>\n",
       "    <tr>\n",
       "      <th>9</th>\n",
       "      <td>3.7</td>\n",
       "      <td>57189.0</td>\n",
       "    </tr>\n",
       "    <tr>\n",
       "      <th>10</th>\n",
       "      <td>3.9</td>\n",
       "      <td>63218.0</td>\n",
       "    </tr>\n",
       "    <tr>\n",
       "      <th>11</th>\n",
       "      <td>4.0</td>\n",
       "      <td>55794.0</td>\n",
       "    </tr>\n",
       "    <tr>\n",
       "      <th>12</th>\n",
       "      <td>4.0</td>\n",
       "      <td>56957.0</td>\n",
       "    </tr>\n",
       "    <tr>\n",
       "      <th>13</th>\n",
       "      <td>4.1</td>\n",
       "      <td>57081.0</td>\n",
       "    </tr>\n",
       "    <tr>\n",
       "      <th>14</th>\n",
       "      <td>4.5</td>\n",
       "      <td>61111.0</td>\n",
       "    </tr>\n",
       "    <tr>\n",
       "      <th>15</th>\n",
       "      <td>4.9</td>\n",
       "      <td>67938.0</td>\n",
       "    </tr>\n",
       "    <tr>\n",
       "      <th>16</th>\n",
       "      <td>5.1</td>\n",
       "      <td>66029.0</td>\n",
       "    </tr>\n",
       "    <tr>\n",
       "      <th>17</th>\n",
       "      <td>5.3</td>\n",
       "      <td>83088.0</td>\n",
       "    </tr>\n",
       "    <tr>\n",
       "      <th>18</th>\n",
       "      <td>5.9</td>\n",
       "      <td>81363.0</td>\n",
       "    </tr>\n",
       "    <tr>\n",
       "      <th>19</th>\n",
       "      <td>6.0</td>\n",
       "      <td>93940.0</td>\n",
       "    </tr>\n",
       "    <tr>\n",
       "      <th>20</th>\n",
       "      <td>6.8</td>\n",
       "      <td>91738.0</td>\n",
       "    </tr>\n",
       "    <tr>\n",
       "      <th>21</th>\n",
       "      <td>7.1</td>\n",
       "      <td>98273.0</td>\n",
       "    </tr>\n",
       "    <tr>\n",
       "      <th>22</th>\n",
       "      <td>7.9</td>\n",
       "      <td>101302.0</td>\n",
       "    </tr>\n",
       "    <tr>\n",
       "      <th>23</th>\n",
       "      <td>8.2</td>\n",
       "      <td>113812.0</td>\n",
       "    </tr>\n",
       "    <tr>\n",
       "      <th>24</th>\n",
       "      <td>8.7</td>\n",
       "      <td>109431.0</td>\n",
       "    </tr>\n",
       "    <tr>\n",
       "      <th>25</th>\n",
       "      <td>9.0</td>\n",
       "      <td>105582.0</td>\n",
       "    </tr>\n",
       "    <tr>\n",
       "      <th>26</th>\n",
       "      <td>9.5</td>\n",
       "      <td>116969.0</td>\n",
       "    </tr>\n",
       "    <tr>\n",
       "      <th>27</th>\n",
       "      <td>9.6</td>\n",
       "      <td>112635.0</td>\n",
       "    </tr>\n",
       "    <tr>\n",
       "      <th>28</th>\n",
       "      <td>10.3</td>\n",
       "      <td>122391.0</td>\n",
       "    </tr>\n",
       "    <tr>\n",
       "      <th>29</th>\n",
       "      <td>10.5</td>\n",
       "      <td>121872.0</td>\n",
       "    </tr>\n",
       "  </tbody>\n",
       "</table>\n",
       "</div>"
      ],
      "text/plain": [
       "    YearsExperience    Salary\n",
       "0               1.1   39343.0\n",
       "1               1.3   46205.0\n",
       "2               1.5   37731.0\n",
       "3               2.0   43525.0\n",
       "4               2.2   39891.0\n",
       "5               2.9   56642.0\n",
       "6               3.0   60150.0\n",
       "7               3.2   54445.0\n",
       "8               3.2   64445.0\n",
       "9               3.7   57189.0\n",
       "10              3.9   63218.0\n",
       "11              4.0   55794.0\n",
       "12              4.0   56957.0\n",
       "13              4.1   57081.0\n",
       "14              4.5   61111.0\n",
       "15              4.9   67938.0\n",
       "16              5.1   66029.0\n",
       "17              5.3   83088.0\n",
       "18              5.9   81363.0\n",
       "19              6.0   93940.0\n",
       "20              6.8   91738.0\n",
       "21              7.1   98273.0\n",
       "22              7.9  101302.0\n",
       "23              8.2  113812.0\n",
       "24              8.7  109431.0\n",
       "25              9.0  105582.0\n",
       "26              9.5  116969.0\n",
       "27              9.6  112635.0\n",
       "28             10.3  122391.0\n",
       "29             10.5  121872.0"
      ]
     },
     "execution_count": 3,
     "metadata": {},
     "output_type": "execute_result"
    }
   ],
   "source": [
    "df=pd.read_csv('Salary_Data.csv')\n",
    "df"
   ]
  },
  {
   "cell_type": "code",
   "execution_count": 8,
   "id": "857462e7",
   "metadata": {},
   "outputs": [
    {
     "data": {
      "text/plain": [
       "YearsExperience    0\n",
       "Salary             0\n",
       "dtype: int64"
      ]
     },
     "execution_count": 8,
     "metadata": {},
     "output_type": "execute_result"
    }
   ],
   "source": [
    "df.isnull().sum()"
   ]
  },
  {
   "cell_type": "code",
   "execution_count": 7,
   "id": "02d9c132",
   "metadata": {},
   "outputs": [
    {
     "data": {
      "text/html": [
       "<div>\n",
       "<style scoped>\n",
       "    .dataframe tbody tr th:only-of-type {\n",
       "        vertical-align: middle;\n",
       "    }\n",
       "\n",
       "    .dataframe tbody tr th {\n",
       "        vertical-align: top;\n",
       "    }\n",
       "\n",
       "    .dataframe thead th {\n",
       "        text-align: right;\n",
       "    }\n",
       "</style>\n",
       "<table border=\"1\" class=\"dataframe\">\n",
       "  <thead>\n",
       "    <tr style=\"text-align: right;\">\n",
       "      <th></th>\n",
       "      <th>YearsExperience</th>\n",
       "    </tr>\n",
       "  </thead>\n",
       "  <tbody>\n",
       "    <tr>\n",
       "      <th>0</th>\n",
       "      <td>1.1</td>\n",
       "    </tr>\n",
       "    <tr>\n",
       "      <th>1</th>\n",
       "      <td>1.3</td>\n",
       "    </tr>\n",
       "    <tr>\n",
       "      <th>2</th>\n",
       "      <td>1.5</td>\n",
       "    </tr>\n",
       "    <tr>\n",
       "      <th>3</th>\n",
       "      <td>2.0</td>\n",
       "    </tr>\n",
       "    <tr>\n",
       "      <th>4</th>\n",
       "      <td>2.2</td>\n",
       "    </tr>\n",
       "    <tr>\n",
       "      <th>5</th>\n",
       "      <td>2.9</td>\n",
       "    </tr>\n",
       "    <tr>\n",
       "      <th>6</th>\n",
       "      <td>3.0</td>\n",
       "    </tr>\n",
       "    <tr>\n",
       "      <th>7</th>\n",
       "      <td>3.2</td>\n",
       "    </tr>\n",
       "    <tr>\n",
       "      <th>8</th>\n",
       "      <td>3.2</td>\n",
       "    </tr>\n",
       "    <tr>\n",
       "      <th>9</th>\n",
       "      <td>3.7</td>\n",
       "    </tr>\n",
       "    <tr>\n",
       "      <th>10</th>\n",
       "      <td>3.9</td>\n",
       "    </tr>\n",
       "    <tr>\n",
       "      <th>11</th>\n",
       "      <td>4.0</td>\n",
       "    </tr>\n",
       "    <tr>\n",
       "      <th>12</th>\n",
       "      <td>4.0</td>\n",
       "    </tr>\n",
       "    <tr>\n",
       "      <th>13</th>\n",
       "      <td>4.1</td>\n",
       "    </tr>\n",
       "    <tr>\n",
       "      <th>14</th>\n",
       "      <td>4.5</td>\n",
       "    </tr>\n",
       "    <tr>\n",
       "      <th>15</th>\n",
       "      <td>4.9</td>\n",
       "    </tr>\n",
       "    <tr>\n",
       "      <th>16</th>\n",
       "      <td>5.1</td>\n",
       "    </tr>\n",
       "    <tr>\n",
       "      <th>17</th>\n",
       "      <td>5.3</td>\n",
       "    </tr>\n",
       "    <tr>\n",
       "      <th>18</th>\n",
       "      <td>5.9</td>\n",
       "    </tr>\n",
       "    <tr>\n",
       "      <th>19</th>\n",
       "      <td>6.0</td>\n",
       "    </tr>\n",
       "    <tr>\n",
       "      <th>20</th>\n",
       "      <td>6.8</td>\n",
       "    </tr>\n",
       "    <tr>\n",
       "      <th>21</th>\n",
       "      <td>7.1</td>\n",
       "    </tr>\n",
       "    <tr>\n",
       "      <th>22</th>\n",
       "      <td>7.9</td>\n",
       "    </tr>\n",
       "    <tr>\n",
       "      <th>23</th>\n",
       "      <td>8.2</td>\n",
       "    </tr>\n",
       "    <tr>\n",
       "      <th>24</th>\n",
       "      <td>8.7</td>\n",
       "    </tr>\n",
       "    <tr>\n",
       "      <th>25</th>\n",
       "      <td>9.0</td>\n",
       "    </tr>\n",
       "    <tr>\n",
       "      <th>26</th>\n",
       "      <td>9.5</td>\n",
       "    </tr>\n",
       "    <tr>\n",
       "      <th>27</th>\n",
       "      <td>9.6</td>\n",
       "    </tr>\n",
       "    <tr>\n",
       "      <th>28</th>\n",
       "      <td>10.3</td>\n",
       "    </tr>\n",
       "    <tr>\n",
       "      <th>29</th>\n",
       "      <td>10.5</td>\n",
       "    </tr>\n",
       "  </tbody>\n",
       "</table>\n",
       "</div>"
      ],
      "text/plain": [
       "    YearsExperience\n",
       "0               1.1\n",
       "1               1.3\n",
       "2               1.5\n",
       "3               2.0\n",
       "4               2.2\n",
       "5               2.9\n",
       "6               3.0\n",
       "7               3.2\n",
       "8               3.2\n",
       "9               3.7\n",
       "10              3.9\n",
       "11              4.0\n",
       "12              4.0\n",
       "13              4.1\n",
       "14              4.5\n",
       "15              4.9\n",
       "16              5.1\n",
       "17              5.3\n",
       "18              5.9\n",
       "19              6.0\n",
       "20              6.8\n",
       "21              7.1\n",
       "22              7.9\n",
       "23              8.2\n",
       "24              8.7\n",
       "25              9.0\n",
       "26              9.5\n",
       "27              9.6\n",
       "28             10.3\n",
       "29             10.5"
      ]
     },
     "execution_count": 7,
     "metadata": {},
     "output_type": "execute_result"
    }
   ],
   "source": [
    "x=df[['YearsExperience']]#x must be 2d\n",
    "y=df['Salary'] #y can be 1d or 2d\n",
    "x"
   ]
  },
  {
   "cell_type": "code",
   "execution_count": 8,
   "id": "6fafa6be",
   "metadata": {},
   "outputs": [],
   "source": [
    "#split data into train and test\n",
    "from sklearn.model_selection import train_test_split"
   ]
  },
  {
   "cell_type": "code",
   "execution_count": 120,
   "id": "ecd3a0eb",
   "metadata": {},
   "outputs": [],
   "source": [
    "xtrain,xtest,ytrain,ytest=train_test_split(x,y,train_size=0.8,random_state=9013)"
   ]
  },
  {
   "cell_type": "code",
   "execution_count": 10,
   "id": "9cb4f688",
   "metadata": {},
   "outputs": [
    {
     "data": {
      "text/html": [
       "<div>\n",
       "<style scoped>\n",
       "    .dataframe tbody tr th:only-of-type {\n",
       "        vertical-align: middle;\n",
       "    }\n",
       "\n",
       "    .dataframe tbody tr th {\n",
       "        vertical-align: top;\n",
       "    }\n",
       "\n",
       "    .dataframe thead th {\n",
       "        text-align: right;\n",
       "    }\n",
       "</style>\n",
       "<table border=\"1\" class=\"dataframe\">\n",
       "  <thead>\n",
       "    <tr style=\"text-align: right;\">\n",
       "      <th></th>\n",
       "      <th>YearsExperience</th>\n",
       "    </tr>\n",
       "  </thead>\n",
       "  <tbody>\n",
       "    <tr>\n",
       "      <th>2</th>\n",
       "      <td>1.5</td>\n",
       "    </tr>\n",
       "    <tr>\n",
       "      <th>28</th>\n",
       "      <td>10.3</td>\n",
       "    </tr>\n",
       "    <tr>\n",
       "      <th>13</th>\n",
       "      <td>4.1</td>\n",
       "    </tr>\n",
       "    <tr>\n",
       "      <th>10</th>\n",
       "      <td>3.9</td>\n",
       "    </tr>\n",
       "    <tr>\n",
       "      <th>26</th>\n",
       "      <td>9.5</td>\n",
       "    </tr>\n",
       "    <tr>\n",
       "      <th>24</th>\n",
       "      <td>8.7</td>\n",
       "    </tr>\n",
       "  </tbody>\n",
       "</table>\n",
       "</div>"
      ],
      "text/plain": [
       "    YearsExperience\n",
       "2               1.5\n",
       "28             10.3\n",
       "13              4.1\n",
       "10              3.9\n",
       "26              9.5\n",
       "24              8.7"
      ]
     },
     "execution_count": 10,
     "metadata": {},
     "output_type": "execute_result"
    }
   ],
   "source": [
    "xtest"
   ]
  },
  {
   "cell_type": "code",
   "execution_count": 121,
   "id": "0b2dd11a",
   "metadata": {},
   "outputs": [],
   "source": [
    "#build your model\n",
    "from sklearn.linear_model import LinearRegression\n",
    "model=LinearRegression()"
   ]
  },
  {
   "cell_type": "code",
   "execution_count": 122,
   "id": "33b4fc60",
   "metadata": {},
   "outputs": [
    {
     "data": {
      "text/plain": [
       "LinearRegression()"
      ]
     },
     "execution_count": 122,
     "metadata": {},
     "output_type": "execute_result"
    }
   ],
   "source": [
    "#fit the model(train the model)\n",
    "model.fit(xtrain,ytrain)"
   ]
  },
  {
   "cell_type": "code",
   "execution_count": 123,
   "id": "40beddd8",
   "metadata": {},
   "outputs": [
    {
     "data": {
      "text/plain": [
       "array([100493.23884942, 115574.31604603,  36398.6607638 , 108033.77744773,\n",
       "        56192.57458436,  74101.35375534])"
      ]
     },
     "execution_count": 123,
     "metadata": {},
     "output_type": "execute_result"
    }
   ],
   "source": [
    "#perform testing(prediction)\n",
    "yp=model.predict(xtest)\n",
    "yp#this gives predicte values"
   ]
  },
  {
   "cell_type": "code",
   "execution_count": 124,
   "id": "79f6d9cf",
   "metadata": {},
   "outputs": [
    {
     "data": {
      "text/plain": [
       "0.9842738632128417"
      ]
     },
     "execution_count": 124,
     "metadata": {},
     "output_type": "execute_result"
    }
   ],
   "source": [
    "#xtrain,xtest,ytrain,ytest=train_test_split(x,y,train_size=0.8,random_state=0)\n",
    "#calc r2 scrore\n",
    "from sklearn.metrics import r2_score\n",
    "r2=r2_score(ytest,yp)\n",
    "r2"
   ]
  },
  {
   "cell_type": "code",
   "execution_count": 125,
   "id": "a539b78f",
   "metadata": {},
   "outputs": [
    {
     "data": {
      "image/png": "[encoded data removed]",
      "text/plain": [
       "<Figure size 432x288 with 1 Axes>"
      ]
     },
     "metadata": {
      "needs_background": "light"
     },
     "output_type": "display_data"
    }
   ],
   "source": [
    "#plot train plot\n",
    "plt.scatter(xtrain,ytrain,color='red',label='actual',s=100)\n",
    "plt.scatter(xtrain,model.predict(xtrain),color='green',label='predicted',s=100)\n",
    "plt.plot(xtrain,model.predict(xtrain),color='yellow',label='line of reg')\n",
    "plt.legend()\n",
    "plt.show()"
   ]
  },
  {
   "cell_type": "code",
   "execution_count": 27,
   "id": "7a8d82ba",
   "metadata": {},
   "outputs": [
    {
     "data": {
      "image/png": "[encoded data removed]",
      "text/plain": [
       "<Figure size 432x288 with 1 Axes>"
      ]
     },
     "metadata": {
      "needs_background": "light"
     },
     "output_type": "display_data"
    }
   ],
   "source": [
    "#plot test  plot\n",
    "plt.scatter(xtest,ytest,color='red',label='actual',s=100)\n",
    "plt.scatter(xtest,model.predict(xtest),color='green',label='predicted',s=100)\n",
    "plt.plot(xtest,model.predict(xtest),color='yellow',label='line of reg')\n",
    "plt.legend()\n",
    "plt.show()"
   ]
  },
  {
   "cell_type": "code",
   "execution_count": 28,
   "id": "e1b983ac",
   "metadata": {},
   "outputs": [
    {
     "data": {
      "text/plain": [
       "(array([9312.57512673]), 26780.099150628186)"
      ]
     },
     "execution_count": 28,
     "metadata": {},
     "output_type": "execute_result"
    }
   ],
   "source": [
    "m=model.coef_#value of slope m\n",
    "c=model.intercept_#value of intercept c\n",
    "m,c"
   ]
  },
  {
   "cell_type": "code",
   "execution_count": 106,
   "id": "c89f2b72",
   "metadata": {},
   "outputs": [
    {
     "data": {
      "text/plain": [
       "0.9895093539527764"
      ]
     },
     "execution_count": 106,
     "metadata": {},
     "output_type": "execute_result"
    }
   ],
   "source": [
    "#to vary the accuracy change randome state val and see output\n",
    "from sklearn.model_selection import train_test_split\n",
    "from sklearn.metrics import r2_score\n",
    "from sklearn.linear_model import LinearRegression\n",
    "\n",
    "model=LinearRegression()\n",
    "model.fit(xtrain,ytrain)\n",
    "xtrain,xtest,ytrain,ytest=train_test_split(x,y,train_size=0.8,random_state=0)\n",
    "yp=model.predict(xtest)\n",
    "r2=r2_score(ytest,yp)\n",
    "r2"
   ]
  },
  {
   "cell_type": "code",
   "execution_count": 133,
   "id": "6a2e1451",
   "metadata": {
    "scrolled": false
   },
   "outputs": [],
   "source": [
    "ac=[]\n",
    "for i in range(10000):\n",
    "    xtrain,xtest,ytrain,ytest=train_test_split(x,y,train_size=0.8,random_state=i)\n",
    "    model=LinearRegression()\n",
    "    model.fit(xtrain,ytrain)\n",
    "    yp=model.predict(xtest)\n",
    "    r2=r2_score(ytest,yp)\n",
    "    ac.append(r2)\n",
    "    \n"
   ]
  },
  {
   "cell_type": "code",
   "execution_count": 135,
   "id": "8c1f379f",
   "metadata": {},
   "outputs": [
    {
     "data": {
      "text/plain": [
       "(0.99842716176972, 9014)"
      ]
     },
     "execution_count": 135,
     "metadata": {},
     "output_type": "execute_result"
    }
   ],
   "source": [
    "np.max(ac),np.argmax(ac)"
   ]
  },
  {
   "cell_type": "code",
   "execution_count": 131,
   "id": "7ff2740c",
   "metadata": {
    "scrolled": true
   },
   "outputs": [
    {
     "data": {
      "image/png": "[encoded data removed]",
      "text/plain": [
       "<Figure size 576x432 with 1 Axes>"
      ]
     },
     "metadata": {
      "needs_background": "light"
     },
     "output_type": "display_data"
    },
    {
     "name": "stdout",
     "output_type": "stream",
     "text": [
      "0.99842716176972\n"
     ]
    }
   ],
   "source": [
    "xtrain,xtest,ytrain,ytest=train_test_split(x,y,train_size=0.8,random_state=9014)\n",
    "model=LinearRegression()\n",
    "model.fit(xtrain,ytrain)\n",
    "yp=model.predict(xtest)\n",
    "r2=r2_score(ytest,yp)\n",
    "plt.figure(figsize=(8,6))\n",
    "plt.scatter(xtrain,ytrain,color='red',label='actual',s=100)\n",
    "plt.scatter(xtrain,model.predict(xtrain),color='green',label='predicted',s=100)\n",
    "plt.plot(xtrain,model.predict(xtrain),color='yellow',label='line of reg')\n",
    "plt.legend()\n",
    "plt.show()\n",
    "print(r2)#see belwo"
   ]
  },
  {
   "cell_type": "code",
   "execution_count": 130,
   "id": "3bde483d",
   "metadata": {},
   "outputs": [
    {
     "data": {
      "image/png": "[encoded data removed]",
      "text/plain": [
       "<Figure size 576x432 with 1 Axes>"
      ]
     },
     "metadata": {
      "needs_background": "light"
     },
     "output_type": "display_data"
    },
    {
     "name": "stdout",
     "output_type": "stream",
     "text": [
      "0.99842716176972\n"
     ]
    }
   ],
   "source": [
    "xtrain,xtest,ytrain,ytest=train_test_split(x,y,train_size=0.8,random_state=9014)\n",
    "model=LinearRegression()\n",
    "model.fit(xtrain,ytrain)\n",
    "yp=model.predict(xtest)\n",
    "r2=r2_score(ytest,yp)\n",
    "plt.figure(figsize=(8,6))\n",
    "plt.scatter(xtest,ytest,color='red',label='actual',s=100)\n",
    "plt.scatter(xtest,model.predict(xtest),color='green',label='predicted',s=100)\n",
    "plt.plot(xtest,model.predict(xtest),color='yellow',label='line of reg')\n",
    "plt.legend()\n",
    "plt.show()\n",
    "print(r2)#see 9014 has best value best reg fit line"
   ]
  },
  {
   "cell_type": "code",
   "execution_count": 136,
   "id": "afded5b1",
   "metadata": {},
   "outputs": [
    {
     "data": {
      "text/plain": [
       "['salary.pkl']"
      ]
     },
     "execution_count": 136,
     "metadata": {},
     "output_type": "execute_result"
    }
   ],
   "source": [
    "#save the model\n",
    "import joblib\n",
    "joblib.dump(model,'salary.pkl')#pkl mis the fileformat of file in which model is saved file is saved in python scripts loc"
   ]
  },
  {
   "cell_type": "code",
   "execution_count": 138,
   "id": "7a59a4a5",
   "metadata": {},
   "outputs": [],
   "source": [
    "#load the model\n",
    "mymod=joblib.load('salary.pkl')"
   ]
  },
  {
   "cell_type": "code",
   "execution_count": 140,
   "id": "99d599bf",
   "metadata": {},
   "outputs": [
    {
     "data": {
      "text/plain": [
       "array([130010.20996375])"
      ]
     },
     "execution_count": 140,
     "metadata": {},
     "output_type": "execute_result"
    }
   ],
   "source": [
    "mymod.predict([[11]])#x is 2d so input is 2d"
   ]
  },
  {
   "cell_type": "code",
   "execution_count": 141,
   "id": "5c1e88db",
   "metadata": {},
   "outputs": [
    {
     "data": {
      "text/plain": [
       "array([130010.20996375, 139452.40765902, 148894.60535428])"
      ]
     },
     "execution_count": 141,
     "metadata": {},
     "output_type": "execute_result"
    }
   ],
   "source": [
    "mymod.predict([[11],[12],[13]])#for multiple values"
   ]
  },
  {
   "cell_type": "code",
   "execution_count": 144,
   "id": "544a426f",
   "metadata": {},
   "outputs": [
    {
     "data": {
      "text/html": [
       "<div>\n",
       "<style scoped>\n",
       "    .dataframe tbody tr th:only-of-type {\n",
       "        vertical-align: middle;\n",
       "    }\n",
       "\n",
       "    .dataframe tbody tr th {\n",
       "        vertical-align: top;\n",
       "    }\n",
       "\n",
       "    .dataframe thead th {\n",
       "        text-align: right;\n",
       "    }\n",
       "</style>\n",
       "<table border=\"1\" class=\"dataframe\">\n",
       "  <thead>\n",
       "    <tr style=\"text-align: right;\">\n",
       "      <th></th>\n",
       "      <th>YearsExperience</th>\n",
       "      <th>Salary</th>\n",
       "    </tr>\n",
       "  </thead>\n",
       "  <tbody>\n",
       "    <tr>\n",
       "      <th>0</th>\n",
       "      <td>1.1</td>\n",
       "      <td>39343.0</td>\n",
       "    </tr>\n",
       "    <tr>\n",
       "      <th>1</th>\n",
       "      <td>1.3</td>\n",
       "      <td>46205.0</td>\n",
       "    </tr>\n",
       "    <tr>\n",
       "      <th>2</th>\n",
       "      <td>1.5</td>\n",
       "      <td>37731.0</td>\n",
       "    </tr>\n",
       "    <tr>\n",
       "      <th>3</th>\n",
       "      <td>2.0</td>\n",
       "      <td>43525.0</td>\n",
       "    </tr>\n",
       "    <tr>\n",
       "      <th>4</th>\n",
       "      <td>2.2</td>\n",
       "      <td>39891.0</td>\n",
       "    </tr>\n",
       "    <tr>\n",
       "      <th>5</th>\n",
       "      <td>2.9</td>\n",
       "      <td>56642.0</td>\n",
       "    </tr>\n",
       "    <tr>\n",
       "      <th>6</th>\n",
       "      <td>3.0</td>\n",
       "      <td>60150.0</td>\n",
       "    </tr>\n",
       "    <tr>\n",
       "      <th>7</th>\n",
       "      <td>3.2</td>\n",
       "      <td>54445.0</td>\n",
       "    </tr>\n",
       "    <tr>\n",
       "      <th>8</th>\n",
       "      <td>3.2</td>\n",
       "      <td>64445.0</td>\n",
       "    </tr>\n",
       "    <tr>\n",
       "      <th>9</th>\n",
       "      <td>3.7</td>\n",
       "      <td>57189.0</td>\n",
       "    </tr>\n",
       "    <tr>\n",
       "      <th>10</th>\n",
       "      <td>3.9</td>\n",
       "      <td>63218.0</td>\n",
       "    </tr>\n",
       "    <tr>\n",
       "      <th>11</th>\n",
       "      <td>4.0</td>\n",
       "      <td>55794.0</td>\n",
       "    </tr>\n",
       "    <tr>\n",
       "      <th>12</th>\n",
       "      <td>4.0</td>\n",
       "      <td>56957.0</td>\n",
       "    </tr>\n",
       "    <tr>\n",
       "      <th>13</th>\n",
       "      <td>4.1</td>\n",
       "      <td>57081.0</td>\n",
       "    </tr>\n",
       "    <tr>\n",
       "      <th>14</th>\n",
       "      <td>4.5</td>\n",
       "      <td>61111.0</td>\n",
       "    </tr>\n",
       "    <tr>\n",
       "      <th>15</th>\n",
       "      <td>4.9</td>\n",
       "      <td>67938.0</td>\n",
       "    </tr>\n",
       "    <tr>\n",
       "      <th>16</th>\n",
       "      <td>5.1</td>\n",
       "      <td>66029.0</td>\n",
       "    </tr>\n",
       "    <tr>\n",
       "      <th>17</th>\n",
       "      <td>5.3</td>\n",
       "      <td>83088.0</td>\n",
       "    </tr>\n",
       "    <tr>\n",
       "      <th>18</th>\n",
       "      <td>5.9</td>\n",
       "      <td>81363.0</td>\n",
       "    </tr>\n",
       "    <tr>\n",
       "      <th>19</th>\n",
       "      <td>6.0</td>\n",
       "      <td>93940.0</td>\n",
       "    </tr>\n",
       "    <tr>\n",
       "      <th>20</th>\n",
       "      <td>6.8</td>\n",
       "      <td>91738.0</td>\n",
       "    </tr>\n",
       "    <tr>\n",
       "      <th>21</th>\n",
       "      <td>7.1</td>\n",
       "      <td>98273.0</td>\n",
       "    </tr>\n",
       "    <tr>\n",
       "      <th>22</th>\n",
       "      <td>7.9</td>\n",
       "      <td>101302.0</td>\n",
       "    </tr>\n",
       "    <tr>\n",
       "      <th>23</th>\n",
       "      <td>8.2</td>\n",
       "      <td>113812.0</td>\n",
       "    </tr>\n",
       "    <tr>\n",
       "      <th>24</th>\n",
       "      <td>8.7</td>\n",
       "      <td>109431.0</td>\n",
       "    </tr>\n",
       "    <tr>\n",
       "      <th>25</th>\n",
       "      <td>9.0</td>\n",
       "      <td>105582.0</td>\n",
       "    </tr>\n",
       "    <tr>\n",
       "      <th>26</th>\n",
       "      <td>9.5</td>\n",
       "      <td>116969.0</td>\n",
       "    </tr>\n",
       "    <tr>\n",
       "      <th>27</th>\n",
       "      <td>9.6</td>\n",
       "      <td>112635.0</td>\n",
       "    </tr>\n",
       "    <tr>\n",
       "      <th>28</th>\n",
       "      <td>10.3</td>\n",
       "      <td>122391.0</td>\n",
       "    </tr>\n",
       "    <tr>\n",
       "      <th>29</th>\n",
       "      <td>10.5</td>\n",
       "      <td>121872.0</td>\n",
       "    </tr>\n",
       "  </tbody>\n",
       "</table>\n",
       "</div>"
      ],
      "text/plain": [
       "    YearsExperience    Salary\n",
       "0               1.1   39343.0\n",
       "1               1.3   46205.0\n",
       "2               1.5   37731.0\n",
       "3               2.0   43525.0\n",
       "4               2.2   39891.0\n",
       "5               2.9   56642.0\n",
       "6               3.0   60150.0\n",
       "7               3.2   54445.0\n",
       "8               3.2   64445.0\n",
       "9               3.7   57189.0\n",
       "10              3.9   63218.0\n",
       "11              4.0   55794.0\n",
       "12              4.0   56957.0\n",
       "13              4.1   57081.0\n",
       "14              4.5   61111.0\n",
       "15              4.9   67938.0\n",
       "16              5.1   66029.0\n",
       "17              5.3   83088.0\n",
       "18              5.9   81363.0\n",
       "19              6.0   93940.0\n",
       "20              6.8   91738.0\n",
       "21              7.1   98273.0\n",
       "22              7.9  101302.0\n",
       "23              8.2  113812.0\n",
       "24              8.7  109431.0\n",
       "25              9.0  105582.0\n",
       "26              9.5  116969.0\n",
       "27              9.6  112635.0\n",
       "28             10.3  122391.0\n",
       "29             10.5  121872.0"
      ]
     },
     "execution_count": 144,
     "metadata": {},
     "output_type": "execute_result"
    }
   ],
   "source": [
    "dd=df[['YearsExperience','Salary']]\n",
    "dd"
   ]
  },
  {
   "cell_type": "code",
   "execution_count": 150,
   "id": "e0083eb6",
   "metadata": {},
   "outputs": [
    {
     "data": {
      "text/html": [
       "<div>\n",
       "<style scoped>\n",
       "    .dataframe tbody tr th:only-of-type {\n",
       "        vertical-align: middle;\n",
       "    }\n",
       "\n",
       "    .dataframe tbody tr th {\n",
       "        vertical-align: top;\n",
       "    }\n",
       "\n",
       "    .dataframe thead th {\n",
       "        text-align: right;\n",
       "    }\n",
       "</style>\n",
       "<table border=\"1\" class=\"dataframe\">\n",
       "  <thead>\n",
       "    <tr style=\"text-align: right;\">\n",
       "      <th></th>\n",
       "      <th>EMPNO</th>\n",
       "      <th>ENAME</th>\n",
       "      <th>JOB</th>\n",
       "      <th>MGR</th>\n",
       "      <th>HIREDATE</th>\n",
       "      <th>SAL</th>\n",
       "      <th>COMM</th>\n",
       "      <th>DEPTNO</th>\n",
       "    </tr>\n",
       "  </thead>\n",
       "  <tbody>\n",
       "    <tr>\n",
       "      <th>0</th>\n",
       "      <td>7369</td>\n",
       "      <td>SMITH</td>\n",
       "      <td>CLERK</td>\n",
       "      <td>7902.0</td>\n",
       "      <td>12/19/1980</td>\n",
       "      <td>800</td>\n",
       "      <td>NaN</td>\n",
       "      <td>20</td>\n",
       "    </tr>\n",
       "    <tr>\n",
       "      <th>1</th>\n",
       "      <td>7499</td>\n",
       "      <td>ALLEN</td>\n",
       "      <td>SALESMAN</td>\n",
       "      <td>7698.0</td>\n",
       "      <td>2/20/1981</td>\n",
       "      <td>1600</td>\n",
       "      <td>300.0</td>\n",
       "      <td>30</td>\n",
       "    </tr>\n",
       "    <tr>\n",
       "      <th>2</th>\n",
       "      <td>7521</td>\n",
       "      <td>WARD</td>\n",
       "      <td>SALESMAN</td>\n",
       "      <td>7698.0</td>\n",
       "      <td>2/22/1981</td>\n",
       "      <td>1250</td>\n",
       "      <td>500.0</td>\n",
       "      <td>30</td>\n",
       "    </tr>\n",
       "    <tr>\n",
       "      <th>3</th>\n",
       "      <td>7566</td>\n",
       "      <td>JONES</td>\n",
       "      <td>MANAGER</td>\n",
       "      <td>7839.0</td>\n",
       "      <td>4/2/1981</td>\n",
       "      <td>2975</td>\n",
       "      <td>NaN</td>\n",
       "      <td>20</td>\n",
       "    </tr>\n",
       "    <tr>\n",
       "      <th>4</th>\n",
       "      <td>7654</td>\n",
       "      <td>MARTIN</td>\n",
       "      <td>SALESMAN</td>\n",
       "      <td>7698.0</td>\n",
       "      <td>8/28/1981</td>\n",
       "      <td>1250</td>\n",
       "      <td>1400.0</td>\n",
       "      <td>30</td>\n",
       "    </tr>\n",
       "    <tr>\n",
       "      <th>5</th>\n",
       "      <td>7698</td>\n",
       "      <td>BLAKE</td>\n",
       "      <td>MANAGER</td>\n",
       "      <td>7839.0</td>\n",
       "      <td>5/1/1981</td>\n",
       "      <td>2850</td>\n",
       "      <td>NaN</td>\n",
       "      <td>30</td>\n",
       "    </tr>\n",
       "    <tr>\n",
       "      <th>6</th>\n",
       "      <td>7782</td>\n",
       "      <td>CLARK</td>\n",
       "      <td>MANAGER</td>\n",
       "      <td>7839.0</td>\n",
       "      <td>6/9/1981</td>\n",
       "      <td>2450</td>\n",
       "      <td>NaN</td>\n",
       "      <td>10</td>\n",
       "    </tr>\n",
       "    <tr>\n",
       "      <th>7</th>\n",
       "      <td>7788</td>\n",
       "      <td>SCOTT</td>\n",
       "      <td>ANALYST</td>\n",
       "      <td>7566.0</td>\n",
       "      <td>12/9/1982</td>\n",
       "      <td>3000</td>\n",
       "      <td>NaN</td>\n",
       "      <td>20</td>\n",
       "    </tr>\n",
       "    <tr>\n",
       "      <th>8</th>\n",
       "      <td>7839</td>\n",
       "      <td>KING</td>\n",
       "      <td>PRESIDENT</td>\n",
       "      <td>NaN</td>\n",
       "      <td>11/17/1981</td>\n",
       "      <td>5000</td>\n",
       "      <td>NaN</td>\n",
       "      <td>10</td>\n",
       "    </tr>\n",
       "    <tr>\n",
       "      <th>9</th>\n",
       "      <td>7844</td>\n",
       "      <td>TURNER</td>\n",
       "      <td>SALESMAN</td>\n",
       "      <td>7698.0</td>\n",
       "      <td>9/8/1981</td>\n",
       "      <td>1500</td>\n",
       "      <td>NaN</td>\n",
       "      <td>30</td>\n",
       "    </tr>\n",
       "    <tr>\n",
       "      <th>10</th>\n",
       "      <td>7876</td>\n",
       "      <td>ADAMS</td>\n",
       "      <td>CLERK</td>\n",
       "      <td>7788.0</td>\n",
       "      <td>1/12/1983</td>\n",
       "      <td>1100</td>\n",
       "      <td>NaN</td>\n",
       "      <td>20</td>\n",
       "    </tr>\n",
       "    <tr>\n",
       "      <th>11</th>\n",
       "      <td>7900</td>\n",
       "      <td>JAMES</td>\n",
       "      <td>CLERK</td>\n",
       "      <td>7698.0</td>\n",
       "      <td>3/3/1981</td>\n",
       "      <td>950</td>\n",
       "      <td>NaN</td>\n",
       "      <td>30</td>\n",
       "    </tr>\n",
       "    <tr>\n",
       "      <th>12</th>\n",
       "      <td>7902</td>\n",
       "      <td>FORD</td>\n",
       "      <td>ANALYST</td>\n",
       "      <td>7566.0</td>\n",
       "      <td>12/3/1981</td>\n",
       "      <td>3000</td>\n",
       "      <td>NaN</td>\n",
       "      <td>20</td>\n",
       "    </tr>\n",
       "    <tr>\n",
       "      <th>13</th>\n",
       "      <td>7934</td>\n",
       "      <td>MILLER</td>\n",
       "      <td>CLERK</td>\n",
       "      <td>7782.0</td>\n",
       "      <td>1/23/1982</td>\n",
       "      <td>1300</td>\n",
       "      <td>NaN</td>\n",
       "      <td>10</td>\n",
       "    </tr>\n",
       "  </tbody>\n",
       "</table>\n",
       "</div>"
      ],
      "text/plain": [
       "    EMPNO   ENAME        JOB     MGR    HIREDATE   SAL    COMM  DEPTNO\n",
       "0    7369   SMITH      CLERK  7902.0  12/19/1980   800     NaN      20\n",
       "1    7499   ALLEN   SALESMAN  7698.0   2/20/1981  1600   300.0      30\n",
       "2    7521    WARD   SALESMAN  7698.0   2/22/1981  1250   500.0      30\n",
       "3    7566   JONES    MANAGER  7839.0    4/2/1981  2975     NaN      20\n",
       "4    7654  MARTIN   SALESMAN  7698.0   8/28/1981  1250  1400.0      30\n",
       "5    7698   BLAKE    MANAGER  7839.0    5/1/1981  2850     NaN      30\n",
       "6    7782   CLARK    MANAGER  7839.0    6/9/1981  2450     NaN      10\n",
       "7    7788   SCOTT    ANALYST  7566.0   12/9/1982  3000     NaN      20\n",
       "8    7839    KING  PRESIDENT     NaN  11/17/1981  5000     NaN      10\n",
       "9    7844  TURNER   SALESMAN  7698.0    9/8/1981  1500     NaN      30\n",
       "10   7876   ADAMS      CLERK  7788.0   1/12/1983  1100     NaN      20\n",
       "11   7900   JAMES      CLERK  7698.0    3/3/1981   950     NaN      30\n",
       "12   7902    FORD    ANALYST  7566.0   12/3/1981  3000     NaN      20\n",
       "13   7934  MILLER      CLERK  7782.0   1/23/1982  1300     NaN      10"
      ]
     },
     "execution_count": 150,
     "metadata": {},
     "output_type": "execute_result"
    }
   ],
   "source": [
    "d=pd.read_csv('emp_Data.csv')\n",
    "d"
   ]
  },
  {
   "cell_type": "code",
   "execution_count": 167,
   "id": "57b179d5",
   "metadata": {},
   "outputs": [
    {
     "data": {
      "text/html": [
       "<div>\n",
       "<style scoped>\n",
       "    .dataframe tbody tr th:only-of-type {\n",
       "        vertical-align: middle;\n",
       "    }\n",
       "\n",
       "    .dataframe tbody tr th {\n",
       "        vertical-align: top;\n",
       "    }\n",
       "\n",
       "    .dataframe thead th {\n",
       "        text-align: right;\n",
       "    }\n",
       "</style>\n",
       "<table border=\"1\" class=\"dataframe\">\n",
       "  <thead>\n",
       "    <tr style=\"text-align: right;\">\n",
       "      <th></th>\n",
       "      <th>DEPTNO</th>\n",
       "      <th>SAL</th>\n",
       "    </tr>\n",
       "  </thead>\n",
       "  <tbody>\n",
       "    <tr>\n",
       "      <th>0</th>\n",
       "      <td>10</td>\n",
       "      <td>2916.666667</td>\n",
       "    </tr>\n",
       "    <tr>\n",
       "      <th>1</th>\n",
       "      <td>20</td>\n",
       "      <td>2175.000000</td>\n",
       "    </tr>\n",
       "    <tr>\n",
       "      <th>2</th>\n",
       "      <td>30</td>\n",
       "      <td>1566.666667</td>\n",
       "    </tr>\n",
       "  </tbody>\n",
       "</table>\n",
       "</div>"
      ],
      "text/plain": [
       "   DEPTNO          SAL\n",
       "0      10  2916.666667\n",
       "1      20  2175.000000\n",
       "2      30  1566.666667"
      ]
     },
     "execution_count": 167,
     "metadata": {},
     "output_type": "execute_result"
    }
   ],
   "source": [
    "d.groupby(['DEPTNO']).mean()['SAL'].reset_index_index()"
   ]
  },
  {
   "cell_type": "code",
   "execution_count": 180,
   "id": "81724949",
   "metadata": {},
   "outputs": [
    {
     "data": {
      "text/plain": [
       "DEPTNO  JOB      \n",
       "10      CLERK        1\n",
       "        MANAGER      1\n",
       "        PRESIDENT    1\n",
       "20      ANALYST      2\n",
       "        CLERK        2\n",
       "        MANAGER      1\n",
       "30      SALESMAN     4\n",
       "        CLERK        1\n",
       "        MANAGER      1\n",
       "Name: JOB, dtype: int64"
      ]
     },
     "execution_count": 180,
     "metadata": {},
     "output_type": "execute_result"
    }
   ],
   "source": [
    "d.groupby('DEPTNO')['JOB'].value_counts()"
   ]
  },
  {
   "cell_type": "code",
   "execution_count": 187,
   "id": "8486c51a",
   "metadata": {},
   "outputs": [
    {
     "data": {
      "text/plain": [
       "DEPTNO  JOB      \n",
       "10      CLERK        1\n",
       "        MANAGER      1\n",
       "        PRESIDENT    1\n",
       "20      ANALYST      2\n",
       "        CLERK        2\n",
       "        MANAGER      1\n",
       "30      CLERK        1\n",
       "        MANAGER      1\n",
       "        SALESMAN     4\n",
       "dtype: int64"
      ]
     },
     "execution_count": 187,
     "metadata": {},
     "output_type": "execute_result"
    }
   ],
   "source": [
    "d.groupby(['DEPTNO','JOB']).size()"
   ]
  },
  {
   "cell_type": "code",
   "execution_count": 199,
   "id": "90f6612b",
   "metadata": {
    "scrolled": true
   },
   "outputs": [
    {
     "name": "stderr",
     "output_type": "stream",
     "text": [
      "C:\\Users\\2112161\\AppData\\Local\\Temp\\2/ipykernel_6984/645518385.py:1: FutureWarning: Indexing with multiple keys (implicitly converted to a tuple of keys) will be deprecated, use a list instead.\n",
      "  d.groupby('DEPTNO')[('JOB','MGR')].unique()\n"
     ]
    },
    {
     "ename": "AttributeError",
     "evalue": "'DataFrameGroupBy' object has no attribute 'unique'",
     "output_type": "error",
     "traceback": [
      "\u001b[1;31m---------------------------------------------------------------------------\u001b[0m",
      "\u001b[1;31mAttributeError\u001b[0m                            Traceback (most recent call last)",
      "\u001b[1;32m~\\AppData\\Local\\Temp\\2/ipykernel_6984/645518385.py\u001b[0m in \u001b[0;36m<module>\u001b[1;34m\u001b[0m\n\u001b[1;32m----> 1\u001b[1;33m \u001b[0md\u001b[0m\u001b[1;33m.\u001b[0m\u001b[0mgroupby\u001b[0m\u001b[1;33m(\u001b[0m\u001b[1;34m'DEPTNO'\u001b[0m\u001b[1;33m)\u001b[0m\u001b[1;33m[\u001b[0m\u001b[1;33m(\u001b[0m\u001b[1;34m'JOB'\u001b[0m\u001b[1;33m,\u001b[0m\u001b[1;34m'MGR'\u001b[0m\u001b[1;33m)\u001b[0m\u001b[1;33m]\u001b[0m\u001b[1;33m.\u001b[0m\u001b[0munique\u001b[0m\u001b[1;33m(\u001b[0m\u001b[1;33m)\u001b[0m\u001b[1;33m\u001b[0m\u001b[1;33m\u001b[0m\u001b[0m\n\u001b[0m",
      "\u001b[1;32m~\\Anaconda3\\lib\\site-packages\\pandas\\core\\groupby\\groupby.py\u001b[0m in \u001b[0;36m__getattr__\u001b[1;34m(self, attr)\u001b[0m\n\u001b[0;32m    909\u001b[0m             \u001b[1;32mreturn\u001b[0m \u001b[0mself\u001b[0m\u001b[1;33m[\u001b[0m\u001b[0mattr\u001b[0m\u001b[1;33m]\u001b[0m\u001b[1;33m\u001b[0m\u001b[1;33m\u001b[0m\u001b[0m\n\u001b[0;32m    910\u001b[0m \u001b[1;33m\u001b[0m\u001b[0m\n\u001b[1;32m--> 911\u001b[1;33m         raise AttributeError(\n\u001b[0m\u001b[0;32m    912\u001b[0m             \u001b[1;34mf\"'{type(self).__name__}' object has no attribute '{attr}'\"\u001b[0m\u001b[1;33m\u001b[0m\u001b[1;33m\u001b[0m\u001b[0m\n\u001b[0;32m    913\u001b[0m         )\n",
      "\u001b[1;31mAttributeError\u001b[0m: 'DataFrameGroupBy' object has no attribute 'unique'"
     ]
    }
   ],
   "source": [
    "d.groupby('DEPTNO')[('JOB','MGR')].unique()#not used"
   ]
  },
  {
   "cell_type": "code",
   "execution_count": 29,
   "id": "4dbc5c4b",
   "metadata": {},
   "outputs": [],
   "source": [
    "#refer machine learning copy 1  file for more"
   ]
  },
  {
   "cell_type": "code",
   "execution_count": null,
   "id": "c094a275",
   "metadata": {},
   "outputs": [],
   "source": [
    "#refer machine learning copy 1  file for more\n",
    "#note above concept is wrong...for ordinal data u perfrom ordinal encoding(for input only)and label encoding(only for output see ML prac)"
   ]
  },
  {
   "cell_type": "code",
   "execution_count": null,
   "id": "3f42cc76",
   "metadata": {},
   "outputs": [],
   "source": []
  },
  {
   "cell_type": "code",
   "execution_count": null,
   "id": "361069d0",
   "metadata": {},
   "outputs": [],
   "source": []
  },
  {
   "cell_type": "code",
   "execution_count": null,
   "id": "92c1bf7c",
   "metadata": {},
   "outputs": [],
   "source": []
  },
  {
   "cell_type": "code",
   "execution_count": null,
   "id": "20081a14",
   "metadata": {},
   "outputs": [],
   "source": []
  },
  {
   "cell_type": "code",
   "execution_count": null,
   "id": "1b61e1a2",
   "metadata": {},
   "outputs": [],
   "source": []
  },
  {
   "cell_type": "code",
   "execution_count": null,
   "id": "11a8d95a",
   "metadata": {},
   "outputs": [],
   "source": []
  },
  {
   "cell_type": "code",
   "execution_count": null,
   "id": "db9a965a",
   "metadata": {},
   "outputs": [],
   "source": []
  },
  {
   "cell_type": "code",
   "execution_count": 30,
   "id": "34ecb122",
   "metadata": {},
   "outputs": [
    {
     "data": {
      "text/plain": [
       "array([ 37731., 122391.,  57081.,  63218., 116969., 109431.])"
      ]
     },
     "execution_count": 30,
     "metadata": {},
     "output_type": "execute_result"
    }
   ],
   "source": [
    "ytest.values#actual values"
   ]
  },
  {
   "cell_type": "code",
   "execution_count": 71,
   "id": "0d0424c8",
   "metadata": {},
   "outputs": [
    {
     "data": {
      "text/plain": [
       "[1, 2, 3, 4, 5, 6, 7, 8, 9, 10, 11, 12, 13, 14, 15, 16, 17, 18, 19]"
      ]
     },
     "execution_count": 71,
     "metadata": {},
     "output_type": "execute_result"
    }
   ],
   "source": [
    "a=np.arange(1,20)\n",
    "a=a.tolist()\n",
    "a"
   ]
  },
  {
   "cell_type": "code",
   "execution_count": 76,
   "id": "e879ecc9",
   "metadata": {},
   "outputs": [
    {
     "data": {
      "text/plain": [
       "[1,\n",
       " 2,\n",
       " 3,\n",
       " 4,\n",
       " 5,\n",
       " 6,\n",
       " 7,\n",
       " 8,\n",
       " 9,\n",
       " 10,\n",
       " 11,\n",
       " 12,\n",
       " 13,\n",
       " 14,\n",
       " 15,\n",
       " 16,\n",
       " 17,\n",
       " 18,\n",
       " 19,\n",
       " 80,\n",
       " 90,\n",
       " -10,\n",
       " -20]"
      ]
     },
     "execution_count": 76,
     "metadata": {},
     "output_type": "execute_result"
    }
   ],
   "source": [
    "a.append(-20)\n",
    "a"
   ]
  },
  {
   "cell_type": "code",
   "execution_count": 77,
   "id": "b8e852e7",
   "metadata": {
    "scrolled": true
   },
   "outputs": [
    {
     "name": "stderr",
     "output_type": "stream",
     "text": [
      "C:\\Users\\2112161\\Anaconda3\\lib\\site-packages\\seaborn\\_decorators.py:36: FutureWarning: Pass the following variable as a keyword arg: x. From version 0.12, the only valid positional argument will be `data`, and passing other arguments without an explicit keyword will result in an error or misinterpretation.\n",
      "  warnings.warn(\n"
     ]
    },
    {
     "data": {
      "text/plain": [
       "<AxesSubplot:>"
      ]
     },
     "execution_count": 77,
     "metadata": {},
     "output_type": "execute_result"
    },
    {
     "data": {
      "image/png": "[encoded data removed]",
      "text/plain": [
       "<Figure size 432x288 with 1 Axes>"
      ]
     },
     "metadata": {
      "needs_background": "light"
     },
     "output_type": "display_data"
    }
   ],
   "source": [
    "sb.boxplot(a)"
   ]
  },
  {
   "cell_type": "code",
   "execution_count": null,
   "id": "92f220c2",
   "metadata": {},
   "outputs": [],
   "source": [
    "#outlier u had doubt refer https://www.youtube.com/watch?v=Lln1PKgGr_M&list=PLKnIA16_Rmvbr7zKYQuBfsVkjoLcJgxHH&index=41"
   ]
  },
  {
   "cell_type": "code",
   "execution_count": 79,
   "id": "3c04a05f",
   "metadata": {},
   "outputs": [],
   "source": [
    "data=[1,2,3,7,2,7,102,5,23,150,9,7,13,24,14,2,14,10,190]"
   ]
  },
  {
   "cell_type": "markdown",
   "id": "523b2384",
   "metadata": {},
   "source": [
    "#detect outliers\n",
    "a.using normal dist\n",
    "if the value is outside +or- (3*Std) then that value is outlier i.e z score methid\n",
    "maths guys found that mean+or- 1std contains 68%,mean+or-2td has 95% values and  mean+or-3std has 99.7% values\n",
    "so values>mean+or-3std is considerd as outlier or of z>3 or z<3 its oulier\n",
    "but main thing is the dataset must be normally distributed(so chec kthis first then apply zscore)\n",
    "once detected treat using triiming(removeing them from data set) or capping(refer video)\n",
    "\n",
    "\n",
    "b.if data has skewed distribution then using iqr method \n",
    "c.using percentile method"
   ]
  },
  {
   "cell_type": "code",
   "execution_count": 62,
   "id": "ba7121f3",
   "metadata": {
    "scrolled": true
   },
   "outputs": [
    {
     "name": "stderr",
     "output_type": "stream",
     "text": [
      "C:\\Users\\2112161\\Anaconda3\\lib\\site-packages\\seaborn\\distributions.py:2619: FutureWarning: `distplot` is a deprecated function and will be removed in a future version. Please adapt your code to use either `displot` (a figure-level function with similar flexibility) or `histplot` (an axes-level function for histograms).\n",
      "  warnings.warn(msg, FutureWarning)\n"
     ]
    },
    {
     "data": {
      "text/plain": [
       "<seaborn.axisgrid.FacetGrid at 0x1c89c63a880>"
      ]
     },
     "execution_count": 62,
     "metadata": {},
     "output_type": "execute_result"
    },
    {
     "data": {
      "image/png": "[encoded data removed]",
      "text/plain": [
       "<Figure size 360x216 with 1 Axes>"
      ]
     },
     "metadata": {
      "needs_background": "light"
     },
     "output_type": "display_data"
    },
    {
     "data": {
      "image/png": "[encoded data removed]",
      "text/plain": [
       "<Figure size 360x360 with 1 Axes>"
      ]
     },
     "metadata": {
      "needs_background": "light"
     },
     "output_type": "display_data"
    }
   ],
   "source": [
    "plt.rcParams['figure.figsize']=(5,3)\n",
    "sb.distplot(data)\n",
    "sb.displot(data,kind='kde')#this is skewed distribution\n",
    "\n"
   ]
  },
  {
   "cell_type": "code",
   "execution_count": 86,
   "id": "60c9a309",
   "metadata": {},
   "outputs": [
    {
     "data": {
      "text/plain": [
       "2.098135476451102"
      ]
     },
     "execution_count": 86,
     "metadata": {},
     "output_type": "execute_result"
    }
   ],
   "source": [
    "#to check skewness\n",
    "'''\n",
    "skewness = 0 : normally distributed.\n",
    "skewness > 0 : more weight in the left tail of the distribution.\n",
    "skewness < 0 : more weight in the right tail of the distribution. \n",
    "'''\n",
    "from scipy.stats import skew\n",
    "skew(data)#more weight on left as above diagram"
   ]
  },
  {
   "cell_type": "code",
   "execution_count": 67,
   "id": "00dc6279",
   "metadata": {},
   "outputs": [
    {
     "name": "stdout",
     "output_type": "stream",
     "text": [
      "4.0 18.5\n"
     ]
    },
    {
     "data": {
      "text/plain": [
       "array([ 4. , 18.5])"
      ]
     },
     "execution_count": 67,
     "metadata": {},
     "output_type": "execute_result"
    }
   ],
   "source": [
    "#for skewed data use iqr method\n",
    "q1=np.percentile(data,25) # or np.percentile(data,[25,75])\n",
    "q3=np.percentile(data,75)\n",
    "print(q1,q3)\n",
    "np.percentile(data,[25,75])"
   ]
  },
  {
   "cell_type": "code",
   "execution_count": 68,
   "id": "2b72fbed",
   "metadata": {},
   "outputs": [
    {
     "name": "stdout",
     "output_type": "stream",
     "text": [
      "-17.75 25.75\n"
     ]
    }
   ],
   "source": [
    "minv=q1-(1.5*(q3-q1))\n",
    "maxv=q1+(1.5*(q3-q1))\n",
    "print(minv,maxv)"
   ]
  },
  {
   "cell_type": "code",
   "execution_count": 70,
   "id": "95003706",
   "metadata": {},
   "outputs": [
    {
     "data": {
      "text/plain": [
       "[102, 150, 190]"
      ]
     },
     "execution_count": 70,
     "metadata": {},
     "output_type": "execute_result"
    }
   ],
   "source": [
    "out=[]\n",
    "for i in data:\n",
    "    if i<minv or i>maxv:\n",
    "        out.append(i)\n",
    "\n",
    "out#now its coorect"
   ]
  },
  {
   "cell_type": "code",
   "execution_count": 82,
   "id": "6313aad1",
   "metadata": {},
   "outputs": [
    {
     "name": "stdout",
     "output_type": "stream",
     "text": [
      "[1, 2, 3, 7, 2, 7, 5, 23, 9, 7, 13, 24, 14, 2, 14, 10]\n",
      "[1, 2, 3, 7, 2, 7, 102, 5, 23, 150, 9, 7, 13, 24, 14, 2, 14, 10, 190]\n"
     ]
    }
   ],
   "source": [
    "#to handle them same trimming or capping\n",
    "#triming\n",
    "data1=data.copy()\n",
    "for i in out:\n",
    "    data1.remove(i)\n",
    "    \n",
    "print(data1)\n",
    "print(data)\n",
    "    \n",
    "    "
   ]
  },
  {
   "cell_type": "code",
   "execution_count": 121,
   "id": "02d698d2",
   "metadata": {},
   "outputs": [
    {
     "data": {
      "text/plain": [
       "[1.0,\n",
       " 2.0,\n",
       " 3.0,\n",
       " 7.0,\n",
       " 2.0,\n",
       " 7.0,\n",
       " 25.75,\n",
       " 5.0,\n",
       " 23.0,\n",
       " 25.75,\n",
       " 9.0,\n",
       " 7.0,\n",
       " 13.0,\n",
       " 24.0,\n",
       " 14.0,\n",
       " 2.0,\n",
       " 14.0,\n",
       " 10.0,\n",
       " 25.75]"
      ]
     },
     "execution_count": 121,
     "metadata": {},
     "output_type": "execute_result"
    }
   ],
   "source": [
    "#capping\n",
    "data2=data.copy()\n",
    "data2=list(np.where(data2<minv,minv,np.where(data2>maxv,maxv,data2)))\n",
    "data2"
   ]
  },
  {
   "cell_type": "code",
   "execution_count": 127,
   "id": "e877f881",
   "metadata": {},
   "outputs": [
    {
     "name": "stderr",
     "output_type": "stream",
     "text": [
      "C:\\Users\\2112161\\Anaconda3\\lib\\site-packages\\seaborn\\distributions.py:2619: FutureWarning: `distplot` is a deprecated function and will be removed in a future version. Please adapt your code to use either `displot` (a figure-level function with similar flexibility) or `histplot` (an axes-level function for histograms).\n",
      "  warnings.warn(msg, FutureWarning)\n",
      "C:\\Users\\2112161\\Anaconda3\\lib\\site-packages\\seaborn\\_decorators.py:36: FutureWarning: Pass the following variable as a keyword arg: x. From version 0.12, the only valid positional argument will be `data`, and passing other arguments without an explicit keyword will result in an error or misinterpretation.\n",
      "  warnings.warn(\n",
      "C:\\Users\\2112161\\Anaconda3\\lib\\site-packages\\seaborn\\distributions.py:2619: FutureWarning: `distplot` is a deprecated function and will be removed in a future version. Please adapt your code to use either `displot` (a figure-level function with similar flexibility) or `histplot` (an axes-level function for histograms).\n",
      "  warnings.warn(msg, FutureWarning)\n",
      "C:\\Users\\2112161\\Anaconda3\\lib\\site-packages\\seaborn\\_decorators.py:36: FutureWarning: Pass the following variable as a keyword arg: x. From version 0.12, the only valid positional argument will be `data`, and passing other arguments without an explicit keyword will result in an error or misinterpretation.\n",
      "  warnings.warn(\n",
      "C:\\Users\\2112161\\Anaconda3\\lib\\site-packages\\seaborn\\distributions.py:2619: FutureWarning: `distplot` is a deprecated function and will be removed in a future version. Please adapt your code to use either `displot` (a figure-level function with similar flexibility) or `histplot` (an axes-level function for histograms).\n",
      "  warnings.warn(msg, FutureWarning)\n",
      "C:\\Users\\2112161\\Anaconda3\\lib\\site-packages\\seaborn\\_decorators.py:36: FutureWarning: Pass the following variable as a keyword arg: x. From version 0.12, the only valid positional argument will be `data`, and passing other arguments without an explicit keyword will result in an error or misinterpretation.\n",
      "  warnings.warn(\n"
     ]
    },
    {
     "data": {
      "image/png": "[encoded data removed]",
      "text/plain": [
       "<Figure size 504x720 with 6 Axes>"
      ]
     },
     "metadata": {
      "needs_background": "light"
     },
     "output_type": "display_data"
    },
    {
     "name": "stdout",
     "output_type": "stream",
     "text": [
      "orig data skews 2.098135476451102\n",
      "trim data skews 0.8982067273523449\n",
      "capped data skews 0.5275756900046771\n"
     ]
    }
   ],
   "source": [
    "plt.rcParams['figure.figsize']=(7,10)\n",
    "plt.subplot(3,2,1)\n",
    "sb.distplot(data,label='orig data')\n",
    "plt.legend()\n",
    "plt.subplot(3,2,2)\n",
    "sb.boxplot(data)\n",
    "plt.subplot(3,2,3)\n",
    "sb.distplot(data1,label='trimmed data')\n",
    "plt.legend()\n",
    "plt.subplot(3,2,4)\n",
    "sb.boxplot(data1)\n",
    "plt.subplot(3,2,5)\n",
    "sb.distplot(data2,label='capped data')\n",
    "plt.legend()\n",
    "plt.subplot(3,2,6)\n",
    "sb.boxplot(data2)\n",
    "\n",
    "plt.show()\n",
    "#seel below outlier removed and skewness reduced\n",
    "print('orig data skews',skew(data))\n",
    "print('trim data skews',skew(data1))\n",
    "print('capped data skews',skew(data2))"
   ]
  },
  {
   "cell_type": "code",
   "execution_count": 135,
   "id": "48e14f3b",
   "metadata": {},
   "outputs": [
    {
     "data": {
      "text/plain": [
       "25.75"
      ]
     },
     "execution_count": 135,
     "metadata": {},
     "output_type": "execute_result"
    }
   ],
   "source": [
    "np.max(data2)"
   ]
  },
  {
   "cell_type": "markdown",
   "id": "8e5d8675",
   "metadata": {},
   "source": [
    "#linear reg new lect\n",
    "https://www.youtube.com/watch?v=UZPfbG0jNec&list=PLKnIA16_Rmvbr7zKYQuBfsVkjoLcJgxHH&index=50"
   ]
  },
  {
   "cell_type": "markdown",
   "id": "be8e6b06",
   "metadata": {},
   "source": [
    "FOR CLASSIFICATION LIK LOG reg metrics is accuracy score and confusion matrix refer ml basics copy 1"
   ]
  },
  {
   "cell_type": "markdown",
   "id": "e78f3ed5",
   "metadata": {},
   "source": [
    "logistic reg\n",
    "https://www.youtube.com/watch?v=XNXzVfItWGY&list=PLKnIA16_Rmvbr7zKYQuBfsVkjoLcJgxHH&index=69\n",
    "logistic regression is apllied to data which is linearly seperable.jus ike linear reg is draws a line that seperates the two calsses(for binarrry class apply log reg)\n",
    "eq of logistic re is ax1+bx2+c=0 in 2d in 3d its ax1+bx2+cx3+d=0 where c and d are y intercept"
   ]
  },
  {
   "cell_type": "code",
   "execution_count": null,
   "id": "f0629dfc",
   "metadata": {},
   "outputs": [],
   "source": []
  },
  {
   "cell_type": "code",
   "execution_count": null,
   "id": "51b4d7ea",
   "metadata": {},
   "outputs": [],
   "source": []
  },
  {
   "cell_type": "code",
   "execution_count": null,
   "id": "3f660ac8",
   "metadata": {},
   "outputs": [],
   "source": []
  },
  {
   "cell_type": "code",
   "execution_count": null,
   "id": "33c4aefc",
   "metadata": {},
   "outputs": [],
   "source": []
  },
  {
   "cell_type": "code",
   "execution_count": null,
   "id": "4823d2ff",
   "metadata": {},
   "outputs": [],
   "source": []
  },
  {
   "cell_type": "code",
   "execution_count": null,
   "id": "f8773d52",
   "metadata": {},
   "outputs": [],
   "source": []
  },
  {
   "cell_type": "code",
   "execution_count": null,
   "id": "5cd2917a",
   "metadata": {},
   "outputs": [],
   "source": []
  },
  {
   "cell_type": "code",
   "execution_count": null,
   "id": "18be9216",
   "metadata": {},
   "outputs": [],
   "source": []
  },
  {
   "cell_type": "code",
   "execution_count": null,
   "id": "2c700040",
   "metadata": {},
   "outputs": [],
   "source": []
  },
  {
   "cell_type": "code",
   "execution_count": 9,
   "id": "cd8dcd7b",
   "metadata": {},
   "outputs": [
    {
     "name": "stdout",
     "output_type": "stream",
     "text": [
      "2382\n"
     ]
    }
   ],
   "source": [
    "x=[23,82]\n",
    "print((''.join(list(map(str,x)))))"
   ]
  },
  {
   "cell_type": "code",
   "execution_count": 10,
   "id": "99e98d13",
   "metadata": {},
   "outputs": [
    {
     "data": {
      "text/plain": [
       "'2382'"
      ]
     },
     "execution_count": 10,
     "metadata": {},
     "output_type": "execute_result"
    }
   ],
   "source": [
    "''.join(list(map(str,x)))"
   ]
  },
  {
   "cell_type": "code",
   "execution_count": 11,
   "id": "d0831593",
   "metadata": {},
   "outputs": [
    {
     "name": "stdout",
     "output_type": "stream",
     "text": [
      "amb\n"
     ]
    }
   ],
   "source": [
    "print('amb')"
   ]
  },
  {
   "cell_type": "code",
   "execution_count": 13,
   "id": "7533c2fc",
   "metadata": {},
   "outputs": [
    {
     "data": {
      "text/plain": [
       "['23', '82']"
      ]
     },
     "execution_count": 13,
     "metadata": {},
     "output_type": "execute_result"
    }
   ],
   "source": [
    "list(map(str,x))"
   ]
  },
  {
   "cell_type": "code",
   "execution_count": 14,
   "id": "de855c67",
   "metadata": {},
   "outputs": [
    {
     "data": {
      "text/plain": [
       "2.3333333333333335"
      ]
     },
     "execution_count": 14,
     "metadata": {},
     "output_type": "execute_result"
    }
   ],
   "source": [
    "7/3"
   ]
  },
  {
   "cell_type": "code",
   "execution_count": 15,
   "id": "14461a24",
   "metadata": {},
   "outputs": [
    {
     "data": {
      "text/plain": [
       "3.6666666666666665"
      ]
     },
     "execution_count": 15,
     "metadata": {},
     "output_type": "execute_result"
    }
   ],
   "source": [
    "11/3"
   ]
  },
  {
   "cell_type": "code",
   "execution_count": 27,
   "id": "2cdbd123",
   "metadata": {},
   "outputs": [
    {
     "name": "stdout",
     "output_type": "stream",
     "text": [
      "[3. 0. 4.]\n",
      "[1.         2.33333333 3.66666667]\n"
     ]
    },
    {
     "data": {
      "text/plain": [
       "array([[1, 0, 2],\n",
       "       [3, 0, 4],\n",
       "       [5, 0, 6]])"
      ]
     },
     "execution_count": 27,
     "metadata": {},
     "output_type": "execute_result"
    }
   ],
   "source": [
    "a=np.array([[1,0,2],[3,0,4],[5,0,6]])\n",
    "print(np.mean(a,axis=0))\n",
    "print(np.mean(a,axis=1))\n",
    "a"
   ]
  },
  {
   "cell_type": "code",
   "execution_count": 19,
   "id": "95a372dd",
   "metadata": {},
   "outputs": [
    {
     "name": "stdout",
     "output_type": "stream",
     "text": [
      "{1: [2, 1], 4: [2, 6], 6: [2], 5: [7]}\n"
     ]
    }
   ],
   "source": [
    "t=[(2,1),(1,1),(2,4),(2,6),(7,5),(6,4)]\n",
    "result={}\n",
    "for i,j in t:\n",
    "    result.setdefault(j,[]).append(i)\n",
    "print(result)"
   ]
  },
  {
   "cell_type": "code",
   "execution_count": 20,
   "id": "023472bc",
   "metadata": {},
   "outputs": [
    {
     "ename": "SyntaxError",
     "evalue": "Missing parentheses in call to 'print'. Did you mean print(result)? (12/ipykernel_8340/2834153870.py, line 1)",
     "output_type": "error",
     "traceback": [
      "\u001b[1;36m  File \u001b[1;32m\"C:\\Users\\2112161\\AppData\\Local\\Temp\\12/ipykernel_8340/2834153870.py\"\u001b[1;36m, line \u001b[1;32m1\u001b[0m\n\u001b[1;33m    print result\u001b[0m\n\u001b[1;37m          ^\u001b[0m\n\u001b[1;31mSyntaxError\u001b[0m\u001b[1;31m:\u001b[0m Missing parentheses in call to 'print'. Did you mean print(result)?\n"
     ]
    }
   ],
   "source": [
    "print result"
   ]
  },
  {
   "cell_type": "code",
   "execution_count": 22,
   "id": "f0f576d1",
   "metadata": {},
   "outputs": [
    {
     "data": {
      "text/plain": [
       "(2, 1)"
      ]
     },
     "execution_count": 22,
     "metadata": {},
     "output_type": "execute_result"
    }
   ],
   "source": [
    "t [0]"
   ]
  },
  {
   "cell_type": "code",
   "execution_count": 23,
   "id": "0165c667",
   "metadata": {},
   "outputs": [],
   "source": [
    "a=b=7"
   ]
  },
  {
   "cell_type": "code",
   "execution_count": 24,
   "id": "e285cbde",
   "metadata": {},
   "outputs": [
    {
     "name": "stdout",
     "output_type": "stream",
     "text": [
      "[[0 0 0]\n",
      " [0 5 6]\n",
      " [7 8 9]]\n"
     ]
    }
   ],
   "source": [
    "A=np.array([[1,2,3],[4,5,6],[7,8,9]])\n",
    "B=np.array([[9,8,7],[6,5,4],[3,2,1]])\n",
    "M=A>=B\n",
    "print(M*A)"
   ]
  },
  {
   "cell_type": "code",
   "execution_count": 3,
   "id": "0b29def5",
   "metadata": {},
   "outputs": [
    {
     "name": "stdout",
     "output_type": "stream",
     "text": [
      "[[False False False]\n",
      " [False  True  True]\n",
      " [ True  True  True]]\n",
      "[[9 8 7]\n",
      " [6 5 4]\n",
      " [3 2 1]]\n"
     ]
    }
   ],
   "source": [
    "A=np.array([[1,2,3],[4,5,6],[7,8,9]])\n",
    "B=np.array([[9,8,7],[6,5,4],[3,2,1]])\n",
    "M=A>=B\n",
    "print(M)\n",
    "A\n",
    "print(B)"
   ]
  },
  {
   "cell_type": "code",
   "execution_count": null,
   "id": "a3327118",
   "metadata": {},
   "outputs": [],
   "source": []
  }
 ],
 "metadata": {
  "kernelspec": {
   "display_name": "Python 3 (ipykernel)",
   "language": "python",
   "name": "python3"
  },
  "language_info": {
   "codemirror_mode": {
    "name": "ipython",
    "version": 3
   },
   "file_extension": ".py",
   "mimetype": "text/x-python",
   "name": "python",
   "nbconvert_exporter": "python",
   "pygments_lexer": "ipython3",
   "version": "3.9.7"
  }
 },
 "nbformat": 4,
 "nbformat_minor": 5
}
